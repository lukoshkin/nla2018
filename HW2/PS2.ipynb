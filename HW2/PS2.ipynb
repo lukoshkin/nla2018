{
 "cells": [
  {
   "cell_type": "markdown",
   "metadata": {},
   "source": [
    "# Problem set 2 \n",
    "\n",
    "## 155 pts\n",
    "\n",
    "## For problems 1, 2, 4: all functions that you are asked to implement, you have to complete in separate file ```pset2.py```, where we provide signatures of the required functions . Also only this ```py```-file you have to submit in the bot to check correctness of your implementations.\n",
    "\n",
    "## For problem 3: see instructions in text"
   ]
  },
  {
   "cell_type": "markdown",
   "metadata": {},
   "source": [
    "## Problem 1 (LU decomposition) 35 pts"
   ]
  },
  {
   "cell_type": "markdown",
   "metadata": {},
   "source": [
    "### 1. LU for band matrices \n",
    "\n",
    "The complexity to find an LU decomposition of a dense $n\\times n$ matrix is $\\mathcal{O}(n^3)$.\n",
    "Significant reduction in complexity can be achieved if the matrix has a certain structure, e.g. it is sparse. \n",
    "In the following task we consider an important example of $LU$ for a special type of sparse matrices –– band matrices with the bandwidth $m$ equal to 3 or 5 which called tridiagonal and pentadiagonal respectively.\n",
    "\n",
    "- (5 pts) Write a function ```band_lu(diag_broadcast, n)``` which computes LU decomposition for tridiagonal or pentadiagonal matrix with given diagonal values. \n",
    "For example, input parametres ```(diag_broadcast = [1,-2,1], n = 4)``` mean that we need to find LU decomposition for the triangular matrix of the form:\n",
    "\n",
    "$$A = \\begin{pmatrix}\n",
    "-2 & 1 & 0 & 0\\\\\n",
    "1 & -2 & 1 & 0 \\\\\n",
    "0 & 1 & -2 & 1 \\\\\n",
    "0 & 0 & 1 & -2 \\\\\n",
    "\\end{pmatrix}.$$\n",
    "\n",
    "As an output it is considered to make ```L``` and ```U``` - 2D arrays representing diagonals in factors $L$ (```L[0]``` keeps first lower diagonal, ```L[1]``` keeps second lower, ...), and $U$ (```U[:,0]``` keeps main diagonal, ```U[:,1]``` keeps first upper, ...). More details you can find in comments to the corresponding function in ```pset2.py``` \n",
    "- (2 pts) Compare execution time of the band LU decomposition using standard function from ```scipy```, i.e. which takes the whole matrix and does not know about its special structure, and band decomposition of yours implementation. Comment on the results."
   ]
  },
  {
   "cell_type": "markdown",
   "metadata": {},
   "source": [
    "```python\n",
    "#General LU-decomposition of a square matrix without pivoting\n",
    "def recursive_lu(A):\n",
    "    A_copy = np.copy(A)\n",
    "    L = np.identity(A.shape[0])\n",
    "    U = np.zeros_like(A)\n",
    "    \n",
    "    for i in range(n-1):\n",
    "        U[i,i:] = A_copy[i,i:]    # u12\n",
    "        L[i+1:,i] = A_copy[i+1:,i] / A_copy[i,i]   # l21\n",
    "        A_copy[i+1:,i+1:] -= np.outer(L[i+1:,i],U[i,i+1:])     # l22 u22\n",
    "    U[n-1,n-1] = A_copy[n-1,n-1]\n",
    "    return L,U\n",
    "```"
   ]
  },
  {
   "cell_type": "code",
   "execution_count": 1,
   "metadata": {},
   "outputs": [],
   "source": [
    "# Implement function in the ```pset2.py``` file\n",
    "from pset2 import band_lu\n",
    "from scipy.sparse import diags # can be used with broadcasting of scalars if desired dimensions are large\n",
    "from scipy.linalg import lu\n",
    "import numpy as np\n",
    "\n",
    "# Your code is here"
   ]
  },
  {
   "cell_type": "code",
   "execution_count": 102,
   "metadata": {},
   "outputs": [],
   "source": [
    "n_elems = 8192\n",
    "diag_broadcast = np.array([20,1,2,1,1],dtype=float)"
   ]
  },
  {
   "cell_type": "code",
   "execution_count": 103,
   "metadata": {
    "scrolled": true
   },
   "outputs": [
    {
     "name": "stdout",
     "output_type": "stream",
     "text": [
      "20.5 ms ± 76.7 µs per loop (mean ± std. dev. of 7 runs, 10 loops each)\n"
     ]
    }
   ],
   "source": [
    "%timeit band_lu(diag_broadcast,n_elems)"
   ]
  },
  {
   "cell_type": "code",
   "execution_count": 104,
   "metadata": {},
   "outputs": [
    {
     "name": "stdout",
     "output_type": "stream",
     "text": [
      "7.35 s ± 481 ms per loop (mean ± std. dev. of 7 runs, 1 loop each)\n"
     ]
    }
   ],
   "source": [
    "k_diags = len(diag_broadcast)\n",
    "offsets = [i-(k_diags - 1) // 2 for i in range(k_diags)]\n",
    "A = diags(diag_broadcast,offsets,shape=(n_elems,n_elems)).toarray()\n",
    "%timeit lu(A)"
   ]
  },
  {
   "cell_type": "markdown",
   "metadata": {},
   "source": [
    "***Obviously, a priori information about the structure of an input almost always gives a significant speadup in the computation. However, wining in one - losing in the other. Here we lose in the generality of the input. This brings us the opportunity not to perform extra operations.***   \n",
    "$O(n^3)$ - time complexity of the standard algorithm  \n",
    "$O(n)$ - for my algorithm"
   ]
  },
  {
   "cell_type": "markdown",
   "metadata": {},
   "source": [
    "### 2. Completing the proof of existence of LU \n",
    "\n",
    "Some details in lecture proofs about $LU$ were omitted. Let us complete them here.\n",
    "- (5 pts) Prove that if $LU$ decomposition exists, then matrix is strictly regular.\n",
    "- (5 pts) Prove that if $A$ is a strictly regular matrix, then $A_1 = D - \\frac 1a b c^T$ (see lectures for notations) is also strictly regular."
   ]
  },
  {
   "cell_type": "code",
   "execution_count": 1,
   "metadata": {},
   "outputs": [],
   "source": [
    "# Your solution is here"
   ]
  },
  {
   "cell_type": "markdown",
   "metadata": {},
   "source": [
    "◻ \n",
    "⇒ (If there is an LU-decomposition, then the matrix is strictly regular)\n",
    "\n",
    "This follows from the fact that to get a minor you multiply a corresponding submatrix of 𝐿 by a corresponding submatrix of 𝑈, and they are non-singular (since non-singularity of triangular matrices is equivalent to the fact that their diagonal elements are not equal to zero. *A lower-triangular submatrix has units on its diagonal, and the diagonal entries of an upper-triangular submatrix are nonzero since they are among the nonzero diagonal entries of U*). $\\blacksquare$\n",
    "\n"
   ]
  },
  {
   "cell_type": "code",
   "execution_count": null,
   "metadata": {},
   "outputs": [],
   "source": []
  },
  {
   "cell_type": "markdown",
   "metadata": {},
   "source": [
    "$\\square$  \n",
    "Consider the block form\n",
    "$$\n",
    "    A = \\begin{pmatrix}\n",
    "          a & c^{\\top} \\\\\n",
    "          b & D\n",
    "    \\end{pmatrix},\n",
    "$$\n",
    "\n",
    "where $a \\neq 0$ (from the strict regularity of matrix), and $D$ is $(n-1) \\times (n-1)$, \n",
    "  \n",
    "One can note that the $i$-th principal submatrix of the matrix A may be written in the same block form:  \n",
    "\n",
    "$$\n",
    "    A^{(i)} = \\begin{pmatrix}\n",
    "          a & {c^{\\top}}^{(i)}\\\\\n",
    "          b^{(i)} & D^{(i)}\n",
    "    \\end{pmatrix}\n",
    "$$\n",
    "\n",
    "Where $\\bullet^{(i)}$ denotes that we take firt $i$ rows and $i$ columns if it is a matrix or first $i$ elements if it is vector-like. Fix some $i$ and apply the \"block elimination\" for $A^{(i)}$:\n",
    "\n",
    "$$\n",
    "    \\begin{pmatrix}\n",
    "        1 & 0 \\\\\n",
    "        -z & I\n",
    "        \\end{pmatrix}\n",
    "        \\begin{pmatrix}\n",
    "        a & c^{\\top} \\\\\n",
    "        b & D \n",
    "        \\end{pmatrix}=\n",
    "        \\begin{pmatrix}\n",
    "        a & c^{\\top} \\\\\n",
    "        0 & A_1\n",
    "    \\end{pmatrix},\n",
    "$$\n",
    "\n",
    "where $z = \\frac{b}{a}, \\quad A_1 = D - \\frac{1}{a} b c^{\\top}$.  \n",
    "\n",
    "$$\n",
    "   0\\neq\\det(A^{(i)}) = \\underbrace{a}_{\\neq\\;0} \\det(A_1^{(i)}) \\quad\\Rightarrow\\quad \\det(A_1^{(i)}) \\neq 0\n",
    "$$\n",
    "\n",
    "$A_1^{(i)}$ - the $i$-th principal matrix of $A_1$\n",
    "$\\blacksquare$  \n"
   ]
  },
  {
   "cell_type": "markdown",
   "metadata": {},
   "source": [
    "### 3. Stability of LU \n",
    "\n",
    "Let\n",
    "$A = \\begin{pmatrix}\n",
    "\\varepsilon & 1 & 0\\\\\n",
    "1 & 1 & 1 \\\\\n",
    "0 & 1 & 1\n",
    "\\end{pmatrix}.$ \n",
    "* (5 pts) Find analytically LU decomposition with and without pivoting for the matrix $A$.\n",
    "* (3 pts) Explain, why can the LU decomposition fail to approximate factors $L$ and $U$ for $|\\varepsilon|\\ll 1$ in computer arithmetic?"
   ]
  },
  {
   "cell_type": "code",
   "execution_count": 2,
   "metadata": {},
   "outputs": [],
   "source": [
    "# Your solution is here"
   ]
  },
  {
   "cell_type": "markdown",
   "metadata": {},
   "source": [
    "Without pivoting\n",
    "\n",
    "$$\n",
    "    \\begin{pmatrix}\n",
    "    \\varepsilon & 1 & 0\\\\\n",
    "    1 & 1 & 1 \\\\\n",
    "    0 & 1 & 1\n",
    "    \\end{pmatrix}\n",
    "    =\n",
    "    \\begin{pmatrix}\n",
    "    1 &  & \\\\\n",
    "    l_{21} & 1 &  \\\\\n",
    "    l_{31} & l_{32} & 1\n",
    "    \\end{pmatrix}\n",
    "    \\begin{pmatrix}\n",
    "    u_{11} & u_{12} & u_{13}\\\\\n",
    "     & u_{22} & u_{23} \\\\\n",
    "     &  & u_{33}\n",
    "    \\end{pmatrix}\n",
    "$$\n",
    "\n",
    "$$\n",
    "    A \\;=\\;\n",
    "    \\begin{pmatrix}\n",
    "    1 &  & \\\\\n",
    "    1/\\varepsilon & 1 &  \\\\\n",
    "    0 & l_{32} & 1\n",
    "    \\end{pmatrix}\n",
    "    \\begin{pmatrix}\n",
    "    \\varepsilon & 1 & 0\\\\\n",
    "     & u_{22} & u_{23} \\\\\n",
    "     &  & u_{33}\n",
    "    \\end{pmatrix}\n",
    "$$\n",
    "\n",
    "$$\n",
    "    \\begin{pmatrix}\n",
    "    1 & 1\\\\\n",
    "    1 & 1\n",
    "    \\end{pmatrix}\n",
    "    -\n",
    "    \\begin{pmatrix}\n",
    "        1/\\varepsilon\\\\\n",
    "        0\n",
    "    \\end{pmatrix}\n",
    "    \\big( 1 \\quad 0\\big)\n",
    "    =\n",
    "    \\begin{pmatrix}\n",
    "    1 & 0 \\\\\n",
    "    l_{32} & 1\n",
    "    \\end{pmatrix}\n",
    "    \\begin{pmatrix}\n",
    "    u_{22} & u_{23} \\\\\n",
    "     0 &  u_{33}\n",
    "    \\end{pmatrix}\n",
    "$$\n",
    "\n",
    "$$\n",
    "    \\begin{pmatrix}\n",
    "    1-1/\\varepsilon & 1\\\\\n",
    "    1 & 1\n",
    "    \\end{pmatrix}\n",
    "    =\n",
    "    \\begin{pmatrix}\n",
    "    1 & 0 \\\\\n",
    "    l_{32} & 1\n",
    "    \\end{pmatrix}\n",
    "    \\begin{pmatrix}\n",
    "    u_{22} & u_{23} \\\\\n",
    "     0 &  u_{33}\n",
    "    \\end{pmatrix}\n",
    "$$\n",
    "\n",
    "$$\n",
    "    \\begin{pmatrix}\n",
    "    1-1/\\varepsilon & 1\\\\\n",
    "    1 & 1\n",
    "    \\end{pmatrix}\n",
    "    =\n",
    "    \\begin{pmatrix}\n",
    "    1 & 0 \\\\\n",
    "    \\frac{1}{1-1/\\varepsilon} & 1\n",
    "    \\end{pmatrix}\n",
    "    \\begin{pmatrix}\n",
    "     1-1/\\varepsilon & 1\\\\\n",
    "     0 &  u_{33}\n",
    "    \\end{pmatrix}\n",
    "$$\n",
    "\n",
    "$$\n",
    "    u_{33} = 1 - \\frac{1}{1-1/\\varepsilon} \\cdot 1 = \\frac{1}{1-\\varepsilon}\n",
    "$$\n",
    "\n",
    "$$\n",
    "\\begin{pmatrix}\n",
    "    \\varepsilon & 1 & 0\\\\\n",
    "    1 & 1 & 1 \\\\\n",
    "    0 & 1 & 1\n",
    "    \\end{pmatrix}\n",
    "    =\n",
    "    \\begin{pmatrix}\n",
    "    1 &  & \\\\\n",
    "    \\frac{1}{\\varepsilon} & 1 &  \\\\\n",
    "    0 & \\frac{\\varepsilon}{\\varepsilon - 1} & 1\n",
    "    \\end{pmatrix}\n",
    "    \\begin{pmatrix}\n",
    "    \\varepsilon & 1 & 0\\\\\n",
    "     & \\frac{\\varepsilon - 1}{\\varepsilon} & 1\\\\\n",
    "     &  & \\frac{1}{1-\\varepsilon}\n",
    "    \\end{pmatrix}\n",
    "$$"
   ]
  },
  {
   "cell_type": "markdown",
   "metadata": {},
   "source": [
    "***In this method we have to divide elements by the number which is close to zero. This results in the addition of huge numbers, causing large rounding errors or we may even obtain infinity or nan which will interupt the execution of an algorithm.***"
   ]
  },
  {
   "cell_type": "markdown",
   "metadata": {},
   "source": [
    "With pivoting ($0\\lt\\varepsilon \\lt 1$)\n",
    "$$\n",
    "    P_1 A \\;=\\; \n",
    "    \\begin{pmatrix}\n",
    "         & 1 & \\\\\n",
    "        1 &  &  \\\\\n",
    "         &  & 1\n",
    "    \\end{pmatrix}\n",
    "    \\begin{pmatrix}\n",
    "        \\varepsilon & 1 & 0\\\\\n",
    "        1 & 1 & 1 \\\\\n",
    "        0 & 1 & 1\n",
    "    \\end{pmatrix}\n",
    "    \\;=\\;\n",
    "    \\begin{pmatrix}\n",
    "        1 & 1 & 1 \\\\\n",
    "        \\varepsilon & 1 & 0\\\\\n",
    "        0 & 1 & 1\n",
    "    \\end{pmatrix}\n",
    "$$\n",
    "\n",
    "$$\n",
    "    L_1(P_1A) \\;=\\;\n",
    "    \\begin{pmatrix}\n",
    "        1 &  & \\\\\n",
    "        -\\varepsilon & 1 &  \\\\\n",
    "         &  & 1\n",
    "    \\end{pmatrix}\n",
    "    \\begin{pmatrix}\n",
    "        1 & 1 & 1 \\\\\n",
    "        \\varepsilon & 1 & 0\\\\\n",
    "        0 & 1 & 1\n",
    "    \\end{pmatrix}\n",
    "    \\;=\\;\n",
    "    \\begin{pmatrix}\n",
    "        1 & 1 & 1 \\\\\n",
    "        0 & 1-\\varepsilon & -\\varepsilon\\\\\n",
    "        0 & 1 & 1\n",
    "    \\end{pmatrix}\n",
    "$$\n",
    "\n",
    "$$\n",
    "    P_2(L_1P_1A) \\;=\\;\n",
    "    \\begin{pmatrix}\n",
    "        1 &  & \\\\\n",
    "         &  & 1 \\\\\n",
    "         & 1 & \n",
    "    \\end{pmatrix}\n",
    "    \\begin{pmatrix}\n",
    "        1 & 1 & 1 \\\\\n",
    "         & 1-\\varepsilon & -\\varepsilon\\\\\n",
    "         & 1 & 1\n",
    "    \\end{pmatrix}\n",
    "    \\;=\\;\n",
    "    \\begin{pmatrix}\n",
    "        1 & 1 & 1 \\\\\n",
    "         & 1 & 1\\\\\n",
    "         & 1-\\varepsilon & -\\varepsilon\n",
    "    \\end{pmatrix}\n",
    "$$\n",
    "\n",
    "$$\n",
    "    L_2(P_2L_1P_1A) \\;=\\;\n",
    "    \\begin{pmatrix}\n",
    "        1 &  & \\\\\n",
    "         & 1 &  \\\\\n",
    "         & \\varepsilon-1 & 1\n",
    "    \\end{pmatrix}\n",
    "    \\begin{pmatrix}\n",
    "        1 & 1 & 1 \\\\\n",
    "         & 1 & 1\\\\\n",
    "         & 1-\\varepsilon & -\\varepsilon\n",
    "    \\end{pmatrix}\n",
    "    \\;=\\;\n",
    "    \\begin{pmatrix}\n",
    "        1 & 1 & 1 \\\\\n",
    "         & 1 & 1\\\\\n",
    "         & 0 & -1\n",
    "    \\end{pmatrix}\n",
    "$$\n",
    "\n",
    "Therefore, $\\quad U = \\begin{pmatrix}\n",
    "        1 & 1 & 1 \\\\\n",
    "         & 1 & 1\\\\\n",
    "         &  & -1\n",
    "    \\end{pmatrix}$\n",
    "$$\n",
    "    P = P_2P_1 \\;=\\;\n",
    "    \\begin{pmatrix}\n",
    "        1 &  & \\\\\n",
    "         &  & 1 \\\\\n",
    "         & 1 & \n",
    "    \\end{pmatrix}\n",
    "    \\begin{pmatrix}\n",
    "         & 1 & \\\\\n",
    "        1 &  &  \\\\\n",
    "         &  & 1\n",
    "    \\end{pmatrix}\n",
    "    \\;=\\;\n",
    "    \\begin{pmatrix}\n",
    "         & 1 & \\\\\n",
    "         &  & 1\\\\\n",
    "        1 &  & \n",
    "    \\end{pmatrix}\n",
    "$$\n",
    "\n",
    "$$\n",
    "    L_2P_2L_1P_1A = U\\\\\n",
    "    L_2(\\underbrace{P_2L_1P_2^{-1}}_{L'_1})P_2P_1A = U\\\\\n",
    "    \\text{for simple permutation $P_k$ (i.e. for that which involves 2 rows or 2 columns) } P_k = P_k^T = P_k^{-1},\\\\\n",
    "    \\text{thus } L'_1 = P_2L_1P_2\n",
    "$$\n",
    "$L'_1 \\;=\\; \\begin{pmatrix}\n",
    "        1 &  & \\\\\n",
    "         &  & 1 \\\\\n",
    "         & 1 & \n",
    "    \\end{pmatrix}\n",
    "    \\begin{pmatrix}\n",
    "        1 &  & \\\\\n",
    "        -\\varepsilon & 1 &  \\\\\n",
    "         &  & 1\n",
    "    \\end{pmatrix}\n",
    "    \\begin{pmatrix}\n",
    "        1 &  & \\\\\n",
    "         &  & 1 \\\\\n",
    "         & 1 & \n",
    "    \\end{pmatrix}\n",
    "    \\;=\\;\n",
    "    \\begin{pmatrix}\n",
    "        1 &  & \\\\\n",
    "         & 1 &  \\\\\n",
    "        -\\varepsilon &  & 1\n",
    "    \\end{pmatrix}\n",
    "    $ \n",
    "is lower unitriangular. This result may be generalized for the case of higher dimnensions and for the structure\n",
    "of $L_k$ and $P_k$ presented in these calculations it may be proven that the unitriangularity of origin matrices is preserved.  \n",
    "$L = (L_2L'_1)^{-1}$  may be obtained by negating subdiagonal entries of the product of the matrices or by multiplying\n",
    "in the reverse order the matrices with negated subdiagonal entries  \n",
    "$L = \\begin{pmatrix}\n",
    "        1 &  & \\\\\n",
    "         & 1 &  \\\\\n",
    "        \\varepsilon & 1-\\varepsilon & 1\n",
    "    \\end{pmatrix}$\n",
    "    \n",
    "Eventually, we have \n",
    "\n",
    "$$\n",
    "    \\begin{pmatrix}\n",
    "         & 1 & \\\\\n",
    "         &  & 1\\\\\n",
    "        1 &  & \n",
    "    \\end{pmatrix}\n",
    "    \\begin{pmatrix}\n",
    "        \\varepsilon & 1 & 0\\\\\n",
    "        1 & 1 & 1 \\\\\n",
    "        0 & 1 & 1\n",
    "    \\end{pmatrix}\n",
    "    \\;=\\;\n",
    "    \\begin{pmatrix}\n",
    "        1 &  & \\\\\n",
    "        0 & 1 &  \\\\\n",
    "        \\varepsilon & 1-\\varepsilon & 1\n",
    "    \\end{pmatrix}\n",
    "    \\begin{pmatrix}\n",
    "        1 & 1 & 1 \\\\\n",
    "         & 1 & 1\\\\\n",
    "         &  & -1\n",
    "    \\end{pmatrix}\n",
    "$$"
   ]
  },
  {
   "cell_type": "markdown",
   "metadata": {},
   "source": [
    "### 4. Block LU \n",
    "\n",
    "Let $A = \\begin{bmatrix} A_{11} & A_{12} \\\\ A_{21} & A_{22} \\end{bmatrix}$ be a block matrix. The goal is to solve the linear system\n",
    "\n",
    "$$\n",
    "     \\begin{bmatrix} A_{11} & A_{12} \\\\ A_{21} & A_{22} \\end{bmatrix} \\begin{bmatrix} u_1 \\\\ u_2 \\end{bmatrix} = \\begin{bmatrix} f_1 \\\\ f_2 \\end{bmatrix}.\n",
    "$$\n",
    "\n",
    "* (2 pts) Using block elimination find matrix $S$ and right-hand side $\\hat{f_2}$ so that $u_2$ can be found from $S u_2 = \\hat{f_2}$. Note that the matrix $S$ is called <font color='red'> Schur complement </font> of the block $A_{11}$.\n",
    "* (4 pts) Using Schur complement properties prove that \n",
    "\n",
    "$$\\det(X+AB) = \\det(X)\\det(I+BX^{-1}A), $$\n",
    "\n",
    "\n",
    "where $X$ - nonsingular square matrix.\n",
    "* (4 pts) Let matrix $F \\in \\mathbb{R}^{m \\times n}$ and $G \\in \\mathbb{R}^{n \\times m}$. Prove that \n",
    "\n",
    "$$\\det(I_m - FG) = \\det(I_n - GF).$$"
   ]
  },
  {
   "cell_type": "code",
   "execution_count": 4,
   "metadata": {},
   "outputs": [],
   "source": [
    "# Your solution is here"
   ]
  },
  {
   "cell_type": "markdown",
   "metadata": {},
   "source": [
    "$$\n",
    "    \\left[\\begin{array}{cc}\n",
    "         I & \\\\\n",
    "         L_{21} & I\n",
    "    \\end{array}\\right]\n",
    "    \\left[\\begin{array}{cc}\n",
    "         U_{11} & U_{12}\\\\\n",
    "          & U_{22}\n",
    "    \\end{array}\\right]\n",
    "    =\n",
    "    \\left[\\begin{array}{cc}\n",
    "         A_{11} & A_{12}\\\\\n",
    "         A_{21} & A_{22}\n",
    "    \\end{array}\\right]\n",
    "$$\n",
    "\n",
    "Block matrix multiplication $\\quad\\rightarrow\\quad\n",
    "\\begin{aligned}U_{11} = A_{11},\\quad U_{12} = A_{12},\\quad \n",
    "    & L_{21}U_{11} = A_{21},\\quad L_{21}U_{12} + U_{22} = A_{22}\\\\\n",
    "    & L_{21} = A_{21}A_{11}^{-1} \\quad U_{22} = A_{22} - A_{21}A_{11}^{-1}A_{12}\n",
    "\\end{aligned}$\n",
    "            \n",
    "$$\n",
    "    \\left[\\begin{array}{cc}\n",
    "         I & \\\\\n",
    "         A_{21}A_{11}^{-1} & I\n",
    "    \\end{array}\\right]\n",
    "    \\left[\\begin{array}{cc}\n",
    "         A_{11} & A_{12}\\\\\n",
    "          & A_{22} - A_{21}A_{11}^{-1}A_{12}\n",
    "    \\end{array}\\right]\n",
    "    =\n",
    "    \\left[\\begin{array}{cc}\n",
    "         A_{11} & A_{12}\\\\\n",
    "         A_{21} & A_{22}\n",
    "    \\end{array}\\right]\n",
    "$$\n",
    "\n",
    "Block matrix inverse $\\quad\\rightarrow\\quad\n",
    "    \\left[\\begin{array}{cc}\n",
    "         I & \\\\\n",
    "         A_{21}A_{11}^{-1} & I\n",
    "    \\end{array}\\right]^{-1}\n",
    "    =\n",
    "    \\left[\\begin{array}{cc}\n",
    "         I & \\\\\n",
    "         -A_{21}A_{11}^{-1} & I\n",
    "    \\end{array}\\right]\n",
    "$\n",
    "\n",
    "$$\n",
    "    \\left[\\begin{array}{cc}\n",
    "         A_{11} & A_{12}\\\\\n",
    "          & A_{22} - A_{21}A_{11}^{-1}A_{12}\n",
    "    \\end{array}\\right]\n",
    "    \\left[\\begin{array}{c}\n",
    "         u_{1}\\\\\n",
    "         u_{2}\n",
    "    \\end{array}\\right]\n",
    "    =\n",
    "    \\left[\\begin{array}{cc}\n",
    "         I & \\\\\n",
    "         -A_{21}A_{11}^{-1} & I\n",
    "    \\end{array}\\right]\n",
    "    \\left[\\begin{array}{c}\n",
    "         f_{1}\\\\\n",
    "         f_{2}\n",
    "    \\end{array}\\right]\n",
    "$$\n",
    "\n",
    "$$\n",
    "    (A_{22} - A_{21}A_{11}^{-1}A_{12})u_2 = -A_{21}A_{11}^{-1}f_1 + f_2\n",
    "$$"
   ]
  },
  {
   "cell_type": "code",
   "execution_count": null,
   "metadata": {},
   "outputs": [],
   "source": []
  },
  {
   "cell_type": "markdown",
   "metadata": {},
   "source": [
    "Block matrix determinant\n",
    "\n",
    "$$\n",
    "\\det(X + AB) =\n",
    "\\det\n",
    "\\left(\\begin{array}{cc}\n",
    "     X & A\\\\\n",
    "     -B & I\n",
    "\\end{array}\\right)\n",
    "=\n",
    "\\underbrace{\n",
    "    \\det\\left(\n",
    "    \\begin{array}{cc}\n",
    "         I & \\\\\n",
    "         -BX^{-1} & I\n",
    "    \\end{array}\n",
    "    \\right)\n",
    "}_{ =\\; 1}\n",
    "\\det\\left(\n",
    "\\begin{array}{cc}\n",
    "     X & A \\\\\n",
    "       & I + BX^{-1}A\n",
    "\\end{array}\n",
    "\\right)\n",
    "=\n",
    "\\det(X)\\det(I+BX^{-1}A)\n",
    "$$"
   ]
  },
  {
   "cell_type": "code",
   "execution_count": null,
   "metadata": {},
   "outputs": [],
   "source": []
  },
  {
   "cell_type": "markdown",
   "metadata": {},
   "source": [
    "Let us take $\\;X = I_m,\\quad I = I_n,\\quad A = F,\\quad B = -G\\;$ and substitute in the last formula  \n",
    "$$\n",
    "       \\det(I_m - FG) = \\det(I_n - GF)\n",
    "$$"
   ]
  },
  {
   "cell_type": "markdown",
   "metadata": {},
   "source": [
    "## Problem 2 (QR decomposition) 30 pts\n",
    "\n",
    "### 1. Standard Gram-Schmidt algorithm\n",
    "Our goal is to orthogonalize a system of linearly independent vectors $v_1,\\dots,v_n$.\n",
    "The standard algorithm for this task is the Gram-Schmidt process:\n",
    "\n",
    "$$\n",
    "\\begin{split}\n",
    "u_1 &= v_1, \\\\\n",
    "u_2 &= v_2 - \\frac{(v_2, u_1)}{(u_1, u_1)} u_1, \\\\\n",
    "\\dots \\\\\n",
    "u_n &= v_n - \\frac{(v_n, u_1)}{(u_1, u_1)} u_1 - \\frac{(v_n, u_2)}{(u_2, u_2)} u_2 - \\dots - \\frac{(v_n, u_{n-1})}{(u_{n-1}, u_{n-1})} u_{n-1}.\n",
    "\\end{split}\n",
    "$$\n",
    "\n",
    "Obtained $u_1, \\dots, u_n$ are orthogonal vectors in exact arithmetics. Then to make the system orthonormal you should divide each of the vectors by its norm: $u_i := u_i/\\|u_i\\|$.\n",
    "The Gram-Schmidt process can be considered as a QR decomposition. Let us show that."
   ]
  },
  {
   "cell_type": "markdown",
   "metadata": {},
   "source": [
    "* (2 pts) Write out what is matrices $Q$ and $R$ obtained in the process above. \n",
    "\n",
    "* (5 pts) Implement in the ```pset2.py``` the described Gram-Schmidt algorithm as a function ```gram_schmidt_qr(A)``` that takes a rectangular matrix ```A``` and outputs ```Q,R```.\n",
    "\n",
    "* (3 pts) Create a square [Vandermonde matrix](https://en.wikipedia.org/wiki/Vandermonde_matrix) $V\\in\\mathbb{R}^{n\\times n},\\ n = 20$ defined by the vector $x$: ```x = np.linspace(0,1,n)``` (components of $x$ are spaced uniformly between 0 and 1). \n",
    "The loss of orthogonality can be described by the following error: $\\|Q^{\\top}Q-I\\|_2$, where $Q^{\\top}Q$ is called a Gram matrix. Compute QR decomposition of the created matrix $V$ with function that you have implemented and calculate error $\\|Q^{\\top}Q-I\\|_2$. Comment on the result.\n",
    "\n",
    "* (5 pts) The observed loss of orthogonality is a problem of this particular algorithm. Luckily, there is [a simple improvement to the algorithm above](https://en.wikipedia.org/wiki/Gram–Schmidt_process#Numerical_stability) that reduces the loss of orthogonality. Implement this modification in the ```pset2.py``` as a function ```modified_gram_schmidt_qr(A)``` such that input and output are similar to ```gram_schmidt_qr(A)```. \n",
    "* (3 pts) Compute QR decomposition of the matrix $V$ from the previous task with the function ```modified_gram_schmidt_qr(A)```.\n",
    "Compute error $\\|Q^{\\top}Q-I\\|_2$. Compare this error to the error obtained with a \"pure\" Gram-Schmidt and comment on the result."
   ]
  },
  {
   "cell_type": "markdown",
   "metadata": {},
   "source": [
    "**QR** using the Gram-Schmidt orthogonalization is not bad described on https://en.wikipedia.org/wiki/QR_decomposition#Using_the_Gram%E2%80%93Schmidt_process"
   ]
  },
  {
   "cell_type": "markdown",
   "metadata": {},
   "source": [
    "$Q = \\left[\\mathbf{u_1},\\mathbf{u_2},\\ldots,\\mathbf{u_n} \\right],\\quad R = \\begin{pmatrix}\n",
    "  \\langle\\mathbf{u}_1, \\mathbf{v}_1\\rangle &\n",
    "  \\langle\\mathbf{u}_1, \\mathbf{v}_2\\rangle &\n",
    "  \\langle\\mathbf{u}_1, \\mathbf{v}_3\\rangle & \\ldots &\\\\\n",
    "                                         0 &\n",
    "  \\langle\\mathbf{u}_2, \\mathbf{v}_2\\rangle &\n",
    "  \\langle\\mathbf{u}_2, \\mathbf{v}_3\\rangle & \\ldots &\\\\\n",
    "                                         0 &\n",
    "                                         0 &\n",
    "  \\langle\\mathbf{u}_3, \\mathbf{v}_3\\rangle & \\ldots &\\\\\n",
    "                                    \\vdots &\n",
    "                                    \\vdots &\n",
    "                                    \\vdots &\n",
    "                                    \\ddots & \\\\\n",
    "                                    & & & &\\langle\\mathbf{u}_n, \\mathbf{v}_n\\rangle\n",
    "\\end{pmatrix}$"
   ]
  },
  {
   "cell_type": "code",
   "execution_count": 2,
   "metadata": {},
   "outputs": [],
   "source": [
    "# Implement the functions in the ```pset2.py``` file\n",
    "import numpy as np\n",
    "from pset2 import gram_schmidt_qr\n",
    "from pset2 import modified_gram_schmidt_qr\n",
    "\n",
    "# Your code is here"
   ]
  },
  {
   "cell_type": "code",
   "execution_count": 18,
   "metadata": {},
   "outputs": [],
   "source": [
    "n = 20\n",
    "x = np.linspace(0,1,n)\n",
    "V = np.vander(x,increasing=True)"
   ]
  },
  {
   "cell_type": "code",
   "execution_count": 19,
   "metadata": {},
   "outputs": [
    {
     "name": "stdout",
     "output_type": "stream",
     "text": [
      "Q.T @ Q - I = 10.47\n"
     ]
    }
   ],
   "source": [
    "Q,_ = gram_schmidt_qr(V,check=False) #\n",
    "error = np.linalg.norm(Q.T @ Q - np.identity(n))\n",
    "print(\"Q.T @ Q - I = {:.2f}\".format(error))"
   ]
  },
  {
   "cell_type": "markdown",
   "metadata": {},
   "source": [
    "***Vandermonde matrix is ill-conditioned. If applying the svd to calculate its rank, you will get that the matrix is rank-deficient (despite, in the reality it's not), because the minimum eigenvalue is extremely close to zero. This implies that the matrix has a full basis of orthogonal vectors, however, there are vectors which are almost linearly dependent. Hence, it becomes difficult to make them orthogonal (independent). And the standard Gram-Schmidt algorithm, which is numerically unstable, will give large errors***"
   ]
  },
  {
   "cell_type": "code",
   "execution_count": 10,
   "metadata": {},
   "outputs": [
    {
     "name": "stdout",
     "output_type": "stream",
     "text": [
      "Q.T @ Q - I = 0.23\n"
     ]
    }
   ],
   "source": [
    "Q,_ = modified_gram_schmidt_qr(V)\n",
    "error = np.linalg.norm(Q.T @ Q - np.identity(n))\n",
    "print(\"Q.T @ Q - I = {:.2f}\".format(error))"
   ]
  },
  {
   "cell_type": "markdown",
   "metadata": {},
   "source": [
    "***The modified Gram-Schmidt algorithm is much more stable, because it applies the operation of the orthogonalization for one vector component  \"several times\". So, we get the smaller error as we expected.***"
   ]
  },
  {
   "cell_type": "markdown",
   "metadata": {},
   "source": [
    "### 2. Householder QR (10 pts)\n",
    "\n",
    "* (7 pts) Implement algorithm for computing QR decomposition based on Householder reflections as a function ```householder_qr(A)``` that takes a rectangular matrix ```A``` and outputs ```Q,R```.\n",
    "\n",
    "\n",
    "* (2 pts) Apply it to the Vandermonde matrix $V$ created above. Print out the error $\\|Q^{\\top}Q-I\\|_2$, where $Q$ is given by ```householder_qr(A)```. Compare it to the corresponding results of Gram-Schmidt and modified Gram-Schmidt algorithms and comment on it. \n",
    "\n",
    "\n",
    "\n",
    "* (3 pts) For values of $n = \\{2,25,100,250,500\\}$, create a $B\\in\\mathbb{R}^{n\\times n}$ and an upper triangular matrix $R\\in\\mathbb{R}^{n\\times n}$ both filled with standard normal entries. Use ```numpy``` (or ```scipy```) built-in QR decomposition function to obtain a random orthogonal matrix $Q$ from the decomposition of $B$. Then compute $A = QR$ and apply your Gram-Schmidt and Householder algorithms to find the $Q$ and $R$ factors of $A$ – denoted as $\\hat{Q}$ and $\\hat{R}$. \n",
    "Calculate relative errors\n",
    "$$\\frac{\\|R-\\hat{R}\\|_2}{\\|R\\|_2}, \\frac{\\|Q-\\hat{Q}\\|_2}{\\|Q\\|_2}, \\frac{\\|A-\\hat{Q}\\hat{R}\\|_2}{\\|A\\|_2}$$ \n",
    "for each value of $n$ and for both algorithms. \n",
    "**Note:** scale (multiply corresponding rows/columns by -1) $Q, R,\\hat{Q},\\hat{R}$ such that diagonal elements of $R$ and $\\hat{R}$ be positive.    \n",
    "    * Comment on the relative errors in $Q$ and $R$ (forward error) compared to ones in $QR$ (backward error).\n",
    "    * Comment on the backward error obtained for Gram-Schmidt compared to Householder.   "
   ]
  },
  {
   "cell_type": "code",
   "execution_count": 3,
   "metadata": {},
   "outputs": [],
   "source": [
    "# Implement the function in the pset2.py file\n",
    "from pset2 import householder_qr\n",
    "\n",
    "# Your code is here"
   ]
  },
  {
   "cell_type": "code",
   "execution_count": 20,
   "metadata": {},
   "outputs": [
    {
     "name": "stdout",
     "output_type": "stream",
     "text": [
      "Q.T @ Q - I = 0.00\n"
     ]
    }
   ],
   "source": [
    "Q,_ = householder_qr(V)\n",
    "error = np.linalg.norm(Q.T @ Q - np.identity(n))\n",
    "print(\"Q.T @ Q - I = {:.2f}\".format(error))"
   ]
  },
  {
   "cell_type": "markdown",
   "metadata": {},
   "source": [
    "***In this method we build the orthogonal matrix of $A$ by multiplication of unitary matrices $H_i$ (Household matrices) which are orthogonal. So the entire error is concentrated in the calculation of the upper triangular.***"
   ]
  },
  {
   "cell_type": "code",
   "execution_count": 53,
   "metadata": {},
   "outputs": [],
   "source": [
    "relErr = np.zeros((2,3,5))\n",
    "for j,n in enumerate([2,25,100,250,500]):\n",
    "    B = np.random.randn(n,n)\n",
    "    R = np.random.randn(n,n)\n",
    "    nR = np.linalg.norm(R)\n",
    "    Q,_ = np.linalg.qr(B,mode=\"complete\")\n",
    "    nQ = np.linalg.norm(Q)\n",
    "    A = Q @ R\n",
    "    nA = np.linalg.norm(A)\n",
    "    \n",
    "    signs = np.copysign(np.ones(n),np.diag(R))\n",
    "    R *= signs\n",
    "    \n",
    "    for i,(q,r) in enumerate([fun(A) for fun in [modified_gram_schmidt_qr,householder_qr]]):\n",
    "        signs = np.copysign(np.ones(n),np.diag(r))\n",
    "        r *= signs\n",
    "        relErr[i][0][j] = np.linalg.norm(r - R) / nR\n",
    "        relErr[i][1][j] = np.linalg.norm(q - Q) / nQ\n",
    "        relErr[i][2][j] = np.linalg.norm(A - q @ r) / nA"
   ]
  },
  {
   "cell_type": "code",
   "execution_count": 46,
   "metadata": {},
   "outputs": [],
   "source": [
    "import matplotlib.pyplot as plt"
   ]
  },
  {
   "cell_type": "code",
   "execution_count": 60,
   "metadata": {},
   "outputs": [
    {
     "data": {
      "text/plain": [
       "<matplotlib.legend.Legend at 0x1dc26192c50>"
      ]
     },
     "execution_count": 60,
     "metadata": {},
     "output_type": "execute_result"
    },
    {
     "data": {
      "image/png": "[encoded data removed]",
      "text/plain": [
       "<Figure size 1440x864 with 3 Axes>"
      ]
     },
     "metadata": {},
     "output_type": "display_data"
    }
   ],
   "source": [
    "fig,axes = plt.subplots(1, 3,figsize = (20,12))\n",
    "\n",
    "for i,method in zip([0,1],[\"Gram-Schmidt\",\"Householder\"]):\n",
    "    for j,error in zip([0,1,2],['R','Q',\"QR\"]):\n",
    "        axes[j].plot(relErr[i][j], label=method)\n",
    "        axes[j].set_title(f\"Relative error for {error}\")\n",
    "axes[1].set_xlabel(\"Size of matrix\")\n",
    "axes[0].set_ylabel(\"Error\")\n",
    "fig.legend([\"Gram-Schmidt\",\"Householder\"],loc = (0.915,0.9))"
   ]
  },
  {
   "cell_type": "markdown",
   "metadata": {},
   "source": [
    "## Problem 3 (Word2Vec as Matrix Factorization) 45 pts\n",
    "\n",
    "In this assignment you are supposed to apply SVD to training your own [word embedding model](https://en.wikipedia.org/wiki/Word_embedding) which maps English words to vectors of real numbers.\n",
    "\n",
    "Skip-Gram Negative Sampling (SGNS) word embedding model, commonly known as **word2vec** ([Mikolov et al., 2013](http://papers.nips.cc/paper/5021-distributed-representations-of-words-and-phrases-and-their-compositionality.pdf)), is usually optimized by stochastic gradient descent. However, the optimization of SGNS objective can be viewed as implicit matrix factorization objective as was shown in ([Levy and Goldberg, 2015](http://papers.nips.cc/paper/5477-neural-word-embedding-as-implicit-matrix-factorization.pdf))."
   ]
  },
  {
   "cell_type": "markdown",
   "metadata": {},
   "source": [
    "###### 1. Notation\n",
    "Assume we have a text corpus given as a sequence of words $\\{w_1,w_2,\\dots,w_n\\}$ where $n$ may be larger than $10^{12}$ and $w_i \\in \\mathcal{V}$ belongs to a vocabulary of words $\\mathcal{V}$. A word $c \\in \\mathcal{V}$ is called *a context* of word $w_i$ if they are found together in the text. More formally, given some measure $L$ of closeness between two words (typical choice is $L=2$), a word $c \\in \\mathcal{V}$ is called a context if $c \\in \\{w_{i-L}, \\dots, w_{i-1}, w_{i+1}, \\dots, w_{i+L} \\}$ Let $\\mathbf{w},\\mathbf{c}\\in\\mathbb{R}^d$ be the *word embeddings* of word $w$ and context $c$, respectively. Assume they are specified by the mapping  $\\Phi:\\mathcal{V}\\rightarrow\\mathbb{R}^d$, so $\\mathbf{w}=\\Phi(w)$. The ultimate goal of SGNS word embedding model is to fit a good mapping $\\Phi$.\n",
    "\n",
    "Let $\\mathcal{D}$ be a multiset of all word-contexts pairs observed in the corpus. In the SGNS model, the probability that word-context pair $(w,c)$ is observed in the corpus is modeled as the following distribution:\n",
    "\n",
    "$$\n",
    "P(\\#(w,c)\\neq 0|w,c) = \\sigma(\\mathbf{w}^\\top \\mathbf{c}) = \\frac{1}{1 + \\exp(-\\mathbf{w}^\\top \\mathbf{c})},\n",
    "$$\n",
    "\n",
    "where $\\#(w,c)$ is the number of times the pair $(w,c)$ appears in $\\mathcal{D}$ and $\\mathbf{w}^\\top\\mathbf{c}$ is the scalar product of vectors $\\mathbf{w}$ and $\\mathbf{c}$. Two important quantities which we will also use further are the number of times the word $w$ and the context $c$ appear in $\\mathcal{D}$, which can be computed as\n",
    "\n",
    "$$\n",
    "\\#(w) = \\sum_{c\\in\\mathcal{V}} \\#(w,c), \\quad \\#(c) = \\sum_{w\\in\\mathcal{V}} \\#(w,c).\n",
    "$$\n"
   ]
  },
  {
   "cell_type": "markdown",
   "metadata": {},
   "source": [
    "###### 2. Optimization objective"
   ]
  },
  {
   "cell_type": "markdown",
   "metadata": {},
   "source": [
    "Vanilla word embedding models are trained by maximizing log-likelihood of observed word-context pairs, namely\n",
    "\n",
    "$$\n",
    "\\mathcal{L} = \\sum_{w \\in \\mathcal{V}} \\sum_{c \\in \\mathcal{V}} \\#(w,c) \\log \\sigma(\\mathbf{w}^\\top\\mathbf{c}) \\rightarrow \\max_{\\mathbf{w},\\mathbf{c} \\in \\mathbb{R}^d}.\n",
    "$$"
   ]
  },
  {
   "cell_type": "markdown",
   "metadata": {},
   "source": [
    "Skip-Gram Negative Sampling approach modifies the objective by additionally minimizing the log-likelihood of random word-context pairs, so called *negative samples*. This idea incorporates some useful linguistic information that some number ($k$, usually $k=5$) of word-context pairs *are not* found together in the corpus which usually results in word embeddings of higher quality. The resulting optimization problem is\n",
    "\n",
    "$$\n",
    "\\mathcal{L} = \\sum_{w \\in \\mathcal{V}} \\sum_{c \\in \\mathcal{V}} \\left( \\#(w,c) \\log \\sigma(\\mathbf{w}^\\top\\mathbf{c}) + k \\cdot \\mathbb{E}_{c'\\sim P_\\mathcal{D}} \\log \\sigma (-\\mathbf{w}^\\top\\mathbf{c}) \\right) \\rightarrow \\max_{\\mathbf{w},\\mathbf{c} \\in \\mathbb{R}^d},\n",
    "$$\n",
    "\n",
    "where $P_\\mathcal{D}(c)=\\frac{\\#(c)}{|\\mathcal{D}|}$ is a probability distribution over word contexts from which negative samples are drawn."
   ]
  },
  {
   "cell_type": "markdown",
   "metadata": {},
   "source": [
    "[Levy and Goldberg, 2015](http://papers.nips.cc/paper/5477-neural-word-embedding-as-implicit-matrix-factorization.pdf) showed that this objective can be equivalently written as\n",
    "\n",
    "$$\n",
    "\\mathcal{L} = \\sum_{w \\in \\mathcal{V}} \\sum_{c \\in \\mathcal{V}} f(w,c) = \\sum_{w \\in \\mathcal{V}} \\sum_{c \\in \\mathcal{V}} \\left( \\#(w,c) \\log \\sigma(\\mathbf{w}^\\top\\mathbf{c}) + \\frac{k\\cdot\\#(w)\\cdot\\#(c)}{|\\mathcal{D}|} \\log \\sigma (-\\mathbf{w}^\\top\\mathbf{c}) \\right) \\rightarrow \\max_{\\mathbf{w},\\mathbf{c} \\in \\mathbb{R}^d},\n",
    "$$\n",
    "\n",
    "A crucial observation is that this loss function depends only on the scalar product $\\mathbf{w}^\\top\\mathbf{c}$ but not on embedding $\\mathbf{w}$ and $\\mathbf{c}$ separately."
   ]
  },
  {
   "cell_type": "markdown",
   "metadata": {},
   "source": [
    "###### 3. Matrix factorization problem statement"
   ]
  },
  {
   "cell_type": "markdown",
   "metadata": {},
   "source": [
    "Let $|\\mathcal{V}|=m$, $W \\in \\mathbb{R}^{m\\times d}$ and $C \\in \\mathbb{R}^{m\\times d}$ be matrices, where each row $\\mathbf{w}\\in\\mathbb{R}^d$ of matrix $W$ is the word embedding of the corresponding word $w$ and each row $\\mathbf{c}\\in\\mathbb{R}^d$ of matrix $C$ is the context embedding of the corresponding context $c$. SGNS embeds both words and their contexts into a low-dimensional space $\\mathbb{R}^d$, resulting in the word and context matrices $W$ and $C$. The rows of matrix $W$ are typically used in NLP tasks (such as computing word similarities) while $C$ is ignored. It is nonetheless instructive to consider the product $W^\\top C = M$. Viewed this way, SGNS can be described as factorizing an implicit matrix $M$ of dimensions $m \\times m$ into two smaller matrices.\n",
    "\n",
    "Which matrix is being factorized? A matrix entry $M_{wc}$ corresponds to the dot product $\\mathbf{w}^\\top\\mathbf{c}$ . Thus, SGNS is factorizing a matrix in which each row corresponds to a word $w \\in \\mathcal{V}$ , each column corresponds to a context $c \\in \\mathcal{V}$, and each cell contains a quantity $f(w,c)$ reflecting the strength of association between that particular word-context pair. Such word-context association matrices are very common in the NLP and word-similarity literature. That said, the objective of SGNS does not explicitly state what this association metric is. What can we say about the association function $f(w,c)$? In other words, which matrix is SGNS factorizing? Below you will find the answers."
   ]
  },
  {
   "cell_type": "markdown",
   "metadata": {},
   "source": [
    "### Task 1 (theoretical) 5 pts"
   ]
  },
  {
   "cell_type": "markdown",
   "metadata": {},
   "source": [
    "Solve SGNS optimization problem with respect to the $\\mathbf{w}^\\top\\mathbf{c}$ and show that the matrix being factorized is\n",
    "\n",
    "$$\n",
    "M_{wc} = \\mathbf{w}^\\top\\mathbf{c} = \\log \\left( \\frac{\\#(w,c) \\cdot |\\mathcal{D}|}{k\\cdot\\#(w)\\cdot\\#(c)} \\right)\n",
    "$$\n",
    "\n",
    "**Hint:** Denote $x=\\mathbf{w}^\\top\\mathbf{c}$, rewrite SGNG optimization problem in terms of $x$ and solve it."
   ]
  },
  {
   "cell_type": "markdown",
   "metadata": {},
   "source": [
    "**Note:** This matrix is called Shifted Pointwise Mutual Information (SPMI) matrix, as its elements can be written as\n",
    "\n",
    "$$\n",
    "\\text{SPMI}(w,c) = M_{wc} = \\mathbf{w}^\\top\\mathbf{c} = \\text{PMI}(w,c) - \\log k\n",
    "$$\n",
    "\n",
    "and $\\text{PMI}(w,c) = \\log \\left( \\frac{\\#(w,c) \\cdot |\\mathcal{D}|}{\\#(w)\\cdot\\#(c)} \\right)$ is the well-known [pointwise mutual information](https://en.wikipedia.org/wiki/Pointwise_mutual_information) of $(w,c)$."
   ]
  },
  {
   "cell_type": "code",
   "execution_count": null,
   "metadata": {},
   "outputs": [],
   "source": [
    "# Your proof is here"
   ]
  },
  {
   "cell_type": "markdown",
   "metadata": {},
   "source": [
    "Rewrite the optimization problem with new designations\n",
    "$$\n",
    "\\mathcal{L} = \\sum_{w \\in \\mathcal{V}} \\sum_{c \\in \\mathcal{V}} \\left( \\#(w,c) \\log \\sigma(x) + \n",
    "\\frac{k\\cdot\\#(w)\\cdot\\#(c)}{|\\mathcal{D}|} \\log \\sigma (-x) \\right) \\rightarrow \\max_{\\mathbf{w},\\mathbf{c} \\in \\mathbb{R}^d},\n",
    "$$"
   ]
  },
  {
   "cell_type": "markdown",
   "metadata": {},
   "source": [
    "Taking into account the property of the sigmoid function\n",
    "$$\n",
    "    \\sigma'(x) = \\sigma(x)\\big(1 - \\sigma(x)\\big) = \\sigma(x) \\sigma(-x) \n",
    "$$\n",
    "\n",
    "We differentiate\n",
    "\\begin{align}\n",
    "    \\partial_x\\mathcal{L} &= \\#(w,c)\\;\\sigma(-x) - \\frac{k\\cdot\\#(w)\\cdot\\#(c)}{|\\mathcal{D}|}\\sigma(x) = \\\\\n",
    "    &= \\#(w,c)\\;\\frac{1}{1 + \\mathrm{e}^x} - \\frac{k\\cdot\\#(w)\\cdot\\#(c)}{|\\mathcal{D}|}\\frac{\\mathrm{e}^x}{1 + \\mathrm{e}^x} = \\;0\\qquad |\\cdot 1 + \\mathrm{e}^x \\neq 0\n",
    "\\end{align}\n",
    "\n",
    "$$\n",
    "    \\#(w,c) - \\frac{k\\cdot\\#(w)\\cdot\\#(c)}{|\\mathcal{D}|}\\mathrm{e}^x = \\;0\\\\\n",
    "$$\n",
    "\n",
    "And obtain:\n",
    "$$\n",
    "    x = \\log\\left(\\frac{\\#(w,c)|\\mathcal{D}|}{k\\cdot\\#(w)\\cdot\\#(c)}\\right) = \\text{PMI}(w,c) - \\log k = \\text{SPMI}(w,c)\n",
    "$$"
   ]
  },
  {
   "cell_type": "markdown",
   "metadata": {},
   "source": [
    "### Task 2 (practical) 40 pts"
   ]
  },
  {
   "cell_type": "code",
   "execution_count": 759,
   "metadata": {},
   "outputs": [],
   "source": [
    "import os\n",
    "import numpy as np\n",
    "from sklearn.metrics.pairwise import cosine_similarity\n",
    "from scipy.sparse.linalg import svds"
   ]
  },
  {
   "cell_type": "markdown",
   "metadata": {},
   "source": [
    "1. Download dataset [enwik8](http://mattmahoney.net/dc/enwik8.zip) of compressed Wikipedia articles and preprocess raw data with Perl script **main_.pl**. This script will clean all unnecessary symbols, make all words to lowercase, and produce only sentences with words.\n",
    "```\n",
    "!wget http://mattmahoney.net/dc/enwik8.zip -P data/\n",
    "!unzip data/enwik8.zip\n",
    "!perl main_.pl data/enwik8 > data/enwik8.txt\n",
    "```"
   ]
  },
  {
   "cell_type": "code",
   "execution_count": 760,
   "metadata": {},
   "outputs": [],
   "source": [
    "# Load enwik 8\n",
    "\n",
    "import re\n",
    "file = open(\"data/enwik8.txt\", \"r\")\n",
    "doclist = [line for line in file]\n",
    "docstr = ''.join(doclist)\n",
    "sentences = re.split(r'[.!?]', docstr)\n",
    "sentences = [sentence.split() for sentence in sentences if len(sentence) > 1]"
   ]
  },
  {
   "cell_type": "code",
   "execution_count": 761,
   "metadata": {
    "scrolled": true
   },
   "outputs": [
    {
     "name": "stdout",
     "output_type": "stream",
     "text": [
      "['anarchism', 'originated', 'as', 'a', 'term', 'of', 'abuse', 'first', 'used', 'against', 'early', 'working', 'class', 'radicals', 'including', 'the', 'diggers', 'of', 'the', 'english', 'revolution', 'and', 'the', 'sans', 'culottes', 'of', 'the', 'french', 'revolution']\n"
     ]
    }
   ],
   "source": [
    "print (sentences[0])"
   ]
  },
  {
   "cell_type": "markdown",
   "metadata": {},
   "source": [
    "2. Construct the word vocabulary from the obtained sentences which enumerates words which occur more than $r=200$ times in the corpus."
   ]
  },
  {
   "cell_type": "code",
   "execution_count": 762,
   "metadata": {},
   "outputs": [],
   "source": [
    "from collections import Counter\n",
    "from scipy.sparse import csr_matrix\n",
    "import numpy as np"
   ]
  },
  {
   "cell_type": "code",
   "execution_count": 763,
   "metadata": {},
   "outputs": [],
   "source": [
    "def create_vocabulary(sentences, r=200):\n",
    "    # Your code is here\n",
    "    wordset = [word for sentence in sentences for word in sentence]\n",
    "    vocabulary = sorted([k for k,v in Counter(wordset).most_common() if v >= 200])\n",
    "    vocabulary = {k:i for i,k in enumerate(vocabulary)}\n",
    "    return vocabulary"
   ]
  },
  {
   "cell_type": "code",
   "execution_count": 764,
   "metadata": {},
   "outputs": [],
   "source": [
    "vocab = create_vocabulary(sentences)"
   ]
  },
  {
   "cell_type": "markdown",
   "metadata": {},
   "source": [
    "3. Scan the text corpus with sliding window of size $5$ and step $1$ (which corresponds to $L$=2) and construct co-occurrence word-context matrix $D$ with elements $D_{wc}=\\#(w,c)$. Please, ignore words which occur less than $r=200$ times, but include them into the sliding window. Please, see the graphical illustration of the procedure described.  \n",
    "\n",
    "<img src=\"./data/sliding_window.png\" width=600>"
   ]
  },
  {
   "cell_type": "code",
   "execution_count": 765,
   "metadata": {},
   "outputs": [],
   "source": [
    "def create_corpus_matrix(sentences, vocabulary):\n",
    "    # Your code is here\n",
    "    shape = (len(vocabulary),len(vocabulary))\n",
    "    rows,cols,data = [],[],[]\n",
    "    for sentence in sentences:\n",
    "        padded = 2 * ['$'] + sentence\n",
    "        for k,w in enumerate(padded):\n",
    "            try:\n",
    "                i = vocabulary[w]\n",
    "            except KeyError:\n",
    "                continue\n",
    "            for c in padded[k-2:k]:\n",
    "                try:\n",
    "                    j = vocabulary[c]\n",
    "                    if i == j:\n",
    "                        continue\n",
    "                    rows.append(i)\n",
    "                    cols.append(j)\n",
    "                    data.append(1)\n",
    "                except KeyError:\n",
    "                    continue\n",
    "    sparsy = csr_matrix((data,(rows,cols)),shape=shape)\n",
    "    corpus_matrix = sparsy.transpose() + sparsy\n",
    "    return corpus_matrix"
   ]
  },
  {
   "cell_type": "code",
   "execution_count": 766,
   "metadata": {},
   "outputs": [
    {
     "name": "stdout",
     "output_type": "stream",
     "text": [
      "Wall time: 20.8 s\n"
     ]
    }
   ],
   "source": [
    "%time D = create_corpus_matrix(sentences, vocab)"
   ]
  },
  {
   "cell_type": "markdown",
   "metadata": {},
   "source": [
    "4. To find good word embeddings, [Levy and Goldberg, 2015](http://papers.nips.cc/paper/5477-neural-word-embedding-as-implicit-matrix-factorization.pdf) proposed to find rank-$d$ SVD of Shifted Positive Pointwise Mutual Information (SPPMI) matrix\n",
    "\n",
    "$$\n",
    "U \\Sigma V^\\top \\approx \\text{SPPMI},\n",
    "$$\n",
    "\n",
    "where $\\text{SPPMI}(w, c) = \\max\\left(\\text{SPMI}(w, c), 0 \\right)$ and $\\text{SPMI}(w, c)$ is the element of the matrix $\\text{SPPMI}$ at position $(w, c)$.\n",
    "Then use $W=U\\sqrt{\\Sigma}$ as word embedding matrix. Your task is to reproduce their results. Write function constructs $\\text{SPPMI}$ matrix, computes its SVD and produces word-vectors matrix $W$. Pay attention that $\\text{SPPMI}$ matrix is **sparse**!  "
   ]
  },
  {
   "cell_type": "code",
   "execution_count": 767,
   "metadata": {},
   "outputs": [],
   "source": [
    "def compute_embeddings(D, k, d=200):\n",
    "    # Your code is here\n",
    "    SPMI = np.log(D / D.sum(0) / D.sum(1).reshape(-1,1) * D.sum() / k)\n",
    "    #SPMI = np.log(D / np.outer(D.sum(1),D.sum(0)) * D.sum() / k)\n",
    "    #the line above gives different results. In theory they should work \n",
    "    #in the same way, on practice - they don't\n",
    "    SPPMI = csr_matrix(np.maximum(np.nan_to_num(SPMI),0))\n",
    "    \n",
    "    u,s,vh = svds(SPPMI,d,return_singular_vectors=True)\n",
    "    embedding_matrix = u * np.sqrt(s)\n",
    "    return embedding_matrix"
   ]
  },
  {
   "cell_type": "code",
   "execution_count": 768,
   "metadata": {},
   "outputs": [
    {
     "name": "stderr",
     "output_type": "stream",
     "text": [
      "C:\\Users\\onion\\Anaconda3\\lib\\site-packages\\ipykernel_launcher.py:3: RuntimeWarning: divide by zero encountered in log\n",
      "  This is separate from the ipykernel package so we can avoid doing imports until\n"
     ]
    },
    {
     "name": "stdout",
     "output_type": "stream",
     "text": [
      "Wall time: 11.7 s\n"
     ]
    }
   ],
   "source": [
    "k = 5 # negative sampling parameter\n",
    "%time W = compute_embeddings(Dp, k)"
   ]
  },
  {
   "cell_type": "markdown",
   "metadata": {},
   "source": [
    "5. Write class **WordVectors** using provided template."
   ]
  },
  {
   "cell_type": "code",
   "execution_count": 769,
   "metadata": {},
   "outputs": [],
   "source": [
    "class WordVectors:\n",
    "    \n",
    "    def __init__(self, vocabulary, embedding_matrix):\n",
    "        self.vocab = vocabulary\n",
    "        self.W = embedding_matrix\n",
    "        self.inv_vocab = {v: k for k, v in self.vocab.items()}\n",
    "        \n",
    "    def word_vector(self, word):\n",
    "        \"\"\" \n",
    "        Takes word and returns its word vector.\n",
    "        \"\"\"\n",
    "        #Your code is here\n",
    "        pos = self.vocab[word]\n",
    "        word_vector = self.W[pos]\n",
    "        return word_vector\n",
    "    \n",
    "    def nearest_words(self, word, top_n=10):\n",
    "        \"\"\" \n",
    "        Takes word from the vocabulary and returns its top_n\n",
    "        nearest neighbors in terms of cosine similarity.\n",
    "        \"\"\"\n",
    "        #Your code is here\n",
    "        w_v = self.word_vector(word).reshape(1,-1)\n",
    "        similarity = cosine_similarity(W,w_v)\n",
    "        pairs = [(x,\"{:.3f}\".format(y[0])) \n",
    "                 for x,y in zip(self.vocab.keys(),similarity)]\n",
    "        neighbors = sorted(pairs, key=lambda x: \n",
    "                               x[1],reverse=True)[1:top_n+1]\n",
    "        return neighbors"
   ]
  },
  {
   "cell_type": "code",
   "execution_count": 770,
   "metadata": {},
   "outputs": [],
   "source": [
    "model = WordVectors(vocab, W)"
   ]
  },
  {
   "cell_type": "code",
   "execution_count": 771,
   "metadata": {},
   "outputs": [
    {
     "name": "stdout",
     "output_type": "stream",
     "text": [
      "Wall time: 44 ms\n"
     ]
    },
    {
     "data": {
      "text/plain": [
       "[('communism', '0.792'),\n",
       " ('anarcho', '0.787'),\n",
       " ('capitalism', '0.784'),\n",
       " ('socialism', '0.752'),\n",
       " ('liberalism', '0.727'),\n",
       " ('criticisms', '0.705'),\n",
       " ('capitalist', '0.662'),\n",
       " ('fascism', '0.565'),\n",
       " ('anarchist', '0.527'),\n",
       " ('marxist', '0.518')]"
      ]
     },
     "execution_count": 771,
     "metadata": {},
     "output_type": "execute_result"
    }
   ],
   "source": [
    "%time model.nearest_words(\"anarchism\")"
   ]
  },
  {
   "cell_type": "code",
   "execution_count": 772,
   "metadata": {},
   "outputs": [
    {
     "data": {
      "text/plain": [
       "[('ukraine', '0.671'),\n",
       " ('russia', '0.629'),\n",
       " ('poland', '0.550'),\n",
       " ('belarus', '0.538'),\n",
       " ('yugoslavia', '0.538'),\n",
       " ('romania', '0.517'),\n",
       " ('serbia', '0.507'),\n",
       " ('austria', '0.500'),\n",
       " ('hungary', '0.466'),\n",
       " ('bulgaria', '0.430')]"
      ]
     },
     "execution_count": 772,
     "metadata": {},
     "output_type": "execute_result"
    }
   ],
   "source": [
    "model.nearest_words(\"ussr\")"
   ]
  },
  {
   "cell_type": "code",
   "execution_count": 773,
   "metadata": {},
   "outputs": [
    {
     "data": {
      "text/plain": [
       "[('hop', '0.828'),\n",
       " ('hip', '0.817'),\n",
       " ('funk', '0.758'),\n",
       " ('rock', '0.737'),\n",
       " ('punk', '0.706'),\n",
       " ('music', '0.676'),\n",
       " ('pop', '0.666'),\n",
       " ('scene', '0.659'),\n",
       " ('band', '0.657'),\n",
       " ('jazz', '0.625')]"
      ]
     },
     "execution_count": 773,
     "metadata": {},
     "output_type": "execute_result"
    }
   ],
   "source": [
    "model.nearest_words(\"rap\")"
   ]
  },
  {
   "cell_type": "code",
   "execution_count": 774,
   "metadata": {},
   "outputs": [
    {
     "data": {
      "text/plain": [
       "[('computation', '0.547'),\n",
       " ('mathematical', '0.532'),\n",
       " ('calculations', '0.499'),\n",
       " ('polynomial', '0.485'),\n",
       " ('calculation', '0.473'),\n",
       " ('practical', '0.460'),\n",
       " ('statistical', '0.456'),\n",
       " ('symbolic', '0.455'),\n",
       " ('geometric', '0.441'),\n",
       " ('simplest', '0.438')]"
      ]
     },
     "execution_count": 774,
     "metadata": {},
     "output_type": "execute_result"
    }
   ],
   "source": [
    "model.nearest_words(\"numerical\")"
   ]
  },
  {
   "cell_type": "code",
   "execution_count": 775,
   "metadata": {},
   "outputs": [
    {
     "data": {
      "text/plain": [
       "[('differential', '0.759'),\n",
       " ('equations', '0.724'),\n",
       " ('equation', '0.682'),\n",
       " ('continuous', '0.674'),\n",
       " ('multiplication', '0.674'),\n",
       " ('integral', '0.672'),\n",
       " ('algebraic', '0.667'),\n",
       " ('vector', '0.654'),\n",
       " ('algebra', '0.630'),\n",
       " ('inverse', '0.622')]"
      ]
     },
     "execution_count": 775,
     "metadata": {},
     "output_type": "execute_result"
    }
   ],
   "source": [
    "model.nearest_words(\"linear\")"
   ]
  },
  {
   "cell_type": "code",
   "execution_count": 776,
   "metadata": {},
   "outputs": [
    {
     "data": {
      "text/plain": [
       "[('geometry', '0.795'),\n",
       " ('calculus', '0.730'),\n",
       " ('algebraic', '0.716'),\n",
       " ('differential', '0.687'),\n",
       " ('equations', '0.665'),\n",
       " ('equation', '0.648'),\n",
       " ('theorem', '0.647'),\n",
       " ('topology', '0.634'),\n",
       " ('linear', '0.630'),\n",
       " ('integral', '0.618')]"
      ]
     },
     "execution_count": 776,
     "metadata": {},
     "output_type": "execute_result"
    }
   ],
   "source": [
    "model.nearest_words(\"algebra\")"
   ]
  },
  {
   "cell_type": "markdown",
   "metadata": {},
   "source": [
    "6. Calculate top 10 nearest neighbours with the corresponding cosine similarities for the words {numerical, linear, algebra} and insert them in the correspoding functions in ```pset2.py```."
   ]
  },
  {
   "cell_type": "markdown",
   "metadata": {},
   "source": [
    "# Problem 4 (eigenvalues)  45 pts\n",
    "\n",
    "### 1. Theoretical tasks\n",
    "\n",
    "* (5 pts) Prove that normal matrix is Hermitian iff its eigenvalues are real. Prove that normal matrix is unitary iff its eigenvalues satisfy $|\\lambda| = 1$. "
   ]
  },
  {
   "cell_type": "markdown",
   "metadata": {},
   "source": [
    "$$A = A^* \\quad\\Rightarrow\\quad \\lambda(A) \\in \\mathbb{R}$$ \n",
    "\n",
    "$\\square\\quad$ WLOG consider $x:\\; \\|x\\| = 1$\n",
    "$$\n",
    "\\lambda = \\langle x,Ax \\rangle = \\langle Ax,x \\rangle = \\overline{\\lambda}\n",
    "\\qquad\\blacksquare$$"
   ]
  },
  {
   "cell_type": "markdown",
   "metadata": {},
   "source": [
    "$$A^*A = AA^* \\quad\\&\\&\\quad \\lambda(A) \\in \\mathbb{R}\\quad\\Rightarrow\\quad A = A^*$$\n",
    "$\\square\\quad$ Since A is normal, we can write is in the form:\n",
    "$A = U\\Lambda U^*$, where $U$ is unitary, $\\Lambda$ is diagonal and contains eigenvalues of $A$.    \n",
    "$$\\Lambda = \\Lambda^*,$$ because $\\lambda(A) \\in \\mathbb{R}$.   \n",
    "Therefore, $$A^* = U\\Lambda^* U = U\\Lambda U^* = A \\quad\\blacksquare$$"
   ]
  },
  {
   "cell_type": "markdown",
   "metadata": {},
   "source": [
    "***"
   ]
  },
  {
   "cell_type": "markdown",
   "metadata": {},
   "source": [
    "$$V \\;\\text{is unitary}\\quad\\Rightarrow\\quad |\\lambda(V)| = 1$$\n",
    "\n",
    "$\\square\\quad$ Note, $V$ is normal and, hence, diagonalizable. Then\n",
    "\n",
    "$$(U\\Lambda U^*)^* = V^* = V^{-1} = (U\\Lambda U^*)^{-1}$$  \n",
    "$$U\\Lambda^* U^* = U\\Lambda^{-1} U^*$$ \n",
    "$$\\Lambda^* \\Lambda = I \\quad\\rightarrow\\quad \n",
    "\\overline{\\lambda}\\lambda = |\\lambda|^2 = 1\\quad\\blacksquare$$  "
   ]
  },
  {
   "cell_type": "markdown",
   "metadata": {},
   "source": [
    "$V$ is normal and $|\\lambda(V)| = 1 \\quad\\Rightarrow\\quad V$ is unitary\n",
    "\n",
    "$\\square\\quad$ Since $V$ is normal  \n",
    "$$V = U\\Lambda U^*$$  \n",
    "This $|\\lambda(V)| = 1$ may be written as $\\Lambda^* \\Lambda = I$  \n",
    "Thus,\n",
    "$$VV^* = U\\Lambda U^* U\\Lambda^* U^* = \n",
    "U\\Lambda\\Lambda^* U^* = UU^* = 1\\quad\\blacksquare$$\n"
   ]
  },
  {
   "cell_type": "code",
   "execution_count": null,
   "metadata": {},
   "outputs": [],
   "source": []
  },
  {
   "cell_type": "markdown",
   "metadata": {},
   "source": [
    "* (5 pts) The following problem illustrates instability of the Jordan form. Find theoretically the eigenvalues of the perturbed Jordan block:\n",
    "\n",
    "$$\n",
    "    J(\\varepsilon) = \n",
    "    \\begin{bmatrix} \n",
    "     \\lambda & 1 & & & 0 \\\\ \n",
    "     & \\lambda & 1 & & \\\\ \n",
    "     &  & \\ddots & \\ddots & \\\\ \n",
    "     & & & \\lambda & 1 \\\\ \n",
    "     \\varepsilon & & & & \\lambda  \\\\ \n",
    "    \\end{bmatrix}_{n\\times n}\n",
    "$$\n",
    "\n",
    "Comment how eigenvalues of $J(0)$ are perturbed for large $n$.\n",
    "\n",
    "<font color='red'> I suppose, that here the determinant is already written and also it is probably suggested to consider on $J$ for large $n$ not at zero, since it is not perturbed herein </font>"
   ]
  },
  {
   "cell_type": "markdown",
   "metadata": {},
   "source": [
    "Let's lay out the determinant of $J$ over its 1st column\n",
    "\n",
    "$$\n",
    "    \\det J(\\varepsilon) \\;=\\; (-1)^{n+1}\\varepsilon\\cdot\n",
    "    \\begin{vmatrix} \n",
    "     1 & & & & 0 \\\\ \n",
    "     \\lambda & 1 & & \\\\ \n",
    "     & \\ddots & \\ddots & \\\\ \n",
    "     & & \\lambda& 1 \\\\ \n",
    "     0& & & \\lambda & 1 \\\\ \n",
    "    \\end{vmatrix}_{\\;n-1\\times n-1}\n",
    "    \\!\\!\\!\\!\\!\\!\\!\\!\\! + \\quad \\lambda \\cdot \n",
    "    \\begin{vmatrix} \n",
    "     \\lambda & 1 & & & 0 \\\\ \n",
    "     & \\lambda & 1 & & \\\\ \n",
    "     &  & \\ddots & \\ddots & \\\\ \n",
    "     & & & \\lambda & 1 \\\\ \n",
    "     0 & & & & \\lambda  \\\\ \n",
    "    \\end{vmatrix}_{\\;n-1\\times n-1}\n",
    "$$\n",
    "\n",
    "$$\n",
    "    = \\lambda^n -(-1)^n\\varepsilon = 0\n",
    "$$\n",
    "\n",
    "Therefore, $\\lambda = \\sqrt[n]{\\varepsilon}\\cdot \\underbrace{\\sqrt[n]{-1}}_{n \\text{ roots}}$, i.e. the eigenvalues of $J$ are distributed on a circle with radius $\\sqrt[n]{\\varepsilon}$ around the origin  \n",
    "For large $n$, we have $\\sqrt[n]\\varepsilon \\rightarrow 1$ - and eigenvalues are the unit circle with centre in the origin"
   ]
  },
  {
   "cell_type": "code",
   "execution_count": null,
   "metadata": {},
   "outputs": [],
   "source": []
  },
  {
   "cell_type": "markdown",
   "metadata": {},
   "source": [
    "### 2. PageRank\n",
    "\n",
    "\n",
    "#### Damping factor importance\n",
    "\n",
    "* (5 pts) Write the function ```pagerank_matrix(A)``` that takes an adjacency matrix $A$ (in both sparse and dense formats) as an input and outputs the corresponding PageRank matrix $G$ (Google matrix)."
   ]
  },
  {
   "cell_type": "markdown",
   "metadata": {},
   "source": [
    "* (3 pts) Find PageRank matrix $G$ that corresponds to the following graph: \n",
    "<img src=\"./data/graph.png\" width=300>\n",
    "What is its largest eigenvalue? What multiplicity does it have?"
   ]
  },
  {
   "cell_type": "code",
   "execution_count": 32,
   "metadata": {},
   "outputs": [],
   "source": [
    "# implement the functions in the pset2.py file\n",
    "from pset2 import pagerank_matrix, power_method, pagerank_matvec\n",
    "from scipy.sparse import csr_matrix\n",
    "import matplotlib.pyplot as plt\n",
    "import numpy as np"
   ]
  },
  {
   "cell_type": "code",
   "execution_count": 2,
   "metadata": {},
   "outputs": [
    {
     "data": {
      "text/plain": [
       "array([[0. , 0. , 0.5, 0. , 0. ],\n",
       "       [1. , 0. , 0.5, 0. , 0. ],\n",
       "       [0. , 1. , 0. , 0. , 0. ],\n",
       "       [0. , 0. , 0. , 0. , 1. ],\n",
       "       [0. , 0. , 0. , 1. , 0. ]])"
      ]
     },
     "execution_count": 2,
     "metadata": {},
     "output_type": "execute_result"
    }
   ],
   "source": [
    "#4.2.2\n",
    "row = [0,1,1,2,3,4]\n",
    "col = [2,0,2,1,4,3]\n",
    "data = [1,1,1,1,1,1]\n",
    "A = csr_matrix((data,(row,col)),shape=(5,5))\n",
    "G = pagerank_matrix(A)\n",
    "G.toarray()"
   ]
  },
  {
   "cell_type": "markdown",
   "metadata": {},
   "source": [
    "***The characteristic equation of the matrix above:***\n",
    "\n",
    "$$\n",
    "    (\\lambda + 1)(\\lambda - 1)^2 \n",
    "    (\\lambda + \\frac{1}{2} + \\frac{i}{2})\n",
    "    (\\lambda + \\frac{1}{2} - \\frac{i}{2}) = 0\n",
    "$$\n",
    "\n",
    "***Our universe is designed so that you can't compare (order) complex numbers. The question \"what is the largest eigenvalue?\" is ill-posed. I can only compare real eigenvalues or compare all by their module (conversion to real and then comparison). I geuss, what was presumed is the largest real eigenvalue, which is $\\lambda = 1$ of multiplicity 2***"
   ]
  },
  {
   "cell_type": "markdown",
   "metadata": {},
   "source": [
    "* (5 pts) Implement the power method for a given matrix $A$, an initial guess $x_0$ and a number of iterations ```num_iter```. It should be organized as a function ```power_method(A, x0, num_iter)``` that outputs approximation to eigenvector $x$, eigenvalue $\\lambda$ and history of residuals $\\{\\|Ax_k - \\lambda_k x_k\\|_2\\}$. Make sure that the method conveges to the correct solution on a matrix $\\begin{bmatrix} 2 & -1 \\\\ -1 & 2 \\end{bmatrix}$ which is known to have the largest eigenvalue equal to $3$."
   ]
  },
  {
   "cell_type": "code",
   "execution_count": 3,
   "metadata": {},
   "outputs": [
    {
     "name": "stdout",
     "output_type": "stream",
     "text": [
      "3.0000000000000004\n",
      "s converges to 3 is True\n"
     ]
    }
   ],
   "source": [
    "#4.2.3\n",
    "A = np.array([[2,-1],\n",
    "              [-1,2]])\n",
    "x0 = np.array([1,0])\n",
    "x,s,res = power_method(A,x0,100)\n",
    "print(s,\"s converges to 3 is {}\".format(np.allclose(3,s)),sep='\\n')"
   ]
  },
  {
   "cell_type": "markdown",
   "metadata": {},
   "source": [
    "* (2 pts) Run the power method for the graph presented above and plot residuals $\\|Ax_k - \\lambda_k x_k\\|_2$ as a function of $k$ for ```num_iter=100``` and random initial guess ```x0```.  Explain the absence of convergence. "
   ]
  },
  {
   "cell_type": "code",
   "execution_count": 4,
   "metadata": {},
   "outputs": [
    {
     "name": "stdout",
     "output_type": "stream",
     "text": [
      "0.7856340621782084\n"
     ]
    },
    {
     "data": {
      "text/plain": [
       "<matplotlib.legend.Legend at 0x136f40cdbe0>"
      ]
     },
     "execution_count": 4,
     "metadata": {},
     "output_type": "execute_result"
    },
    {
     "data": {
      "image/png": "[encoded data removed]",
      "text/plain": [
       "<Figure size 432x288 with 1 Axes>"
      ]
     },
     "metadata": {},
     "output_type": "display_data"
    }
   ],
   "source": [
    "#4.2.4\n",
    "# before executing this cell make sure that the last time \n",
    "# you exucuted 4.2.4 cell\n",
    "x0 = np.random.rand(G.shape[0])\n",
    "# x0 = np.array([1,0,0,0,0]) converges for the \n",
    "# deterministically selected start point\n",
    "x,s,res = power_method(G,x0,100)\n",
    "\n",
    "print(s)\n",
    "plt.plot(res,label=\"residual\")\n",
    "plt.plot([0] * 100,label=\"zero lvl\")\n",
    "plt.title(\"Residual vs number of iteration\",size=15)\n",
    "plt.xlabel(\"iteration number\",size=15)\n",
    "plt.ylabel(\"res\",size=15)\n",
    "plt.yscale(\"log\")\n",
    "plt.grid()\n",
    "plt.legend()"
   ]
  },
  {
   "cell_type": "markdown",
   "metadata": {},
   "source": [
    "***The graph from the image has two nodes 3 and 4 which link to each other and nowhere else. If we start from one of these nodes we will go in a circle - moving from one vertex to another. So, our vector $x$ will flip from one direction to the opposite and back - and we will never converge. This problem is called \"spider trap\". And may be eliminated with introducing the damping factor***"
   ]
  },
  {
   "cell_type": "code",
   "execution_count": null,
   "metadata": {},
   "outputs": [],
   "source": []
  },
  {
   "cell_type": "markdown",
   "metadata": {},
   "source": [
    "* (2 pts) Consider the same graph, but with a directed edge that goes from the node 3 to the node 4 being removed. Plot residuals as in the previous task and discuss the convergence. Now, run the power method with ```num_iter=100``` for 10 different initial guesses and print/plot the resulting approximated eigenvectors. Why do they depend on the initial guess?"
   ]
  },
  {
   "cell_type": "code",
   "execution_count": 5,
   "metadata": {},
   "outputs": [
    {
     "name": "stdout",
     "output_type": "stream",
     "text": [
      "Google matrix\n",
      " [[0.  0.  0.5 0.  0. ]\n",
      " [1.  0.  0.5 0.  0. ]\n",
      " [0.  1.  0.  0.  0. ]\n",
      " [0.  0.  0.  0.  1. ]\n",
      " [0.  0.  0.  0.  0. ]]\n",
      "lambda = 1.0000000000000004\n",
      "\n",
      "Eigenvectors for different start points\n",
      "[0.33333333 0.66666667 0.66666667 0.         0.        ]\n",
      "[-0.33333333 -0.66666667 -0.66666667  0.          0.        ]\n",
      "[0.33333333 0.66666667 0.66666667 0.         0.        ]\n",
      "[-0.33333333 -0.66666667 -0.66666667  0.          0.        ]\n",
      "[0.33333333 0.66666667 0.66666667 0.         0.        ]\n",
      "[0.33333333 0.66666667 0.66666667 0.         0.        ]\n",
      "[-0.33333333 -0.66666667 -0.66666667  0.          0.        ]\n",
      "[0.33333333 0.66666667 0.66666667 0.         0.        ]\n",
      "[-0.33333333 -0.66666667 -0.66666667  0.          0.        ]\n",
      "[-0.33333333 -0.66666667 -0.66666667  0.          0.        ]\n"
     ]
    },
    {
     "data": {
      "image/png": "[encoded data removed]",
      "text/plain": [
       "<Figure size 432x288 with 1 Axes>"
      ]
     },
     "metadata": {},
     "output_type": "display_data"
    }
   ],
   "source": [
    "#4.2.5\n",
    "row = [0,1,1,2,3]\n",
    "col = [2,0,2,1,4]\n",
    "data = [1,1,1,1,1]\n",
    "A = csr_matrix((data,(row,col)),shape=(5,5))\n",
    "G = pagerank_matrix(A)\n",
    "print(\"Google matrix\\n\",G.toarray())\n",
    "\n",
    "x0 = np.random.randint(1,3,G.shape[0])\n",
    "x,s,res = power_method(G,x0,100)\n",
    "print(\"lambda =\",s)\n",
    "plt.plot(res,label=\"residual\")\n",
    "plt.plot([0] * 100,label=\"zero lvl\")\n",
    "plt.title(\"Power Method Convergence\",size=15)\n",
    "plt.xlabel(\"k\",size=15)\n",
    "plt.ylabel(r\"$\\||A x_k - \\lambda_k x_k\\||_2$\",size=15)\n",
    "plt.yscale(\"log\")\n",
    "plt.grid()\n",
    "plt.legend()\n",
    "\n",
    "print(\"\\nEigenvectors for different start points\")\n",
    "for _ in range(10):\n",
    "    x0 = np.random.randn(G.shape[0])\n",
    "    print(power_method(G,x0,100)[0])"
   ]
  },
  {
   "cell_type": "markdown",
   "metadata": {},
   "source": [
    "***Here we have a dangling node: when we removed the edge from 3 to 4, we isolated vertex 3. There are no outgoing links. So, once we get there we are stuck and the ranking score is leaking (two last coordinates become 0), since it can't be transmited from there to anywhere. It converges but converges to a wrong result.  \n",
    "Changing of sign occurs due to the fact that we compute just the absolute value of the eigenpair. Vector $x$ is set colinear to some certain direction, however it may point in the opposite directions***"
   ]
  },
  {
   "cell_type": "code",
   "execution_count": null,
   "metadata": {},
   "outputs": [],
   "source": []
  },
  {
   "cell_type": "markdown",
   "metadata": {},
   "source": [
    "In order to avoid this problem Larry Page and Sergey Brin [proposed](http://ilpubs.stanford.edu:8090/422/1/1999-66.pdf) to use the following regularization technique:\n",
    "\n",
    "$$\n",
    "A_d = dA + \\frac{1-d}{N} \\begin{pmatrix} 1 & \\dots & 1 \\\\ \\vdots & & \\vdots \\\\ 1 & \\dots & 1 \\end{pmatrix},\n",
    "$$\n",
    "\n",
    "where $d$ is a small parameter in $[0,1]$ (typically $d=0.85$), which is called **damping factor**, $A$ is of size $N\\times N$. Now $A_d$ is the matrix with multiplicity of the largest eigenvalue equal to 1. \n",
    "Recall that computing the eigenvector of the PageRank matrix, which corresponds to the largest eigenvalue, has the following interpretation. Consider a person who stays in a random node of a graph (i.e. opens a random web page); at each step s/he follows one of the outcoming edges uniformly at random (i.e. opens one of the links). So the person randomly walks through the graph and the eigenvector we are looking for is exactly his/her stationary distribution â€” for each node it tells you the probability of visiting this particular node. Therefore, if the person has started from a part of the graph which is not connected with the other part, he will never get there.  In the regularized model, the person at each step follows one of the outcoming links with probability $d$ OR teleports to a random node from the whole graph with probability $(1-d)$.\n",
    "\n",
    "* (2 pts) Now, run the power method with $A_d$ and plot residuals $\\|A_d x_k - \\lambda_k x_k\\|_2$ as a function of $k$ for $d=0.97$, ```num_iter=100``` and a random initial guess ```x0```."
   ]
  },
  {
   "cell_type": "code",
   "execution_count": 6,
   "metadata": {},
   "outputs": [],
   "source": [
    "# The version accounting the presense of zero columns\n",
    "def better_pagerank_matrix(A):\n",
    "    # enter your code here\n",
    "    if type(A) is not np.ndarray:\n",
    "        positions = (A.sum(0) == 0).nonzero()[1]\n",
    "        rows = np.repeat(range(A.shape[0]),len(positions))\n",
    "        cols = np.tile(positions,A.shape[0])\n",
    "        data = [1] * A.shape[0] * len(positions)\n",
    "        B = csr_matrix((data,(rows,cols)),shape=A.shape)\n",
    "        C = A + B\n",
    "        return csr_matrix(C / C.sum(0))\n",
    "    B = np.copy(A)\n",
    "    positions = (A.sum(0) == 0).nonzero()[0]\n",
    "    B[:,positions] = 1\n",
    "    return csr_matrix(B / B.sum(0))"
   ]
  },
  {
   "cell_type": "code",
   "execution_count": 7,
   "metadata": {},
   "outputs": [
    {
     "name": "stdout",
     "output_type": "stream",
     "text": [
      "Google matrix\n",
      " [[0.006 0.006 0.491 0.2   0.006]\n",
      " [0.976 0.006 0.491 0.2   0.006]\n",
      " [0.006 0.976 0.006 0.2   0.006]\n",
      " [0.006 0.006 0.006 0.2   0.976]\n",
      " [0.006 0.006 0.006 0.2   0.006]]\n",
      "lambda = 1.0\n",
      "x = [-0.33834882 -0.66654718 -0.66323205 -0.03286212 -0.01668128]\n"
     ]
    },
    {
     "data": {
      "text/plain": [
       "<matplotlib.legend.Legend at 0x136f4634a90>"
      ]
     },
     "execution_count": 7,
     "metadata": {},
     "output_type": "execute_result"
    },
    {
     "data": {
      "image/png": "[encoded data removed]",
      "text/plain": [
       "<Figure size 432x288 with 1 Axes>"
      ]
     },
     "metadata": {},
     "output_type": "display_data"
    }
   ],
   "source": [
    "#4.2.6\n",
    "row = [0,1,1,2,3]\n",
    "col = [2,0,2,1,4]\n",
    "data = [1,1,1,1,1]\n",
    "A = np.zeros((5,5))\n",
    "\n",
    "A = csr_matrix((data,(row,col)),shape=(5,5))\n",
    "G = better_pagerank_matrix(A)\n",
    "\n",
    "\n",
    "d = 0.97\n",
    "N = G.shape[0]\n",
    "G_d = (d * G).toarray() + (1-d) / N\n",
    "print(\"Google matrix\\n\",G_d)\n",
    "\n",
    "x0 = np.random.randn(N)\n",
    "x,s,res = power_method(G_d,x0,100)\n",
    "print(\"lambda =\",s)\n",
    "print(\"x =\",x)\n",
    "plt.plot(res,label=\"residual\")\n",
    "plt.plot([0] * 100,label=\"zero lvl\")\n",
    "plt.title(\"Power Method Convergence\",size=15)\n",
    "plt.xlabel(\"k\",size=15)\n",
    "plt.ylabel(r\"$\\||A x_k - \\lambda_k x_k\\||_2$\",size=15)\n",
    "plt.yscale(\"log\")\n",
    "plt.grid()\n",
    "plt.legend()"
   ]
  },
  {
   "cell_type": "markdown",
   "metadata": {},
   "source": [
    "* (5 pts) Find the second largest in the absolute value eigenvalue of the obtained matrix $A_d$. How and why is it connected to the damping factor $d$? What is the convergence rate of the PageRank algorithm when using damping factor?"
   ]
  },
  {
   "cell_type": "code",
   "execution_count": 8,
   "metadata": {},
   "outputs": [
    {
     "name": "stdout",
     "output_type": "stream",
     "text": [
      "convergence rate is nan\n",
      "rough estimation of the second largest: nan\n",
      "the 2nd largest real eigenvalue in abs. value 0.541509842410716\n"
     ]
    },
    {
     "name": "stderr",
     "output_type": "stream",
     "text": [
      "C:\\Users\\onion\\Anaconda3\\lib\\site-packages\\ipykernel_launcher.py:1: RuntimeWarning: divide by zero encountered in log2\n",
      "  \"\"\"Entry point for launching an IPython kernel.\n"
     ]
    }
   ],
   "source": [
    "q = abs(np.polyfit(np.arange(100),np.log2(res),1))[0]\n",
    "print(\"convergence rate is\", q)\n",
    "print(\"rough estimation of the second largest:\",q * s)\n",
    "print(\"the 2nd largest real eigenvalue in abs. value\",\n",
    "      np.sort(abs(np.linalg.eig(G_d)[0].real))[-2])"
   ]
  },
  {
   "cell_type": "markdown",
   "metadata": {},
   "source": [
    "Usually, graphs that arise in various areas are sparse (social, web, road networks, etc.) and, thus, computation of a matrix-vector product for corresponding PageRank matrix $A$ is much cheaper than $\\mathcal{O}(N^2)$. However, if $A_d$ is calculated directly, it becomes dense and, therefore, $\\mathcal{O}(N^2)$ cost grows prohibitively large for  big $N$.\n",
    "\n",
    "\n",
    "* (2 pts) Implement fast matrix-vector product for $A_d$ as a function ```pagerank_matvec(A, d, x)```, which takes a PageRank matrix $A$ (in sparse format, e.g., ```csr_matrix```), damping factor $d$ and a vector $x$ as an input and returns $A_dx$ as an output. "
   ]
  },
  {
   "cell_type": "markdown",
   "metadata": {},
   "source": [
    "* (1 pts) Generate a random adjacency matrix of size $10000 \\times 10000$ with only 100 non-zero elements and compare ```pagerank_matvec``` performance with direct evaluation of $A_dx$."
   ]
  },
  {
   "cell_type": "code",
   "execution_count": 10,
   "metadata": {},
   "outputs": [],
   "source": [
    "def sampling(low,high,num):\n",
    "    '''\n",
    "    Generates $num$ unique elements from the given range\n",
    "    $[low,high)$\n",
    "    \n",
    "    Oсcupies less memory, but there is the restriction\n",
    "    on its use: the greater the ratio $num / (high - low)$\n",
    "    the less probability to generate a unique sample in a small\n",
    "    number of repetitions\n",
    "    '''\n",
    "    if num / (high - low) > 0.1:\n",
    "        raise Exception(\"Use more advanced method\")\n",
    "    sample = np.random.randint(low,high,num)\n",
    "    i = 1\n",
    "    while len(set(sample)) != num:\n",
    "        i += 1\n",
    "        sample = np.random.randint(low,high,num)\n",
    "    print(\"sample has been constructed in {} repetition(s)\".format(i))\n",
    "    return sample"
   ]
  },
  {
   "cell_type": "code",
   "execution_count": 11,
   "metadata": {},
   "outputs": [],
   "source": [
    "def advanced_sampling(n,r):\n",
    "    '''\n",
    "    Generates a matrix of size n-by-n filled with r ones\n",
    "    The rest is zero.\n",
    "    \n",
    "    For a fixed input the runtime is relatively constant\n",
    "    '''\n",
    "    B = np.zeros(n * n)\n",
    "    B[:r*r] = np.ones(r * r)\n",
    "    np.random.shuffle(B)\n",
    "    B = B.reshape(n,n)\n",
    "    return csr_matrix(B)"
   ]
  },
  {
   "cell_type": "code",
   "execution_count": 42,
   "metadata": {},
   "outputs": [
    {
     "name": "stdout",
     "output_type": "stream",
     "text": [
      "sample has been constructed in 1 repetition(s)\n",
      "sample has been constructed in 1 repetition(s)\n"
     ]
    }
   ],
   "source": [
    "N = 10000\n",
    "r = 100\n",
    "rows = sampling(0,N,r)\n",
    "cols = sampling(0,N,r)\n",
    "data = np.ones(r)\n",
    "A = csr_matrix((data,(rows,cols)),shape=(N,N))\n",
    "#A = advanced_sampling(N,r)\n",
    "x = np.random.rand(N)"
   ]
  },
  {
   "cell_type": "code",
   "execution_count": 54,
   "metadata": {},
   "outputs": [
    {
     "name": "stdout",
     "output_type": "stream",
     "text": [
      "1.92 s ± 21.6 ms per loop (mean ± std. dev. of 7 runs, 1 loop each)\n"
     ]
    }
   ],
   "source": [
    "G = better_pagerank_matrix(A)\n",
    "%timeit ((d * G).toarray() + (1 - d) / N) @ x\n",
    "y1 = ((d * G).toarray() + (1 - d) / N) @ x"
   ]
  },
  {
   "cell_type": "code",
   "execution_count": 55,
   "metadata": {},
   "outputs": [
    {
     "name": "stdout",
     "output_type": "stream",
     "text": [
      "358 µs ± 12.7 µs per loop (mean ± std. dev. of 7 runs, 1000 loops each)\n"
     ]
    }
   ],
   "source": [
    "G = pagerank_matrix(A)\n",
    "%timeit pagerank_matvec(G,d,x)\n",
    "y2 = pagerank_matvec(G,d,x)"
   ]
  },
  {
   "cell_type": "code",
   "execution_count": 56,
   "metadata": {},
   "outputs": [
    {
     "data": {
      "text/plain": [
       "True"
      ]
     },
     "execution_count": 56,
     "metadata": {},
     "output_type": "execute_result"
    }
   ],
   "source": [
    "np.allclose(y1,y2)"
   ]
  },
  {
   "cell_type": "markdown",
   "metadata": {},
   "source": [
    "```pagerank_matvec```***is more than 1000 times faster in comparison with the naive multiplication***"
   ]
  },
  {
   "cell_type": "markdown",
   "metadata": {},
   "source": [
    "#### DBLP: computer science bibliography\n",
    "\n",
    "Download the dataset from [here](https://goo.gl/oZVxEa), unzip it and put `dblp_authors.npz`  and `dblp_graph.npz` in the same folder with this notebook. Each value (author name) from `dblp_authors.npz` corresponds to the row/column of the matrix from `dblp_graph.npz`. Value at row `i` and column `j` of the matrix from `dblp_graph.npz` corresponds to the number of times author `i` cited papers of the author `j`. Let us now find the most significant scientists according to PageRank model over DBLP data.\n",
    "\n",
    "* (4 pts) Load the weighted adjacency matrix and the authors list into Python using ```load_dblp(...)``` function. Print its density (fraction of nonzero elements). Find top-10 most cited authors from the weighted adjacency matrix. Now, make all the weights of the adjacency matrix equal to 1 for simplicity (consider only existence of connection between authors, not its weight). Obtain the PageRank matrix $A$ from the adjacency matrix and verify that it is stochastic."
   ]
  },
  {
   "cell_type": "code",
   "execution_count": 65,
   "metadata": {},
   "outputs": [],
   "source": [
    "from scipy.sparse import load_npz\n",
    "from scipy.sparse.linalg import LinearOperator\n",
    "import numpy as np\n",
    "import matplotlib.pyplot as plt"
   ]
  },
  {
   "cell_type": "code",
   "execution_count": 59,
   "metadata": {},
   "outputs": [],
   "source": [
    "def load_dblp(path_auth, path_graph):\n",
    "    A = load_npz(path_graph).astype(float)\n",
    "    with np.load(path_auth) as data: authors = data['authors']\n",
    "    return A, authors\n",
    "A, authors = load_dblp('./data/dblp/dblp_authors.npz',\n",
    "                       './data/dblp/dblp_graph.npz')"
   ]
  },
  {
   "cell_type": "code",
   "execution_count": 60,
   "metadata": {},
   "outputs": [
    {
     "name": "stdout",
     "output_type": "stream",
     "text": [
      "top10:\n",
      "David G. Lowe\n",
      "David E. Culler\n",
      "Ion Stoica\n",
      "Jitendra Malik\n",
      "Cordelia Schmid\n",
      "Anil K. Jain\n",
      "Jiawei Han\n",
      "Hari Balakrishnan\n",
      "Andrew Zisserman\n",
      "Scott Shenker\n"
     ]
    }
   ],
   "source": [
    "# Your code is here\n",
    "A.size / A.shape[0] ** 2  # fraction of non-zero elements\n",
    "hindex = np.array(A.sum(0)).reshape(-1)\n",
    "top10 = np.argsort(hindex)[-10:]\n",
    "print(\"top10:\",*authors[top10],sep='\\n')\n",
    "A.data /= A.data\n",
    "G = pagerank_matrix(A)"
   ]
  },
  {
   "cell_type": "code",
   "execution_count": 61,
   "metadata": {},
   "outputs": [
    {
     "data": {
      "text/plain": [
       "True"
      ]
     },
     "execution_count": 61,
     "metadata": {},
     "output_type": "execute_result"
    }
   ],
   "source": [
    "# check that the matrix is the left-stochastic\n",
    "left_sums = np.array(G.sum(0),dtype=int).reshape(-1)\n",
    "np.all(left_sums[left_sums > 0] == 1)"
   ]
  },
  {
   "cell_type": "markdown",
   "metadata": {},
   "source": [
    " * (1 pts) In order to provide ```pagerank_matvec``` to your ```power_method``` (without rewriting it) for fast calculation of $A_dx$, you can create a ```LinearOperator```: \n",
    "```python\n",
    "L = scipy.sparse.linalg.LinearOperator(A.shape, matvec=lambda x, A=A, d=d: pagerank_matvec(A, d, x))\n",
    "```\n",
    "Calling ```L@x``` or ```L.dot(x)``` will result in calculation of ```pagerank_matvec(A, d, x)``` and, thus, you can plug $L$ instead of the matrix $A$ in the ```power_method``` directly. **Note:** though in the previous subtask graph was very small (so you could disparage fast matvec implementation), here it is very large (but sparse), so that direct evaluation of $A_dx$ will require $\\sim 10^{12}$ matrix elements to store - good luck with that (^_<)."
   ]
  },
  {
   "cell_type": "code",
   "execution_count": 62,
   "metadata": {},
   "outputs": [],
   "source": [
    "d = 0.85\n",
    "LinOp = LinearOperator(G.shape, matvec=lambda x: pagerank_matvec(G,d,x))"
   ]
  },
  {
   "cell_type": "markdown",
   "metadata": {},
   "source": [
    "* (2 pts) Run the power method starting from the vector of all ones and plot residuals $\\|A_dx_k - \\lambda_k x_k\\|_2$  as a function of $k$ for $d=0.85$."
   ]
  },
  {
   "cell_type": "code",
   "execution_count": 64,
   "metadata": {},
   "outputs": [],
   "source": [
    "x0 = np.ones(G.shape[0])\n",
    "x,s,res = power_method(LinOp,x0,100)"
   ]
  },
  {
   "cell_type": "code",
   "execution_count": 66,
   "metadata": {},
   "outputs": [
    {
     "data": {
      "image/png": "[encoded data removed]",
      "text/plain": [
       "<Figure size 432x288 with 1 Axes>"
      ]
     },
     "metadata": {},
     "output_type": "display_data"
    }
   ],
   "source": [
    "plt.plot(res)\n",
    "plt.title(\"Power Method Convergence\",size=15)\n",
    "plt.xlabel(\"k\",size=15)\n",
    "plt.ylabel(r\"$\\||A x_k - \\lambda_k x_k\\||_2$\",size=15)\n",
    "plt.yscale(\"log\")\n",
    "plt.grid()"
   ]
  },
  {
   "cell_type": "markdown",
   "metadata": {},
   "source": [
    "* (1 pts) Print names of the top-10 authors according to PageRank over DBLP when $d=0.85$. Comment on your findings."
   ]
  },
  {
   "cell_type": "code",
   "execution_count": 82,
   "metadata": {},
   "outputs": [
    {
     "name": "stdout",
     "output_type": "stream",
     "text": [
      "top10:\n",
      "Wei Wang\n",
      "Yang Liu\n",
      "Wei Zhang\n",
      "Lei Wang\n",
      "Wei Li\n",
      "Athanasios V. Vasilakos\n",
      "Lei Zhang\n",
      "Jun Zhang\n",
      "Jun Wang\n",
      "Li Li\n"
     ]
    }
   ],
   "source": [
    "top10 = np.argsort(x)[-10:]\n",
    "print(\"top10:\",*authors[top10][::-1],sep='\\n')"
   ]
  }
 ],
 "metadata": {
  "kernelspec": {
   "display_name": "Python 3",
   "language": "python",
   "name": "python3"
  },
  "language_info": {
   "codemirror_mode": {
    "name": "ipython",
    "version": 3
   },
   "file_extension": ".py",
   "mimetype": "text/x-python",
   "name": "python",
   "nbconvert_exporter": "python",
   "pygments_lexer": "ipython3",
   "version": "3.7.3"
  }
 },
 "nbformat": 4,
 "nbformat_minor": 2
}
