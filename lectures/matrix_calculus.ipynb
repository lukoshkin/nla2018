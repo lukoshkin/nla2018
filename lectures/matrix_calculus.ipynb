{
 "cells": [
  {
   "cell_type": "markdown",
   "metadata": {
    "hide_input": true,
    "nbpresent": {
     "id": "7e5f0ba3-2aab-4514-8a73-9cd9bab4b09e"
    },
    "slideshow": {
     "slide_type": "slide"
    }
   },
   "source": [
    "# Matrix Calculus"
   ]
  },
  {
   "cell_type": "markdown",
   "metadata": {
    "slideshow": {
     "slide_type": "slide"
    }
   },
   "source": [
    "## Kindergarten definitions\n",
    "### Gradient\n",
    "Let $f(x): \\mathbb{R}^n \\to \\mathbb{R}$, then vector, which contains all first order partial derivatives:\n",
    "$$\\nabla f(x) = \\dfrac{df}{dx} = \\begin{pmatrix}\n",
    "    \\frac{\\partial f}{\\partial x_1} \\\\\n",
    "    \\frac{\\partial f}{\\partial x_2} \\\\\n",
    "    \\vdots \\\\\n",
    "    \\frac{\\partial f}{\\partial x_n}\n",
    "\\end{pmatrix}$$\n",
    "named gradient of $f(x)$. This vector indicates the direction of steepest ascent. Thus, vector $- \\nabla f(x)$ means the direction of the steepest descent of the function in the point. Moreover, the gradient vector is always orthogonal to the contour line in the point.\n",
    "\n",
    "![wikipedia's image](./pics/gradient.gif)\n",
    " \n",
    "$$\\nabla f(x)^T = \\dfrac{df}{dx^T} = \\left(\\frac{\\partial f}{\\partial x_1}, \\frac{\\partial f}{\\partial x_2}, \\ldots, \\frac{\\partial f}{\\partial x_n} \\right)$$"
   ]
  },
  {
   "cell_type": "markdown",
   "metadata": {
    "slideshow": {
     "slide_type": "subslide"
    }
   },
   "source": [
    "### Hessian\n",
    "Let $f(x): \\mathbb{R}^n \\to \\mathbb{R}$, then matrix, containing all the second order partial derivatives:\n",
    "$$f''(x) = \\dfrac{d(\\nabla f)}{dx^T} = \\dfrac{d\\left(\\nabla f^T\\right)}{dx} = \\begin{pmatrix}\n",
    "    \\frac{\\partial^2 f}{\\partial x_1 \\partial x_1} & \\frac{\\partial^2 f}{\\partial x_1 \\partial x_2} & \\dots  & \\frac{\\partial^2 f}{\\partial x_1 \\partial x_n} \\\\\n",
    "    \\frac{\\partial^2 f}{\\partial x_2 \\partial x_1} & \\frac{\\partial^2 f}{\\partial x_2 \\partial x_2} & \\dots  & \\frac{\\partial^2 f}{\\partial x_2 \\partial x_n} \\\\\n",
    "    \\vdots & \\vdots & \\ddots & \\vdots \\\\\n",
    "    \\frac{\\partial^2 f}{\\partial x_n \\partial x_1} & \\frac{\\partial^2 f}{\\partial x_n \\partial x_2} & \\dots  & \\frac{\\partial^2 f}{\\partial x_n \\partial x_n}\n",
    "\\end{pmatrix}$$\n",
    "\n",
    "But actually, Hessian could be a tensor in such a way: $\\left(f(x): \\mathbb{R}^n \\to \\mathbb{R}^m \\right)$ is just 3d tensor, every slice is just hessian of corresponding scalar function $\\left( H\\left(f_1(x)\\right), H\\left(f_2(x)\\right), \\ldots, H\\left(f_m(x)\\right)\\right)$"
   ]
  },
  {
   "cell_type": "markdown",
   "metadata": {
    "slideshow": {
     "slide_type": "subslide"
    }
   },
   "source": [
    "### Jacobian\n",
    "The extension of the gradient of multidimensional $f(x): \\mathbb{R}^n \\to \\mathbb{R}^m$:\n",
    "$$f'(x) = \\dfrac{df}{dx^T} = \\begin{pmatrix}\n",
    "    \\frac{\\partial f_1}{\\partial x_1} & \\frac{\\partial f_1}{\\partial x_2} & \\dots  & \\frac{\\partial f_1}{\\partial x_n} \\\\\n",
    "    \\frac{\\partial f_2}{\\partial x_1} & \\frac{\\partial f_2}{\\partial x_2} & \\dots  & \\frac{\\partial f_2}{\\partial x_n} \\\\\n",
    "    \\vdots & \\vdots & \\ddots & \\vdots \\\\\n",
    "    \\frac{\\partial f_m}{\\partial x_1} & \\frac{\\partial f_m}{\\partial x_2} & \\dots  & \\frac{\\partial f_m}{\\partial x_n}\n",
    "\\end{pmatrix}$$"
   ]
  },
  {
   "cell_type": "markdown",
   "metadata": {
    "slideshow": {
     "slide_type": "slide"
    }
   },
   "source": [
    "## Matrix and vector derivatives\n",
    "### Table\n",
    "\n",
    "$$f(x) : X \\to Y; \\;\\;\\;\\;\\;\\;\\;\\; \\frac{\\partial f(x)}{\\partial x} \\in G$$\n",
    "\n",
    "\n",
    "|             X             |        Y       |             G             |                   Name                  |\n",
    "|:-------------------------:|:--------------:|:-------------------------:|:----------------------------------------------:|\n",
    "|        $\\mathbb{R}$       |  $\\mathbb{R}$  |        $\\mathbb{R}$       |              $f'(x)$ (derivative)             |\n",
    "|       $\\mathbb{R}^n$      |  $\\mathbb{R}$  |       $\\mathbb{R^n}$      |  $\\dfrac{\\partial f}{\\partial x_i}$ (gradient) |\n",
    "|       $\\mathbb{R}^n$      | $\\mathbb{R}^m$ | $\\mathbb{R}^{n \\times m}$ | $\\dfrac{\\partial f_i}{\\partial x_j}$ (jacobian) |\n",
    "| $\\mathbb{R}^{m \\times n}$ |  $\\mathbb{R}$  | $\\mathbb{R}^{m \\times n}$ |      $\\dfrac{\\partial f}{\\partial x_{ij}}$     |"
   ]
  },
  {
   "cell_type": "markdown",
   "metadata": {
    "slideshow": {
     "slide_type": "slide"
    }
   },
   "source": [
    "### The notation of differentials could be useful here\n",
    "* $dA = 0$\n",
    "* $d(\\alpha X) = \\alpha (dX)$\n",
    "* $d(AXB) = A(dX )B$\n",
    "* $d(X+Y) = dX + dY$\n",
    "* $d(X^\\top) = (dX)^\\top$\n",
    "* $d(XY) = (dX)Y + X(dY)$\n",
    "* $d\\langle X, Y\\rangle = \\langle dX, Y\\rangle+ \\langle X, dY\\rangle$\n",
    "* $d\\left( \\dfrac{X}{\\phi}\\right) = \\dfrac{\\phi dX - (d\\phi) X}{\\phi^2}$\n",
    "* $d\\left( \\det X \\right) = \\det X \\langle X^{-\\top}, dX \\rangle $\n",
    "* $d \\text{tr } X = I$\n",
    "* $df(g(x)) = \\dfrac{df}{dg} \\cdot dg(x)$"
   ]
  },
  {
   "cell_type": "markdown",
   "metadata": {
    "slideshow": {
     "slide_type": "fragment"
    }
   },
   "source": [
    "First order approximation\n",
    "\n",
    "$$\n",
    "df(x) = \\langle \\nabla f(x), dx\\rangle\n",
    "$$\n",
    "\n",
    "Second order approximation\n",
    "\n",
    "$$\n",
    "d^2f(x) = \\langle \\nabla^2 f(x) dx_1, dx_2\\rangle = \\langle H_f(x) dx_1, dx_2\\rangle\n",
    "$$"
   ]
  },
  {
   "cell_type": "markdown",
   "metadata": {
    "slideshow": {
     "slide_type": "slide"
    }
   },
   "source": [
    "## Examples\n",
    "\n",
    "All examples are divided by 2 groups: firstly we calculate derivatives manually, secondly we do it in differential notations\n",
    "\n",
    "### Example 1.1\n",
    "Calculate $\\nabla f(x)$, if $f(x) = c^Tx$"
   ]
  },
  {
   "cell_type": "markdown",
   "metadata": {
    "slideshow": {
     "slide_type": "fragment"
    }
   },
   "source": [
    "Solution:\n",
    "\n",
    "* $f(x) = \\sum\\limits_{i=1}^n c_i x_i$\n",
    "* $\\dfrac{\\partial f(x)}{\\partial x_k} = c_k \\rightarrow \\nabla f(x) = c$ "
   ]
  },
  {
   "cell_type": "markdown",
   "metadata": {
    "slideshow": {
     "slide_type": "subslide"
    }
   },
   "source": [
    "### Example 1.2\n",
    "Calculate $\\nabla f(x)$, if $f(x) = \\dfrac{1}{2}x^TAx + b^Tx + c$"
   ]
  },
  {
   "cell_type": "markdown",
   "metadata": {
    "slideshow": {
     "slide_type": "fragment"
    }
   },
   "source": [
    "Solution:\n",
    "\n",
    "* $f(x) = \\sum\\limits_{i=1}^n\\left[ \\dfrac{1}{2}x_i \\left(\\sum\\limits_{j=1}^n a_{ij}x_j \\right) + b_ix_i + c_i\\right] = \\dfrac{1}{2} \\sum\\limits_{i,j=1}^n\\left[ x_i a_{ij}x_j \\right] + \\sum\\limits_{i=1}^n b_ix_i + c_i$\n",
    "* $\\dfrac{\\partial f(x)}{\\partial x_i} = \\dfrac{1}{2}\\sum\\limits_{i,j=1}^n \\left(a_{ij} + a_{ji}\\right)x_i + b_i \\rightarrow \\nabla f(x) = \\dfrac{1}{2} \\left( A + A^T \\right)x + b$ "
   ]
  },
  {
   "cell_type": "markdown",
   "metadata": {
    "slideshow": {
     "slide_type": "subslide"
    }
   },
   "source": [
    "### Example 1.3\n",
    "Calculate $\\nabla f(x), f''(x)$, if $f(x) = -e^{-x^Tx}$"
   ]
  },
  {
   "cell_type": "markdown",
   "metadata": {
    "slideshow": {
     "slide_type": "fragment"
    }
   },
   "source": [
    "Решение: \n",
    "\n",
    "* $f(x) = - e ^{-\\sum\\limits_i x_i^2}$\n",
    "* Let's calculate one component of gradient vector:\n",
    "$$\\dfrac{\\partial f(x)}{\\partial x_k} = - e ^{-\\sum\\limits_i x_i^2} \\cdot \\left( \\dfrac{\\partial (-\\sum\\limits_i x_i^2)}{\\partial x_k} \\right) = e ^{-\\sum\\limits_i x_i^2} \\cdot 2x_k$$\n",
    "  Thus, we can state, that $\\nabla f(x) = 2 e^{-x^Tx} \\cdot x$\n",
    "* Absolutely the same logic could be \n",
    "$$g_k = \\dfrac{\\partial f(x)}{\\partial x_k} \\rightarrow H_{k,p} = \\dfrac{\\partial g_k}{\\partial x_p}$$\n",
    "$$H_{k,p} = - \\left( e ^{-\\sum\\limits_i x_i^2} \\cdot 2x_p\\right) 2x_k + 2 e ^{-\\sum\\limits_i x_i^2} \\dfrac{\\partial x_k}{\\partial x_p} = 2 e ^{-\\sum\\limits_i x_i^2} \\cdot \\left( \\dfrac{\\partial x_k}{\\partial x_p} - 2x_px_k\\right)$$\n",
    "\n",
    "* Finally, $f''(x) = H_{f(x)} = 2e^{-x^Tx} \\left( E - 2 xx^T\\right)$"
   ]
  },
  {
   "cell_type": "markdown",
   "metadata": {
    "slideshow": {
     "slide_type": "subslide"
    }
   },
   "source": [
    "### Example 2.1\n",
    "Calculate $\\nabla f(x)$, if $f(x) = \\dfrac{1}{2} \\|Ax - b\\|^2_2$"
   ]
  },
  {
   "cell_type": "markdown",
   "metadata": {
    "slideshow": {
     "slide_type": "fragment"
    }
   },
   "source": [
    "Solution:\n",
    "\n",
    "$$\n",
    "f(x) = \\dfrac{1}{2} \\langle Ax-b, Ax-b\\rangle\n",
    "$$\n",
    "\n",
    "$$\n",
    "d f(x) = \\dfrac{1}{2} 2  \\langle Ax-b, Adx\\rangle\n",
    "$$\n",
    "\n",
    "$$\n",
    "d f(x) = \\langle A^\\top(Ax-b), dx\\rangle \\;\\;\\;\\; \\to \\nabla f(x) = A^\\top (Ax-b)\n",
    "$$"
   ]
  },
  {
   "cell_type": "markdown",
   "metadata": {
    "slideshow": {
     "slide_type": "subslide"
    }
   },
   "source": [
    "### Example 2.2\n",
    "Calculate $\\nabla f(x)$, if $f(x) = \\ln \\langle Ax, x \\rangle$"
   ]
  },
  {
   "cell_type": "markdown",
   "metadata": {
    "slideshow": {
     "slide_type": "fragment"
    }
   },
   "source": [
    "Solution:\n",
    "\n",
    "$$\n",
    "df(x) = \\dfrac{d\\langle Ax, x \\rangle}{\\langle Ax, x \\rangle} = \\dfrac{Ad\\langle x, x \\rangle}{\\langle Ax, x \\rangle} = \\dfrac{2A \\langle x, dx \\rangle}{\\langle Ax, x \\rangle} = \\dfrac{2\\langle Ax, dx \\rangle}{\\langle Ax, x \\rangle}\n",
    "$$"
   ]
  },
  {
   "cell_type": "markdown",
   "metadata": {
    "slideshow": {
     "slide_type": "subslide"
    }
   },
   "source": [
    "### Example 2.3\n",
    "Calculate $\\nabla f(X)$, if $f(X) = \\text{tr } AX$"
   ]
  },
  {
   "cell_type": "markdown",
   "metadata": {
    "slideshow": {
     "slide_type": "fragment"
    }
   },
   "source": [
    "Solution:\n",
    "\n",
    "$$\n",
    "f(X) = \\langle A^\\top, X\\rangle\n",
    "$$\n",
    "\n",
    "$$\n",
    "d f(X) = d \\langle A^\\top, X\\rangle = \\langle A^\\top, dX\\rangle\n",
    "$$\n",
    "\n",
    "$$\n",
    "\\nabla f(X) = A^\\top\n",
    "$$"
   ]
  },
  {
   "cell_type": "markdown",
   "metadata": {
    "slideshow": {
     "slide_type": "subslide"
    }
   },
   "source": [
    "### Example 2.4\n",
    "Calculate $\\nabla f(X)$, if $f(X) = \\langle S, X\\rangle - \\log \\det X$"
   ]
  },
  {
   "cell_type": "markdown",
   "metadata": {
    "slideshow": {
     "slide_type": "fragment"
    }
   },
   "source": [
    "Solution:\n",
    "\n",
    "$$\n",
    "df(X) = \\langle S, dX \\rangle - \\dfrac{d(\\det X)}{\\det X}\n",
    "$$\n",
    "\n",
    "$$\n",
    "df(X) = \\langle S, dX \\rangle - \\dfrac{\\det X \\langle X^{-\\top}, dX\\rangle}{\\det X}\n",
    "$$\n",
    "\n",
    "Suppose, that $\\det X \\neq 0$\n",
    "\n",
    "$$\n",
    "df(X) = \\langle S, dX \\rangle - \\langle X^{-\\top}, dX\\rangle = \\langle S - X^{-\\top} , dX\\rangle\n",
    "$$"
   ]
  }
 ],
 "metadata": {
  "anaconda-cloud": {},
  "celltoolbar": "Slideshow",
  "kernelspec": {
   "display_name": "Python 3",
   "language": "python",
   "name": "python3"
  },
  "language_info": {
   "codemirror_mode": {
    "name": "ipython",
    "version": 3
   },
   "file_extension": ".py",
   "mimetype": "text/x-python",
   "name": "python",
   "nbconvert_exporter": "python",
   "pygments_lexer": "ipython3",
   "version": "3.7.3"
  },
  "latex_envs": {
   "LaTeX_envs_menu_present": true,
   "bibliofile": "biblio.bib",
   "cite_by": "apalike",
   "current_citInitial": 1,
   "eqLabelWithNumbers": true,
   "eqNumInitial": 1,
   "labels_anchors": false,
   "latex_user_defs": false,
   "report_style_numbering": false,
   "user_envs_cfg": false
  },
  "nbpresent": {
   "slides": {
    "02f2ea68-6ad5-45a7-b48e-c2dac726dc1b": {
     "id": "02f2ea68-6ad5-45a7-b48e-c2dac726dc1b",
     "prev": "b5c04f31-43a2-42e1-b0ed-57844ecde34d",
     "regions": {
      "721c0051-69f8-41b4-9549-ec2beb5bc8c2": {
       "attrs": {
        "height": 0.4,
        "width": 0.8,
        "x": 0.1,
        "y": 0.5
       },
       "content": {
        "cell": "e4a92762-5feb-4853-b8fc-9e41d02352d5",
        "part": "whole"
       },
       "id": "721c0051-69f8-41b4-9549-ec2beb5bc8c2"
      },
      "afb225ca-885b-4406-9ceb-b821aa32ab90": {
       "attrs": {
        "height": 0.8,
        "width": 0.8,
        "x": 0.1,
        "y": 0.1
       },
       "content": {
        "cell": "05538707-91ae-4b92-8f2e-a9f557aeca62",
        "part": "whole"
       },
       "id": "afb225ca-885b-4406-9ceb-b821aa32ab90"
      }
     }
    },
    "1686a7ec-01b4-4796-9664-dd6fcff48a98": {
     "id": "1686a7ec-01b4-4796-9664-dd6fcff48a98",
     "prev": "5df63e7a-7559-4edf-927e-761b7409d56e",
     "regions": {
      "880877b9-e24f-4f68-b9ca-2daf4832a222": {
       "attrs": {
        "height": 0.8,
        "width": 0.8,
        "x": 0.1,
        "y": 0.1
       },
       "content": {
        "cell": "c62eba18-5691-4700-9846-6baa3cb893c0",
        "part": "whole"
       },
       "id": "880877b9-e24f-4f68-b9ca-2daf4832a222"
      }
     }
    },
    "1ccb59b8-f67d-4174-85cd-5b92064bfd24": {
     "id": "1ccb59b8-f67d-4174-85cd-5b92064bfd24",
     "prev": "9a6f1cb8-923d-4962-bc69-49fefb9c19fd",
     "regions": {
      "9b3835f9-f439-4b6b-9cc7-63ea5d553749": {
       "attrs": {
        "height": 0.8,
        "width": 0.8,
        "x": 0.1,
        "y": 0.1
       },
       "content": {
        "cell": "7e0bfdef-e612-4034-b65f-e14e3bcf2583",
        "part": "whole"
       },
       "id": "9b3835f9-f439-4b6b-9cc7-63ea5d553749"
      }
     }
    },
    "296c0a82-12b0-4e41-bdd6-7945b488d956": {
     "id": "296c0a82-12b0-4e41-bdd6-7945b488d956",
     "prev": "f4eed89c-7d8e-488d-b74f-19f6d7abeda1",
     "regions": {
      "9ba1c9e2-0c8d-4169-afeb-a8a6f86ad34d": {
       "attrs": {
        "height": 0.8,
        "width": 0.8,
        "x": 0.1,
        "y": 0.1
       },
       "content": {
        "cell": "588841b8-2ccc-4b33-8bad-f01df6790f78",
        "part": "whole"
       },
       "id": "9ba1c9e2-0c8d-4169-afeb-a8a6f86ad34d"
      }
     }
    },
    "2d756df5-c6c5-4b11-8cad-93038f90f1b9": {
     "id": "2d756df5-c6c5-4b11-8cad-93038f90f1b9",
     "prev": "69510567-0618-4b6a-828e-5db09d4cbe00",
     "regions": {
      "454c4c4f-588a-4cb1-9a71-5def4453d3cf": {
       "attrs": {
        "height": 0.4,
        "width": 0.8,
        "x": 0.1,
        "y": 0.5
       },
       "content": {
        "cell": "7675ccee-acf0-40fa-ac83-8530331e7e08",
        "part": "whole"
       },
       "id": "454c4c4f-588a-4cb1-9a71-5def4453d3cf"
      },
      "99d20333-c211-4cca-930c-71102e324729": {
       "attrs": {
        "height": 0.8,
        "width": 0.8,
        "x": 0.1,
        "y": 0.1
       },
       "content": {
        "cell": "6e8cd4b1-5986-4c2d-bf64-69fe9daf478f",
        "part": "whole"
       },
       "id": "99d20333-c211-4cca-930c-71102e324729"
      }
     }
    },
    "2ee2805e-ee0f-4368-afd8-2db923b5e490": {
     "id": "2ee2805e-ee0f-4368-afd8-2db923b5e490",
     "prev": "da23418a-1c48-4d10-98ce-807f7aedb717",
     "regions": {
      "28ce861f-7a71-49f5-b527-cbb3f3e68666": {
       "attrs": {
        "height": 0.8,
        "width": 0.8,
        "x": 0.1,
        "y": 0.1
       },
       "content": {
        "cell": "66bc2ecf-3354-4d17-ba91-66df54c820af",
        "part": "whole"
       },
       "id": "28ce861f-7a71-49f5-b527-cbb3f3e68666"
      }
     }
    },
    "3240e38f-29e9-4e13-adc6-0dcfa6d37a75": {
     "id": "3240e38f-29e9-4e13-adc6-0dcfa6d37a75",
     "prev": "92d0247f-0c63-4e7f-8a99-f648c0fb53cb",
     "regions": {
      "10444ea4-6424-4e78-843d-7ae01b5a3e1b": {
       "attrs": {
        "height": 0.8,
        "width": 0.8,
        "x": 0.1,
        "y": 0.1
       },
       "content": {
        "cell": "f7661d06-5cdd-4262-a455-59a2a5fdb753",
        "part": "whole"
       },
       "id": "10444ea4-6424-4e78-843d-7ae01b5a3e1b"
      }
     }
    },
    "4043471b-f4cd-4938-ae93-346ab5ae0471": {
     "id": "4043471b-f4cd-4938-ae93-346ab5ae0471",
     "prev": "296c0a82-12b0-4e41-bdd6-7945b488d956",
     "regions": {
      "8ad20be5-9a2c-4ec6-9370-7d4d4c7d25e5": {
       "attrs": {
        "height": 0.8,
        "width": 0.8,
        "x": 0.1,
        "y": 0.1
       },
       "content": {
        "cell": "da2ccf08-2c51-4a30-804c-34ad44b580f3",
        "part": "whole"
       },
       "id": "8ad20be5-9a2c-4ec6-9370-7d4d4c7d25e5"
      }
     }
    },
    "4d4b21f1-0b84-42ec-89ec-a239010437a2": {
     "id": "4d4b21f1-0b84-42ec-89ec-a239010437a2",
     "prev": "1ccb59b8-f67d-4174-85cd-5b92064bfd24",
     "regions": {
      "fb2ebf23-36ad-40e8-9ee3-7deec130f301": {
       "attrs": {
        "height": 0.8,
        "width": 0.8,
        "x": 0.1,
        "y": 0.1
       },
       "content": {
        "cell": "32681175-85b2-4881-963c-17fbf0871c20",
        "part": "whole"
       },
       "id": "fb2ebf23-36ad-40e8-9ee3-7deec130f301"
      }
     }
    },
    "5df63e7a-7559-4edf-927e-761b7409d56e": {
     "id": "5df63e7a-7559-4edf-927e-761b7409d56e",
     "prev": "ee60fc43-4c2c-45e7-bdf2-21a41b3f901d",
     "regions": {
      "44eab4ec-6ab9-4ce2-9c2f-fb6a8ef7ba40": {
       "attrs": {
        "height": 0.8,
        "width": 0.8,
        "x": 0.1,
        "y": 0.1
       },
       "content": {
        "cell": "31922faf-f44d-4973-b6a8-d6aca4849db1",
        "part": "whole"
       },
       "id": "44eab4ec-6ab9-4ce2-9c2f-fb6a8ef7ba40"
      }
     }
    },
    "69510567-0618-4b6a-828e-5db09d4cbe00": {
     "id": "69510567-0618-4b6a-828e-5db09d4cbe00",
     "prev": "02f2ea68-6ad5-45a7-b48e-c2dac726dc1b",
     "regions": {
      "3f4f0e91-23b6-4a72-8b7c-a5f651183d9a": {
       "attrs": {
        "height": 0.8,
        "width": 0.8,
        "x": 0.1,
        "y": 0.1
       },
       "content": {
        "cell": "a416d7e2-a06b-468d-9834-e3b811a03d75",
        "part": "whole"
       },
       "id": "3f4f0e91-23b6-4a72-8b7c-a5f651183d9a"
      }
     }
    },
    "69f945de-f1db-4b97-b11c-f75c936c94dc": {
     "id": "69f945de-f1db-4b97-b11c-f75c936c94dc",
     "prev": "fe83862e-9bb9-47a3-869f-805dc26e9188",
     "regions": {
      "ea689667-4393-43fa-8a2f-955ca52ebe01": {
       "attrs": {
        "height": 0.8,
        "width": 0.8,
        "x": 0.1,
        "y": 0.1
       },
       "content": {
        "cell": "b2fc853f-1f74-4ce3-8de2-eb9c86ab631b",
        "part": "whole"
       },
       "id": "ea689667-4393-43fa-8a2f-955ca52ebe01"
      }
     }
    },
    "734eab91-42e2-4878-a606-879ce86b7f91": {
     "id": "734eab91-42e2-4878-a606-879ce86b7f91",
     "prev": "7d63c671-46b8-40a3-a798-fc680296aad6",
     "regions": {
      "5dc83919-868e-4135-bc9a-a43cc6fe83fd": {
       "attrs": {
        "height": 0.8,
        "width": 0.8,
        "x": 0.1,
        "y": 0.1
       },
       "content": {
        "cell": "f71bc77d-60e8-40e7-b57c-f49413c5845c",
        "part": "whole"
       },
       "id": "5dc83919-868e-4135-bc9a-a43cc6fe83fd"
      }
     }
    },
    "7be73076-069c-415a-a967-a32203cd84cf": {
     "id": "7be73076-069c-415a-a967-a32203cd84cf",
     "prev": "4d4b21f1-0b84-42ec-89ec-a239010437a2",
     "regions": {
      "64ecb34d-9cec-494e-a94d-99b6c84e0452": {
       "attrs": {
        "height": 0.8,
        "width": 0.8,
        "x": 0.1,
        "y": 0.1
       },
       "content": {
        "cell": "ec340b47-49f0-42b9-ac0b-c714c4c47145",
        "part": "whole"
       },
       "id": "64ecb34d-9cec-494e-a94d-99b6c84e0452"
      }
     }
    },
    "7d63c671-46b8-40a3-a798-fc680296aad6": {
     "id": "7d63c671-46b8-40a3-a798-fc680296aad6",
     "prev": null,
     "regions": {
      "cb3a6f8f-c6ba-49b3-a520-8c08e550ee89": {
       "attrs": {
        "height": 0.8,
        "width": 0.8,
        "x": 0.1,
        "y": 0.1
       },
       "content": {
        "cell": "7e5f0ba3-2aab-4514-8a73-9cd9bab4b09e",
        "part": "whole"
       },
       "id": "cb3a6f8f-c6ba-49b3-a520-8c08e550ee89"
      }
     }
    },
    "92d0247f-0c63-4e7f-8a99-f648c0fb53cb": {
     "id": "92d0247f-0c63-4e7f-8a99-f648c0fb53cb",
     "prev": "9be0db2a-5058-4735-8ba3-45da7a40830d",
     "regions": {
      "c9511454-f78b-4fb5-b5cb-50d8864e7588": {
       "attrs": {
        "height": 0.8,
        "width": 0.8,
        "x": 0.1,
        "y": 0.1
       },
       "content": {
        "cell": "08bd2e97-8f20-4d43-8789-b4bdf386b121",
        "part": "whole"
       },
       "id": "c9511454-f78b-4fb5-b5cb-50d8864e7588"
      }
     }
    },
    "97e163bc-a913-4d07-904d-8531b33d556e": {
     "id": "97e163bc-a913-4d07-904d-8531b33d556e",
     "prev": "f496e59b-a304-4bb5-8a80-001890eda4fe",
     "regions": {
      "51ff56a9-ae36-4292-97c6-65232830e60a": {
       "attrs": {
        "height": 0.8,
        "width": 0.8,
        "x": 0.1,
        "y": 0.1
       },
       "content": {
        "cell": "1341c537-d081-44f7-b653-0903a22d3894",
        "part": "whole"
       },
       "id": "51ff56a9-ae36-4292-97c6-65232830e60a"
      }
     }
    },
    "9a6f1cb8-923d-4962-bc69-49fefb9c19fd": {
     "id": "9a6f1cb8-923d-4962-bc69-49fefb9c19fd",
     "prev": "69f945de-f1db-4b97-b11c-f75c936c94dc",
     "regions": {
      "298223a1-ac5b-4562-addc-b0c32737bde2": {
       "attrs": {
        "height": 0.8,
        "width": 0.8,
        "x": 0.1,
        "y": 0.1
       },
       "content": {
        "cell": "6d88ff4c-c8d8-451c-8901-cfb3a2031b0d",
        "part": "whole"
       },
       "id": "298223a1-ac5b-4562-addc-b0c32737bde2"
      }
     }
    },
    "9abe0dbd-e188-415a-9027-04bf039741a0": {
     "id": "9abe0dbd-e188-415a-9027-04bf039741a0",
     "prev": "2ee2805e-ee0f-4368-afd8-2db923b5e490",
     "regions": {
      "798af75b-2be8-4cd0-be37-4874fe6d5750": {
       "attrs": {
        "height": 0.8,
        "width": 0.8,
        "x": 0.1,
        "y": 0.1
       },
       "content": {
        "cell": "859661cf-839c-4597-a911-ea822961c0d6",
        "part": "whole"
       },
       "id": "798af75b-2be8-4cd0-be37-4874fe6d5750"
      }
     }
    },
    "9be0db2a-5058-4735-8ba3-45da7a40830d": {
     "id": "9be0db2a-5058-4735-8ba3-45da7a40830d",
     "prev": "9abe0dbd-e188-415a-9027-04bf039741a0",
     "regions": {
      "c47ed4b9-0461-4e91-8534-2286d5761ae0": {
       "attrs": {
        "height": 0.8,
        "width": 0.8,
        "x": 0.1,
        "y": 0.1
       },
       "content": {
        "cell": "f9d5b1a2-65ec-4351-ad7f-c0383d434d8f",
        "part": "whole"
       },
       "id": "c47ed4b9-0461-4e91-8534-2286d5761ae0"
      }
     }
    },
    "b20a060f-220a-4eeb-a622-7fe9ae7d7cc8": {
     "id": "b20a060f-220a-4eeb-a622-7fe9ae7d7cc8",
     "prev": "ddbcfcc5-02af-4660-b6f2-3678b8442a64",
     "regions": {
      "edc6b7ff-4aaa-4fcd-a8e2-b0336c1cd511": {
       "attrs": {
        "height": 0.8,
        "width": 0.8,
        "x": 0.1,
        "y": 0.1
       },
       "content": {
        "cell": "7aeb41ef-f545-4e2a-99e1-6b5832701720",
        "part": "whole"
       },
       "id": "edc6b7ff-4aaa-4fcd-a8e2-b0336c1cd511"
      }
     }
    },
    "b5c04f31-43a2-42e1-b0ed-57844ecde34d": {
     "id": "b5c04f31-43a2-42e1-b0ed-57844ecde34d",
     "prev": "97e163bc-a913-4d07-904d-8531b33d556e",
     "regions": {
      "c277e0f1-397e-49d1-98e2-301e861526f0": {
       "attrs": {
        "height": 0.8,
        "width": 0.8,
        "x": 0.1,
        "y": 0.1
       },
       "content": {
        "cell": "7686f056-b638-4fec-b01e-4972ae411178",
        "part": "whole"
       },
       "id": "c277e0f1-397e-49d1-98e2-301e861526f0"
      }
     }
    },
    "bfb8eb41-3f02-4072-84f0-883e0f6ef591": {
     "id": "bfb8eb41-3f02-4072-84f0-883e0f6ef591",
     "prev": "2d756df5-c6c5-4b11-8cad-93038f90f1b9",
     "regions": {
      "81323715-2a46-43db-b404-29b018245171": {
       "attrs": {
        "height": 0.8,
        "width": 0.8,
        "x": 0.1,
        "y": 0.1
       },
       "content": {
        "cell": "543abd1b-a6ba-4231-b911-e357ea93e3ae",
        "part": "whole"
       },
       "id": "81323715-2a46-43db-b404-29b018245171"
      }
     }
    },
    "cb36afac-9008-4e7c-bb80-4cd0ccd22789": {
     "id": "cb36afac-9008-4e7c-bb80-4cd0ccd22789",
     "prev": "734eab91-42e2-4878-a606-879ce86b7f91",
     "regions": {
      "4b257da3-8bab-4402-abbf-5a8e2d00b424": {
       "attrs": {
        "height": 0.8,
        "width": 0.8,
        "x": 0.1,
        "y": 0.1
       },
       "content": {
        "cell": "b3ff32d8-5dfe-4de1-bd91-4f833b614c4f",
        "part": "whole"
       },
       "id": "4b257da3-8bab-4402-abbf-5a8e2d00b424"
      }
     }
    },
    "da23418a-1c48-4d10-98ce-807f7aedb717": {
     "id": "da23418a-1c48-4d10-98ce-807f7aedb717",
     "prev": "1686a7ec-01b4-4796-9664-dd6fcff48a98",
     "regions": {
      "c7e5f432-e10e-437c-ae6a-f6eca6c81f0c": {
       "attrs": {
        "height": 0.8,
        "width": 0.8,
        "x": 0.1,
        "y": 0.1
       },
       "content": {
        "cell": "9d576b8a-f8c1-4d00-b2e5-c9999a7cd5cd",
        "part": "whole"
       },
       "id": "c7e5f432-e10e-437c-ae6a-f6eca6c81f0c"
      }
     }
    },
    "ddbcfcc5-02af-4660-b6f2-3678b8442a64": {
     "id": "ddbcfcc5-02af-4660-b6f2-3678b8442a64",
     "prev": "bfb8eb41-3f02-4072-84f0-883e0f6ef591",
     "regions": {
      "be1191ef-d6a0-4870-ab36-9c31f0f6277c": {
       "attrs": {
        "height": 0.8,
        "width": 0.8,
        "x": 0.1,
        "y": 0.1
       },
       "content": {
        "cell": "00457009-74c9-4769-ab63-2724af35125e",
        "part": "whole"
       },
       "id": "be1191ef-d6a0-4870-ab36-9c31f0f6277c"
      }
     }
    },
    "ee60fc43-4c2c-45e7-bdf2-21a41b3f901d": {
     "id": "ee60fc43-4c2c-45e7-bdf2-21a41b3f901d",
     "prev": "cb36afac-9008-4e7c-bb80-4cd0ccd22789",
     "regions": {
      "d5cf8a65-e097-46dd-ae67-16b1084a2198": {
       "attrs": {
        "height": 0.8,
        "width": 0.8,
        "x": 0.1,
        "y": 0.1
       },
       "content": {
        "cell": "397e4c8a-285a-43ba-bb49-49cb86817da1",
        "part": "whole"
       },
       "id": "d5cf8a65-e097-46dd-ae67-16b1084a2198"
      }
     }
    },
    "f496e59b-a304-4bb5-8a80-001890eda4fe": {
     "id": "f496e59b-a304-4bb5-8a80-001890eda4fe",
     "prev": "7be73076-069c-415a-a967-a32203cd84cf",
     "regions": {
      "bf256331-300f-4326-b82a-c14af403d9b6": {
       "attrs": {
        "height": 0.8,
        "width": 0.8,
        "x": 0.1,
        "y": 0.1
       },
       "content": {
        "cell": "40b6f44b-4caa-403d-91cc-3625429bf4a7",
        "part": "whole"
       },
       "id": "bf256331-300f-4326-b82a-c14af403d9b6"
      }
     }
    },
    "f4eed89c-7d8e-488d-b74f-19f6d7abeda1": {
     "id": "f4eed89c-7d8e-488d-b74f-19f6d7abeda1",
     "prev": "3240e38f-29e9-4e13-adc6-0dcfa6d37a75",
     "regions": {
      "12f1fd84-3d79-409b-a6f3-d634a67ff97f": {
       "attrs": {
        "height": 0.8,
        "width": 0.8,
        "x": 0.1,
        "y": 0.1
       },
       "content": {
        "cell": "310e022d-b44f-417b-be6b-3a902b3eb426",
        "part": "whole"
       },
       "id": "12f1fd84-3d79-409b-a6f3-d634a67ff97f"
      }
     }
    },
    "fe83862e-9bb9-47a3-869f-805dc26e9188": {
     "id": "fe83862e-9bb9-47a3-869f-805dc26e9188",
     "prev": "4043471b-f4cd-4938-ae93-346ab5ae0471",
     "regions": {
      "c00687fb-ed96-4976-930d-c7dfc934651e": {
       "attrs": {
        "height": 0.8,
        "width": 0.8,
        "x": 0.1,
        "y": 0.1
       },
       "content": {
        "cell": "1a27ca93-5fe1-476c-82be-79f86cf3baa8",
        "part": "whole"
       },
       "id": "c00687fb-ed96-4976-930d-c7dfc934651e"
      }
     }
    }
   },
   "themes": {
    "default": "0c99f5a0-8fe6-4a35-bcf0-1c761dc68402",
    "theme": {
     "08628237-21bc-49b9-b8c9-0a9983134b3d": {
      "backgrounds": {
       "dc7afa04-bf90-40b1-82a5-726e3cff5267": {
        "background-color": "31af15d2-7e15-44c5-ab5e-e04b16a89eff",
        "id": "dc7afa04-bf90-40b1-82a5-726e3cff5267"
       }
      },
      "id": "08628237-21bc-49b9-b8c9-0a9983134b3d",
      "palette": {
       "19cc588f-0593-49c9-9f4b-e4d7cc113b1c": {
        "id": "19cc588f-0593-49c9-9f4b-e4d7cc113b1c",
        "rgb": [
         252,
         252,
         252
        ]
       },
       "31af15d2-7e15-44c5-ab5e-e04b16a89eff": {
        "id": "31af15d2-7e15-44c5-ab5e-e04b16a89eff",
        "rgb": [
         68,
         68,
         68
        ]
       },
       "50f92c45-a630-455b-aec3-788680ec7410": {
        "id": "50f92c45-a630-455b-aec3-788680ec7410",
        "rgb": [
         197,
         226,
         245
        ]
       },
       "c5cc3653-2ee1-402a-aba2-7caae1da4f6c": {
        "id": "c5cc3653-2ee1-402a-aba2-7caae1da4f6c",
        "rgb": [
         43,
         126,
         184
        ]
       },
       "efa7f048-9acb-414c-8b04-a26811511a21": {
        "id": "efa7f048-9acb-414c-8b04-a26811511a21",
        "rgb": [
         25.118061674008803,
         73.60176211453744,
         107.4819383259912
        ]
       }
      },
      "rules": {
       "a": {
        "color": "19cc588f-0593-49c9-9f4b-e4d7cc113b1c"
       },
       "blockquote": {
        "color": "50f92c45-a630-455b-aec3-788680ec7410",
        "font-size": 3
       },
       "code": {
        "font-family": "Anonymous Pro"
       },
       "h1": {
        "color": "19cc588f-0593-49c9-9f4b-e4d7cc113b1c",
        "font-family": "Merriweather",
        "font-size": 8
       },
       "h2": {
        "color": "19cc588f-0593-49c9-9f4b-e4d7cc113b1c",
        "font-family": "Merriweather",
        "font-size": 6
       },
       "h3": {
        "color": "50f92c45-a630-455b-aec3-788680ec7410",
        "font-family": "Lato",
        "font-size": 5.5
       },
       "h4": {
        "color": "c5cc3653-2ee1-402a-aba2-7caae1da4f6c",
        "font-family": "Lato",
        "font-size": 5
       },
       "h5": {
        "font-family": "Lato"
       },
       "h6": {
        "font-family": "Lato"
       },
       "h7": {
        "font-family": "Lato"
       },
       "li": {
        "color": "50f92c45-a630-455b-aec3-788680ec7410",
        "font-size": 3.25
       },
       "pre": {
        "font-family": "Anonymous Pro",
        "font-size": 4
       }
      },
      "text-base": {
       "color": "19cc588f-0593-49c9-9f4b-e4d7cc113b1c",
       "font-family": "Lato",
       "font-size": 4
      }
     },
     "0c99f5a0-8fe6-4a35-bcf0-1c761dc68402": {
      "backgrounds": {
       "backgroundColor": {
        "background-color": "backgroundColor",
        "id": "backgroundColor"
       }
      },
      "id": "0c99f5a0-8fe6-4a35-bcf0-1c761dc68402",
      "palette": {
       "backgroundColor": {
        "id": "backgroundColor",
        "rgb": [
         253,
         246,
         227
        ]
       },
       "headingColor": {
        "id": "headingColor",
        "rgb": [
         88,
         110,
         117
        ]
       },
       "linkColor": {
        "id": "linkColor",
        "rgb": [
         38,
         139,
         210
        ]
       },
       "mainColor": {
        "id": "mainColor",
        "rgb": [
         101,
         123,
         131
        ]
       }
      },
      "rules": {
       "a": {
        "color": "linkColor"
       },
       "h1": {
        "color": "headingColor",
        "font-family": "Oswald",
        "font-size": 7
       },
       "h2": {
        "color": "headingColor",
        "font-family": "Oswald",
        "font-size": 5
       },
       "h3": {
        "color": "headingColor",
        "font-family": "Oswald",
        "font-size": 3.75
       },
       "h4": {
        "color": "headingColor",
        "font-family": "Oswald",
        "font-size": 3
       },
       "h5": {
        "color": "headingColor",
        "font-family": "Oswald"
       },
       "h6": {
        "color": "headingColor",
        "font-family": "Oswald"
       },
       "h7": {
        "color": "headingColor",
        "font-family": "Oswald"
       },
       "li": {
        "color": "mainColor",
        "font-family": "Lato",
        "font-size": 5
       },
       "p": {
        "color": "mainColor",
        "font-family": "Lato",
        "font-size": 5
       }
      },
      "text-base": {
       "color": "mainColor",
       "font-family": "Lato",
       "font-size": 5
      }
     },
     "2990f581-7b85-4795-abca-4743d47dc124": {
      "backgrounds": {
       "backgroundColor": {
        "background-color": "backgroundColor",
        "id": "backgroundColor"
       }
      },
      "id": "2990f581-7b85-4795-abca-4743d47dc124",
      "palette": {
       "backgroundColor": {
        "id": "backgroundColor",
        "rgb": [
         0,
         43,
         54
        ]
       },
       "headingColor": {
        "id": "headingColor",
        "rgb": [
         238,
         232,
         213
        ]
       },
       "linkColor": {
        "id": "linkColor",
        "rgb": [
         38,
         139,
         210
        ]
       },
       "mainColor": {
        "id": "mainColor",
        "rgb": [
         147,
         161,
         161
        ]
       }
      },
      "rules": {
       "a": {
        "color": "linkColor"
       },
       "h1": {
        "color": "headingColor",
        "font-family": "Oswald",
        "font-size": 7
       },
       "h2": {
        "color": "headingColor",
        "font-family": "Oswald",
        "font-size": 5
       },
       "h3": {
        "color": "headingColor",
        "font-family": "Oswald",
        "font-size": 3.75
       },
       "h4": {
        "color": "headingColor",
        "font-family": "Oswald",
        "font-size": 3
       },
       "h5": {
        "color": "headingColor",
        "font-family": "Oswald"
       },
       "h6": {
        "color": "headingColor",
        "font-family": "Oswald"
       },
       "h7": {
        "color": "headingColor",
        "font-family": "Oswald"
       },
       "li": {
        "color": "mainColor",
        "font-family": "Lato",
        "font-size": 5
       },
       "p": {
        "color": "mainColor",
        "font-family": "Lato",
        "font-size": 5
       }
      },
      "text-base": {
       "color": "mainColor",
       "font-family": "Lato",
       "font-size": 5
      }
     },
     "44d35e87-e4ac-4e24-a3bc-3991e4b5ba38": {
      "backgrounds": {
       "backgroundColor": {
        "background-color": "backgroundColor",
        "id": "backgroundColor"
       }
      },
      "id": "44d35e87-e4ac-4e24-a3bc-3991e4b5ba38",
      "palette": {
       "backgroundColor": {
        "id": "backgroundColor",
        "rgb": [
         256,
         256,
         256
        ]
       },
       "headingColor": {
        "id": "headingColor",
        "rgb": [
         34,
         34,
         34
        ]
       },
       "linkColor": {
        "id": "linkColor",
        "rgb": [
         42,
         118,
         221
        ]
       },
       "mainColor": {
        "id": "mainColor",
        "rgb": [
         34,
         34,
         34
        ]
       }
      },
      "rules": {
       "a": {
        "color": "linkColor"
       },
       "h1": {
        "color": "headingColor",
        "font-family": "Source Sans Pro",
        "font-size": 5.25
       },
       "h2": {
        "color": "headingColor",
        "font-family": "Source Sans Pro",
        "font-size": 4
       },
       "h3": {
        "color": "headingColor",
        "font-family": "Source Sans Pro",
        "font-size": 3.5
       },
       "h4": {
        "color": "headingColor",
        "font-family": "Source Sans Pro",
        "font-size": 3
       },
       "h5": {
        "color": "headingColor",
        "font-family": "Source Sans Pro"
       },
       "h6": {
        "color": "headingColor",
        "font-family": "Source Sans Pro"
       },
       "h7": {
        "color": "headingColor",
        "font-family": "Source Sans Pro"
       },
       "li": {
        "color": "mainColor",
        "font-family": "Source Sans Pro",
        "font-size": 6
       },
       "p": {
        "color": "mainColor",
        "font-family": "Source Sans Pro",
        "font-size": 6
       }
      },
      "text-base": {
       "color": "mainColor",
       "font-family": "Source Sans Pro",
       "font-size": 6
      }
     },
     "52d4efb1-f892-4199-904c-d4a31372da35": {
      "backgrounds": {
       "backgroundColor": {
        "background-color": "backgroundColor",
        "id": "backgroundColor"
       }
      },
      "id": "52d4efb1-f892-4199-904c-d4a31372da35",
      "palette": {
       "backgroundColor": {
        "id": "backgroundColor",
        "rgb": [
         34,
         34,
         34
        ]
       },
       "headingColor": {
        "id": "headingColor",
        "rgb": [
         238,
         238,
         238
        ]
       },
       "linkColor": {
        "id": "linkColor",
        "rgb": [
         170,
         34,
         51
        ]
       },
       "mainColor": {
        "id": "mainColor",
        "rgb": [
         238,
         238,
         238
        ]
       }
      },
      "rules": {
       "a": {
        "color": "linkColor"
       },
       "h1": {
        "color": "headingColor",
        "font-family": "Ubuntu",
        "font-size": 7
       },
       "h2": {
        "color": "headingColor",
        "font-family": "Ubuntu",
        "font-size": 5
       },
       "h3": {
        "color": "headingColor",
        "font-family": "Ubuntu",
        "font-size": 3.75
       },
       "h4": {
        "color": "headingColor",
        "font-family": "Ubuntu",
        "font-size": 3
       },
       "h5": {
        "color": "headingColor",
        "font-family": "Ubuntu"
       },
       "h6": {
        "color": "headingColor",
        "font-family": "Ubuntu"
       },
       "h7": {
        "color": "headingColor",
        "font-family": "Ubuntu"
       },
       "li": {
        "color": "mainColor",
        "font-family": "Ubuntu",
        "font-size": 5
       },
       "p": {
        "color": "mainColor",
        "font-family": "Ubuntu",
        "font-size": 5
       }
      },
      "text-base": {
       "color": "mainColor",
       "font-family": "Ubuntu",
       "font-size": 5
      }
     },
     "5a5d8517-d4b3-4f13-8f03-04777cbd4627": {
      "backgrounds": {
       "backgroundColor": {
        "background-color": "backgroundColor",
        "id": "backgroundColor"
       }
      },
      "id": "5a5d8517-d4b3-4f13-8f03-04777cbd4627",
      "palette": {
       "backgroundColor": {
        "id": "backgroundColor",
        "rgb": [
         17,
         17,
         17
        ]
       },
       "headingColor": {
        "id": "headingColor",
        "rgb": [
         238,
         238,
         238
        ]
       },
       "linkColor": {
        "id": "linkColor",
        "rgb": [
         231,
         173,
         82
        ]
       },
       "mainColor": {
        "id": "mainColor",
        "rgb": [
         238,
         238,
         238
        ]
       }
      },
      "rules": {
       "a": {
        "color": "linkColor"
       },
       "h1": {
        "color": "headingColor",
        "font-family": "Montserrat",
        "font-size": 7
       },
       "h2": {
        "color": "headingColor",
        "font-family": "Montserrat",
        "font-size": 5
       },
       "h3": {
        "color": "headingColor",
        "font-family": "Montserrat",
        "font-size": 3.75
       },
       "h4": {
        "color": "headingColor",
        "font-family": "Montserrat",
        "font-size": 3
       },
       "h5": {
        "color": "headingColor",
        "font-family": "Montserrat"
       },
       "h6": {
        "color": "headingColor",
        "font-family": "Montserrat"
       },
       "h7": {
        "color": "headingColor",
        "font-family": "Montserrat"
       },
       "li": {
        "color": "mainColor",
        "font-family": "Open Sans",
        "font-size": 4
       },
       "p": {
        "color": "mainColor",
        "font-family": "Open Sans",
        "font-size": 4
       }
      },
      "text-base": {
       "color": "mainColor",
       "font-family": "Open Sans",
       "font-size": 4
      }
     },
     "5ae37dac-dcaa-4671-bad5-990d08d91439": {
      "backgrounds": {
       "backgroundColor": {
        "background-color": "backgroundColor",
        "id": "backgroundColor"
       }
      },
      "id": "5ae37dac-dcaa-4671-bad5-990d08d91439",
      "palette": {
       "backgroundColor": {
        "id": "backgroundColor",
        "rgb": [
         34,
         34,
         34
        ]
       },
       "headingColor": {
        "id": "headingColor",
        "rgb": [
         256,
         256,
         256
        ]
       },
       "linkColor": {
        "id": "linkColor",
        "rgb": [
         66,
         175,
         250
        ]
       },
       "mainColor": {
        "id": "mainColor",
        "rgb": [
         256,
         256,
         256
        ]
       }
      },
      "rules": {
       "a": {
        "color": "linkColor"
       },
       "h1": {
        "color": "headingColor",
        "font-family": "Source Sans Pro",
        "font-size": 5.25
       },
       "h2": {
        "color": "headingColor",
        "font-family": "Source Sans Pro",
        "font-size": 4
       },
       "h3": {
        "color": "headingColor",
        "font-family": "Source Sans Pro",
        "font-size": 3.5
       },
       "h4": {
        "color": "headingColor",
        "font-family": "Source Sans Pro",
        "font-size": 3
       },
       "h5": {
        "color": "headingColor",
        "font-family": "Source Sans Pro"
       },
       "h6": {
        "color": "headingColor",
        "font-family": "Source Sans Pro"
       },
       "h7": {
        "color": "headingColor",
        "font-family": "Source Sans Pro"
       },
       "li": {
        "color": "mainColor",
        "font-family": "Source Sans Pro",
        "font-size": 6
       },
       "p": {
        "color": "mainColor",
        "font-family": "Source Sans Pro",
        "font-size": 6
       }
      },
      "text-base": {
       "color": "mainColor",
       "font-family": "Source Sans Pro",
       "font-size": 6
      }
     },
     "815fb993-b253-43b6-a837-e49b7a62dc83": {
      "id": "815fb993-b253-43b6-a837-e49b7a62dc83",
      "palette": {
       "19cc588f-0593-49c9-9f4b-e4d7cc113b1c": {
        "id": "19cc588f-0593-49c9-9f4b-e4d7cc113b1c",
        "rgb": [
         252,
         252,
         252
        ]
       },
       "31af15d2-7e15-44c5-ab5e-e04b16a89eff": {
        "id": "31af15d2-7e15-44c5-ab5e-e04b16a89eff",
        "rgb": [
         68,
         68,
         68
        ]
       },
       "50f92c45-a630-455b-aec3-788680ec7410": {
        "id": "50f92c45-a630-455b-aec3-788680ec7410",
        "rgb": [
         155,
         177,
         192
        ]
       },
       "c5cc3653-2ee1-402a-aba2-7caae1da4f6c": {
        "id": "c5cc3653-2ee1-402a-aba2-7caae1da4f6c",
        "rgb": [
         43,
         126,
         184
        ]
       },
       "efa7f048-9acb-414c-8b04-a26811511a21": {
        "id": "efa7f048-9acb-414c-8b04-a26811511a21",
        "rgb": [
         25.118061674008803,
         73.60176211453744,
         107.4819383259912
        ]
       }
      },
      "rules": {
       "blockquote": {
        "color": "50f92c45-a630-455b-aec3-788680ec7410"
       },
       "code": {
        "font-family": "Anonymous Pro"
       },
       "h1": {
        "color": "c5cc3653-2ee1-402a-aba2-7caae1da4f6c",
        "font-family": "Lato",
        "font-size": 8
       },
       "h2": {
        "color": "c5cc3653-2ee1-402a-aba2-7caae1da4f6c",
        "font-family": "Lato",
        "font-size": 6
       },
       "h3": {
        "color": "50f92c45-a630-455b-aec3-788680ec7410",
        "font-family": "Lato",
        "font-size": 5.5
       },
       "h4": {
        "color": "c5cc3653-2ee1-402a-aba2-7caae1da4f6c",
        "font-family": "Lato",
        "font-size": 5
       },
       "h5": {
        "font-family": "Lato"
       },
       "h6": {
        "font-family": "Lato"
       },
       "h7": {
        "font-family": "Lato"
       },
       "pre": {
        "font-family": "Anonymous Pro",
        "font-size": 4
       }
      },
      "text-base": {
       "font-family": "Merriweather",
       "font-size": 4
      }
     },
     "a3a6747a-8929-4f3d-98a4-0803861905b3": {
      "backgrounds": {
       "backgroundColor": {
        "background-color": "backgroundColor",
        "id": "backgroundColor"
       }
      },
      "id": "a3a6747a-8929-4f3d-98a4-0803861905b3",
      "palette": {
       "backgroundColor": {
        "id": "backgroundColor",
        "rgb": [
         256,
         256,
         256
        ]
       },
       "headingColor": {
        "id": "headingColor",
        "rgb": [
         0,
         0,
         0
        ]
       },
       "linkColor": {
        "id": "linkColor",
        "rgb": [
         0,
         0,
         139
        ]
       },
       "mainColor": {
        "id": "mainColor",
        "rgb": [
         0,
         0,
         0
        ]
       }
      },
      "rules": {
       "a": {
        "color": "linkColor"
       },
       "h1": {
        "color": "headingColor",
        "font-family": "News Cycle",
        "font-size": 7
       },
       "h2": {
        "color": "headingColor",
        "font-family": "News Cycle",
        "font-size": 5
       },
       "h3": {
        "color": "headingColor",
        "font-family": "News Cycle",
        "font-size": 3.75
       },
       "h4": {
        "color": "headingColor",
        "font-family": "News Cycle",
        "font-size": 3
       },
       "h5": {
        "color": "headingColor",
        "font-family": "News Cycle"
       },
       "h6": {
        "color": "headingColor",
        "font-family": "News Cycle"
       },
       "h7": {
        "color": "headingColor",
        "font-family": "News Cycle"
       },
       "li": {
        "color": "mainColor",
        "font-family": "Lato",
        "font-size": 5
       },
       "p": {
        "color": "mainColor",
        "font-family": "Lato",
        "font-size": 5
       }
      },
      "text-base": {
       "color": "mainColor",
       "font-family": "Lato",
       "font-size": 5
      }
     },
     "b7797485-f6c3-45d4-8483-e9e932e3568f": {
      "backgrounds": {
       "backgroundColor": {
        "background-color": "backgroundColor",
        "id": "backgroundColor"
       }
      },
      "id": "b7797485-f6c3-45d4-8483-e9e932e3568f",
      "palette": {
       "backgroundColor": {
        "id": "backgroundColor",
        "rgb": [
         43,
         43,
         43
        ]
       },
       "headingColor": {
        "id": "headingColor",
        "rgb": [
         238,
         238,
         238
        ]
       },
       "linkColor": {
        "id": "linkColor",
        "rgb": [
         19,
         218,
         236
        ]
       },
       "mainColor": {
        "id": "mainColor",
        "rgb": [
         238,
         238,
         238
        ]
       }
      },
      "rules": {
       "a": {
        "color": "linkColor"
       },
       "h1": {
        "color": "headingColor",
        "font-family": "Oswald",
        "font-size": 7
       },
       "h2": {
        "color": "headingColor",
        "font-family": "Oswald",
        "font-size": 5
       },
       "h3": {
        "color": "headingColor",
        "font-family": "Oswald",
        "font-size": 3.75
       },
       "h4": {
        "color": "headingColor",
        "font-family": "Oswald",
        "font-size": 3
       },
       "h5": {
        "color": "headingColor",
        "font-family": "Oswald"
       },
       "h6": {
        "color": "headingColor",
        "font-family": "Oswald"
       },
       "h7": {
        "color": "headingColor",
        "font-family": "Oswald"
       },
       "li": {
        "color": "mainColor",
        "font-family": "Lato",
        "font-size": 5
       },
       "p": {
        "color": "mainColor",
        "font-family": "Lato",
        "font-size": 5
       }
      },
      "text-base": {
       "color": "mainColor",
       "font-family": "Lato",
       "font-size": 5
      }
     },
     "e07cda7b-a230-4153-ac10-95b99a416cc3": {
      "backgrounds": {
       "backgroundColor": {
        "background-color": "backgroundColor",
        "id": "backgroundColor"
       }
      },
      "id": "e07cda7b-a230-4153-ac10-95b99a416cc3",
      "palette": {
       "backgroundColor": {
        "id": "backgroundColor",
        "rgb": [
         247,
         243,
         222
        ]
       },
       "headingColor": {
        "id": "headingColor",
        "rgb": [
         51,
         51,
         51
        ]
       },
       "linkColor": {
        "id": "linkColor",
        "rgb": [
         139,
         116,
         61
        ]
       },
       "mainColor": {
        "id": "mainColor",
        "rgb": [
         51,
         51,
         51
        ]
       }
      },
      "rules": {
       "a": {
        "color": "linkColor"
       },
       "h1": {
        "color": "headingColor",
        "font-family": "Oswald",
        "font-size": 7
       },
       "h2": {
        "color": "headingColor",
        "font-family": "Oswald",
        "font-size": 5
       },
       "h3": {
        "color": "headingColor",
        "font-family": "Oswald",
        "font-size": 3.75
       },
       "h4": {
        "color": "headingColor",
        "font-family": "Oswald",
        "font-size": 3
       },
       "h5": {
        "color": "headingColor",
        "font-family": "Oswald"
       },
       "h6": {
        "color": "headingColor",
        "font-family": "Oswald"
       },
       "h7": {
        "color": "headingColor",
        "font-family": "Oswald"
       },
       "li": {
        "color": "mainColor",
        "font-family": "Lato",
        "font-size": 5
       },
       "p": {
        "color": "mainColor",
        "font-family": "Lato",
        "font-size": 5
       }
      },
      "text-base": {
       "color": "mainColor",
       "font-family": "Lato",
       "font-size": 5
      }
     },
     "ec2105cc-f0a6-4ba6-a659-ad1407daa9ee": {
      "backgrounds": {
       "backgroundColor": {
        "background-color": "backgroundColor",
        "id": "backgroundColor"
       }
      },
      "id": "ec2105cc-f0a6-4ba6-a659-ad1407daa9ee",
      "palette": {
       "backgroundColor": {
        "id": "backgroundColor",
        "rgb": [
         240,
         241,
         235
        ]
       },
       "headingColor": {
        "id": "headingColor",
        "rgb": [
         56,
         61,
         61
        ]
       },
       "linkColor": {
        "id": "linkColor",
        "rgb": [
         81,
         72,
         61
        ]
       },
       "mainColor": {
        "id": "mainColor",
        "rgb": [
         0,
         0,
         0
        ]
       }
      },
      "rules": {
       "a": {
        "color": "linkColor"
       },
       "h1": {
        "color": "headingColor",
        "font-family": "EB Garamond",
        "font-size": 7
       },
       "h2": {
        "color": "headingColor",
        "font-family": "EB Garamond",
        "font-size": 5
       },
       "h3": {
        "color": "headingColor",
        "font-family": "EB Garamond",
        "font-size": 3.75
       },
       "h4": {
        "color": "headingColor",
        "font-family": "EB Garamond",
        "font-size": 3
       },
       "h5": {
        "color": "headingColor",
        "font-family": "EB Garamond"
       },
       "h6": {
        "color": "headingColor",
        "font-family": "EB Garamond"
       },
       "h7": {
        "color": "headingColor",
        "font-family": "EB Garamond"
       },
       "li": {
        "color": "mainColor",
        "font-family": "EB Garamond",
        "font-size": 5
       },
       "p": {
        "color": "mainColor",
        "font-family": "EB Garamond",
        "font-size": 5
       }
      },
      "text-base": {
       "color": "mainColor",
       "font-family": "EB Garamond",
       "font-size": 5
      }
     },
     "f8ef31be-c5e2-4729-a5b0-a845470311fa": {
      "backgrounds": {
       "backgroundColor": {
        "background-color": "backgroundColor",
        "id": "backgroundColor"
       }
      },
      "id": "f8ef31be-c5e2-4729-a5b0-a845470311fa",
      "palette": {
       "backgroundColor": {
        "id": "backgroundColor",
        "rgb": [
         247,
         251,
         252
        ]
       },
       "headingColor": {
        "id": "headingColor",
        "rgb": [
         51,
         51,
         51
        ]
       },
       "linkColor": {
        "id": "linkColor",
        "rgb": [
         59,
         117,
         158
        ]
       },
       "mainColor": {
        "id": "mainColor",
        "rgb": [
         51,
         51,
         51
        ]
       }
      },
      "rules": {
       "a": {
        "color": "linkColor"
       },
       "h1": {
        "color": "headingColor",
        "font-family": "Quicksand",
        "font-size": 7
       },
       "h2": {
        "color": "headingColor",
        "font-family": "Quicksand",
        "font-size": 5
       },
       "h3": {
        "color": "headingColor",
        "font-family": "Quicksand",
        "font-size": 3.75
       },
       "h4": {
        "color": "headingColor",
        "font-family": "Quicksand",
        "font-size": 3
       },
       "h5": {
        "color": "headingColor",
        "font-family": "Quicksand"
       },
       "h6": {
        "color": "headingColor",
        "font-family": "Quicksand"
       },
       "h7": {
        "color": "headingColor",
        "font-family": "Quicksand"
       },
       "li": {
        "color": "mainColor",
        "font-family": "Open Sans",
        "font-size": 5
       },
       "p": {
        "color": "mainColor",
        "font-family": "Open Sans",
        "font-size": 5
       }
      },
      "text-base": {
       "color": "mainColor",
       "font-family": "Open Sans",
       "font-size": 5
      }
     }
    }
   }
  },
  "toc": {
   "nav_menu": {},
   "number_sections": false,
   "sideBar": true,
   "skip_h1_title": false,
   "title_cell": "Table of Contents",
   "title_sidebar": "Contents",
   "toc_cell": false,
   "toc_position": {},
   "toc_section_display": true,
   "toc_window_display": false
  },
  "varInspector": {
   "cols": {
    "lenName": 16,
    "lenType": 16,
    "lenVar": 40
   },
   "kernels_config": {
    "python": {
     "delete_cmd_postfix": "",
     "delete_cmd_prefix": "del ",
     "library": "var_list.py",
     "varRefreshCmd": "print(var_dic_list())"
    },
    "r": {
     "delete_cmd_postfix": ") ",
     "delete_cmd_prefix": "rm(",
     "library": "var_list.r",
     "varRefreshCmd": "cat(var_dic_list()) "
    }
   },
   "types_to_exclude": [
    "module",
    "function",
    "builtin_function_or_method",
    "instance",
    "_Feature"
   ],
   "window_display": false
  }
 },
 "nbformat": 4,
 "nbformat_minor": 1
}
