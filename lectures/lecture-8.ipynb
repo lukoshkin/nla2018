{
 "cells": [
  {
   "cell_type": "markdown",
   "metadata": {
    "slideshow": {
     "slide_type": "slide"
    }
   },
   "source": [
    "# Lecture 8: Symmetric eigenvalue problem and SVD"
   ]
  },
  {
   "cell_type": "markdown",
   "metadata": {
    "slideshow": {
     "slide_type": "slide"
    }
   },
   "source": [
    "## Recap of the previous lecture\n",
    "- QR decomposition and Gram-Schmidt algorithm\n",
    "- Schur decomposition and QR-algorithm (basic)"
   ]
  },
  {
   "cell_type": "markdown",
   "metadata": {
    "slideshow": {
     "slide_type": "slide"
    }
   },
   "source": [
    "## Today's lecture\n",
    "\n",
    "Today we will talk about:\n",
    "\n",
    "- Algorithms for the symmetric eigenvalue problems\n",
    "    - QR algorithm (in more details)\n",
    "    - Divide-and-Conquer\n",
    "    - bisection\n",
    "- Algorithms for SVD computation"
   ]
  },
  {
   "cell_type": "markdown",
   "metadata": {},
   "source": [
    "<font color=\"green\"> **Try to start with this** http://pi.math.cornell.edu/~web6140/TopTenAlgorithms/QRalgorithm.html .</font> It may bring the different view on the QR algorithm\n",
    "Other auxiliary materials:\n",
    "<a id=\"auxiliary\"></a>\n",
    "1. Rayleigh Quotient, Inverse Iteration\n",
    "http://www.cs.cmu.edu/afs/cs/academic/class/15859n-f16/Handouts/TrefethenBau/RayleighQuotient-27.pdf\n",
    "1. Other Eigenvalue Algorithms \n",
    "http://www.cs.cmu.edu/afs/cs/academic/class/15859n-f16/Handouts/TrefethenBau/EigenAlgorithms-30.pdf"
   ]
  },
  {
   "cell_type": "markdown",
   "metadata": {
    "slideshow": {
     "slide_type": "slide"
    }
   },
   "source": [
    "## Schur form computation\n",
    "\n",
    "Recall that we are trying to avoid $\\mathcal{O}(n^4)$ complexity. The idea is to make a matrix have a simpler structure so that each step of QR algorithm becomes cheaper.\n",
    "\n",
    "In case of a general matrix we can use the **Hessenberg form**."
   ]
  },
  {
   "cell_type": "markdown",
   "metadata": {
    "slideshow": {
     "slide_type": "slide"
    }
   },
   "source": [
    "## Hessenberg form\n",
    "\n",
    "The matrix $A$ is said to be in the Hessenberg form, if\n",
    "\n",
    "$$a_{ij} = 0, \\quad \\mbox{if } i \\geq j+2.$$\n",
    "\n",
    "$$H = \\begin{bmatrix} * & * & * & * & * \\\\ * & * & * & * & * \\\\ 0 & * & * & * & *\\\\ 0 & 0 & * & * & *\\\\ 0 & 0 & 0 & * & * \\\\ \\end{bmatrix}.$$"
   ]
  },
  {
   "cell_type": "markdown",
   "metadata": {
    "slideshow": {
     "slide_type": "slide"
    }
   },
   "source": [
    "## Reduction any matrix to Hessenberg form\n",
    "\n",
    "By applying Householder reflections we can reduce any matrix to the Hessenberg form\n",
    "\n",
    "$$U^* A U = H$$\n",
    "\n",
    "The only difference with Schur decomposition is that we have to map the first column to the vector with two non-zeros, and the first element is not changed.\n",
    "\n",
    "The computational cost of such reduction is $\\mathcal{O}(n^3)$ operations.\n",
    "\n",
    "In a Hessenberg form, computation of one iteration of the QR algorithm costs $\\mathcal{O}(n^2)$ operations (e.g. using Givens rotations, how? *- each Givens rotation costs $O(n)$ elmentary operations, since the procedure itself is a multiplication by almost diagonal matrix, where only two off-diagonal entries are non-zero. There are $O(n)$ elements in Hessenberg form to be zeroed, so, in total it takes $O(n^2)$ operations*), and the Hessenberg form is preserved by the QR iteration (check why).\n",
    "\n",
    "*My proof of \"QR preserves Hessenberg form\"*  \n",
    "$\\square$\n",
    "$$\n",
    "    H = QR\\\\\n",
    "    H' = RQ\\\\\n",
    "    Q = HR^{-1} \\quad\\rightarrow\\quad H' = RHR^{-1}\n",
    "$$\n",
    "*$R$ is upper-triangular and $R^{-1}$ is upper-triangular (check the latter in lecture 5)*\n",
    "\n",
    "*The product of an upper triangular and a Hessenberg matrices has the Hessenberg form (in any order):*  \n",
    "$$\n",
    "    i \\gt j + 1: \\quad (RH)_{ij} = \\left(\\sum_{k \\le j + 1} + \\sum_{j + 1 \\lt k \\le i} + \\sum_{k \\gt i}\\right)R_{ik}H_{kj} = \\\\\n",
    "    \\sum_{k \\le j + 1} 0\\cdot H_{kj} + \\sum_{j + 1 \\lt k \\le i} 0\\cdot 0 \\;\\; + \\sum_{k \\gt i}R_{ik}\\cdot 0 = 0\n",
    "$$\n",
    "*I didn't check whether it has zeros even more, on its diagonal, (thus $HR$ is diagonal) or not. Even if it is, upper-triangular matrix is Hessenberg as well, it is just a special case of the Hessenberg form $\\quad\\blacksquare$*"
   ]
  },
  {
   "cell_type": "markdown",
   "metadata": {
    "slideshow": {
     "slide_type": "slide"
    }
   },
   "source": [
    "## Symmetric (Hermitian) case\n",
    "\n",
    "- In the symmetric case, we have $A = A^*$, then $H = H^*$ and the upper Hessenberg form becomes tridiagonal matrix.\n",
    "\n",
    "- From now on we will talk about the case of symmetric tridiagonal form.\n",
    "\n",
    "- Any symmetric (Hermitian) matrix can be reduced to the tridiagonal form by Householder reflections.\n",
    "\n",
    "- Key point is that tridiagonal form is preserved by the QR algorithm, and the cost of one step can be reduced to $\\mathcal{O}(n)$!"
   ]
  },
  {
   "attachments": {},
   "cell_type": "markdown",
   "metadata": {
    "slideshow": {
     "slide_type": "slide"
    }
   },
   "source": [
    "## QR algorithm: iterations\n",
    "\n",
    "The iterations of the QR algorithm have the following form:\n",
    "\n",
    "$$A_k = Q_k R_k, \\quad A_{k+1} = R_k Q_k.$$\n",
    "\n",
    "If $A_0 = A$ is <font color='red'> tridiagonal symmetric matrix </font>, this form is preserved by the QR algorithm.  \n",
    "*(To prove that one may do it in the way we did it before: consider the product of tridiagonal and upper-triangular matrix to convince that it is tridiagonal)*  \n",
    "*Symmetry is shown below (here different notions are used $K$ and $H$ are $A_{k+1}$ and $A_k$ respectively*  \n",
    "<img src=\"./pics/small_proof_lec8.png\" width=70%>\n",
    "Let us see.."
   ]
  },
  {
   "cell_type": "code",
   "execution_count": 48,
   "metadata": {
    "slideshow": {
     "slide_type": "slide"
    }
   },
   "outputs": [
    {
     "data": {
      "text/plain": [
       "array([1.2494975 , 1.96572771, 0.        , 0.        , 0.        ,\n",
       "       0.        , 0.        , 0.        , 0.        , 0.        ,\n",
       "       0.        , 0.        , 0.        , 0.        , 0.        ,\n",
       "       0.        , 0.        , 0.        , 0.        , 0.        ])"
      ]
     },
     "execution_count": 48,
     "metadata": {},
     "output_type": "execute_result"
    },
    {
     "data": {
      "image/png": "[encoded data removed]",
      "text/plain": [
       "<Figure size 432x288 with 1 Axes>"
      ]
     },
     "metadata": {},
     "output_type": "display_data"
    },
    {
     "data": {
      "image/png": "[encoded data removed]",
      "text/plain": [
       "<Figure size 432x288 with 1 Axes>"
      ]
     },
     "metadata": {},
     "output_type": "display_data"
    }
   ],
   "source": [
    "%matplotlib inline\n",
    "import numpy as np\n",
    "import matplotlib.pyplot as plt\n",
    "import seaborn as sns\n",
    "sns.set_style('white')\n",
    "#Generate a random tridiagonal matrix\n",
    "\n",
    "n = 20\n",
    "d = np.random.randn(n)\n",
    "sub_diag = np.random.randn(n-1)\n",
    "\n",
    "mat = np.diag(d) + np.diag(sub_diag, -1) + np.diag(sub_diag, 1)\n",
    "mat1 = np.abs(mat)\n",
    "mat1 = mat1/np.max(mat1.flatten())\n",
    "plt.spy(mat)\n",
    "q, r = np.linalg.qr(mat)\n",
    "plt.figure()\n",
    "b = r.dot(q)\n",
    "b[abs(b) <= 1e-12] = 0\n",
    "plt.spy(b)\n",
    "#plt.figure()\n",
    "#plt.imshow(np.abs(r.dot(q)))\n",
    "b[0, :]"
   ]
  },
  {
   "attachments": {},
   "cell_type": "markdown",
   "metadata": {
    "slideshow": {
     "slide_type": "slide"
    }
   },
   "source": [
    "## Tridiagonal form\n",
    "In the tridiagonal form, you do not have to compute the $Q$ matrix: you only have to compute the **triadiagonal part**\n",
    "that appears after the iterations \n",
    "\n",
    "$$A_k = Q_k R_k, \\quad A_{k+1}  = R_k Q_k,$$\n",
    "\n",
    "in the case when $A_k = A^*_k$ and is also tridiagonal.\n",
    "\n",
    "<img src=\"./pics/qr_prac_example.png\" width=50%>\n",
    "\n",
    "Such matrix is defined by $\\mathcal{O}(n)$ parameters; computation of the QR is more complicated, since we also have to compute the product of Givens matrices $G_n\\ldots G_2 = Q_k$\n",
    "but as we see it is possible to compute $A_{k+1}$ ($\\tilde{A}$ in the photo) directly.\n",
    "\n",
    "This is called **implicit QR-step**."
   ]
  },
  {
   "cell_type": "markdown",
   "metadata": {
    "slideshow": {
     "slide_type": "slide"
    }
   },
   "source": [
    "## Shifts and power method\n",
    "\n",
    "Remember the power method for the computation of the eigenvalues.\n",
    "\n",
    "$$x_{k+1} := A x_k, \\quad x_{k+1} := \\frac{x_{k+1}}{\\Vert x_{k+1} \\Vert}.$$\n",
    "\n",
    "It converges to the eigenvector corresponding to the largest eigenvalue in modulus. \n",
    "\n",
    "The convergence can be very slow.\n",
    "\n",
    "Let us try to use shifting strategy. If we shift the matrix as \n",
    "\n",
    "$$  A := A - \\lambda_k I.$$\n",
    "\n",
    "and the corresponding eigenvalue becomes small (but we need large:*if we are looking for $k$-th eigenvalue and its eigenvector we need to make it bigger than all the other eigenvalues*). That is not what we wanted."
   ]
  },
  {
   "cell_type": "markdown",
   "metadata": {
    "slideshow": {
     "slide_type": "slide"
    }
   },
   "source": [
    "## Inverse iteration and Rayleigh quotient iteration\n",
    "\n",
    "To make a small eigenvalue large, we need to **invert the matrix**, and that gives us **inverse iteration**\n",
    "\n",
    "$$x_{k+1} = (A - \\lambda I)^{-1} x_k,$$\n",
    "\n",
    "where $\\lambda$ is the shift which is approximation to the eigenvalue that we want. As it was for the power method, the convegence is linear.\n",
    "\n",
    "To accelerate convergence one can use the **Rayleigh quotient iteration** (inverse iteration with adaptive shifts) which is given by the selection of the **adaptive shift**:\n",
    "\n",
    "$$x_{k+1} = (A - \\lambda_k I)^{-1} x_k,$$\n",
    "$$\\lambda_k = \\frac{(Ax_k, x_k)}{(x_k, x_k)}$$\n",
    "\n",
    "In the symmetric case $A = A^*$ the convergence is **locally cubic** and **locally quadratic** otherwise."
   ]
  },
  {
   "cell_type": "markdown",
   "metadata": {
    "slideshow": {
     "slide_type": "slide"
    }
   },
   "source": [
    "## Singular values and eigenvalues (1)\n",
    "\n",
    "Now let us talk about singular values and eigenvalues. \n",
    "\n",
    "SVD: $$A = U \\Sigma V^*$$\n",
    "\n",
    "exists for any matrix.\n",
    "\n",
    "It can be also viewed as a reduction of a given matrix to the diagonal form by means of \n",
    "\n",
    "two-sided unitary transformations:\n",
    "\n",
    "$$\\Sigma = U^* A V.$$\n",
    "\n",
    "By two-sided Householder transformation we can reduce any matrix to the **bidiagonal form** $B$."
   ]
  },
  {
   "cell_type": "markdown",
   "metadata": {
    "slideshow": {
     "slide_type": "slide"
    }
   },
   "source": [
    "## Singular values and eigenvalues (2)\n",
    "\n",
    "**Implicit QR-algorithm** (with shifts) gives the way of computing the eigenvalues (and Schur form).\n",
    "But we cannot apply QR algorithm directly to the bidiagonal matrix, as it is not diagonalizable in general case.\n",
    "\n",
    "However, the problem of the computation of the SVD can be reduced to the **symmetric eigenvalue problem** in two ways:\n",
    "\n",
    "1. Work with the tridiagonal matrix \n",
    "\n",
    "$$T = B^* B$$ \n",
    "\n",
    "2. Work with the extended matrix $$T = \\begin{bmatrix} 0 & B \\\\ B^* & 0 \\end{bmatrix}$$\n",
    "\n",
    "*It is easy to see that in both cases $T^* = T$. Thus for both $T^*T = TT^*$ so T is normal and, hence, diagonalizable.*\n",
    "\n",
    "\n",
    "\n",
    "The case 1 is OK if you **do not form T directly**!\n",
    "\n",
    "Thus, the problem of computing singular values can be reduced to the problem of the computation of the eigenvalues of symmetric tridiagonal matrix."
   ]
  },
  {
   "cell_type": "markdown",
   "metadata": {
    "slideshow": {
     "slide_type": "slide"
    }
   },
   "source": [
    "## Algorithms for the SEV  (symmetric eigenvalue problem)\n",
    "\n",
    "Done:\n",
    "- QR algorithm: the \"gold standard\" of the eigenvalue computations\n",
    "- RQI-iteration: Rayleigh quotient iteration is implicitly performed at each step of the QR algorithm\n",
    "\n",
    "Next slides:\n",
    "- Divide-and-conquer: the fastest (?) nowdays\n",
    "- Bisection method\n",
    "- Jacobi method"
   ]
  },
  {
   "cell_type": "markdown",
   "metadata": {
    "slideshow": {
     "slide_type": "slide"
    }
   },
   "source": [
    "## Divide-and-conquer\n",
    "\n",
    "Suppose we have a tridiagonal matrix, and we split it into two blocks:\n",
    "\n",
    "\n",
    "$$T = \\begin{bmatrix} T'_1 & B \\\\ B^{\\top} & T'_2 \\end{bmatrix}$$\n",
    "\n",
    "*Here $B = \\begin{bmatrix} 0 & b_m \\\\ O & 0 \\end{bmatrix}$*\n",
    "\n",
    "We can write the matrix $T$ as\n",
    "\n",
    "$$T = \\begin{bmatrix} T_1 & 0 \\\\ 0 & T_2 \\end{bmatrix} + b_m v v^*$$\n",
    "\n",
    "where $vv^*$ is rank 1 matrix, $v = (0,\\dots,0,1,1,0,\\dots,0)^T$.\n",
    "\n",
    "*So,* $b_mvv^* = \\begin{matrix}\n",
    "             & \\begin{matrix} \n",
    "             & & \\tiny{m} & \\tiny{m+1} & &\n",
    "             \\end{matrix} &\\\\\n",
    "              & \\begin{bmatrix} \n",
    "                & &\\vdots&\\vdots& &\\\\\n",
    "                \\ldots& & b_m & b_m & &\\ldots\\\\ \n",
    "                \\ldots& & b_m & b_m & &\\ldots\\\\ \n",
    "                & & \\vdots&\\vdots& & \n",
    "            \\end{bmatrix} & {\\tiny{m}\\\\ \\tiny{m+1}}\n",
    "            \\end{matrix}$   \n",
    "\n",
    "Suppose we have decomposed $T_1$ and $T_2$ already:\n",
    "\n",
    "$$T_1 = Q_1 \\Lambda_1 Q^*_1, \\quad T_2 = Q_2 \\Lambda_2 Q^*_2$$\n",
    "\n",
    "Then (check),\n",
    "\n",
    "*Imposed notions: $\\mathbf{q_{1_m}}$ - $m$-th column vector of $Q_1$  \n",
    "                  $\\;\\;\\quad\\qquad\\qquad\\mathbf{q_{2_1}^*}$ - 1st row-vector of $Q_2$*\n",
    "\n",
    "$$\\begin{bmatrix} Q^*_1 & 0 \\\\ 0 & Q^*_2 \\end{bmatrix} T\\begin{bmatrix} Q_1 & 0 \\\\ 0 & Q_2 \\end{bmatrix} = D + \\rho u u^{*}, \\quad D = \\begin{bmatrix} \\Lambda_1 & 0 \\\\ 0 & \\Lambda_2\\end{bmatrix}$$\n",
    "\n",
    "$$\n",
    "\\begin{bmatrix} \n",
    "    Q^*_1 & 0 \\\\ \n",
    "    0 & Q^*_2 \n",
    "\\end{bmatrix} \n",
    "\\left(\\begin{bmatrix} T_1 & 0 \\\\ \n",
    "                       0 & T_2 \\end{bmatrix} + b_m v v^*)\\right)\n",
    "\\begin{bmatrix} \n",
    "    Q_1 & 0 \\\\ \n",
    "    0 & Q_2 \n",
    "\\end{bmatrix} = \\\\\n",
    "\\begin{bmatrix} \n",
    "    Q^*_1T_1 & 0 \\\\ \n",
    "    0 & Q^*_2T_2 \n",
    "\\end{bmatrix} \n",
    "\\begin{bmatrix} \n",
    "    Q_1 & 0 \\\\ \n",
    "    0 & Q_2 \n",
    "\\end{bmatrix}\n",
    "+\n",
    "\\begin{bmatrix} \n",
    "    &\\vdots &b_m\\mathbf{q_{1_m}}&b_m\\mathbf{q_{1_m}}&\\vdots \\\\\n",
    "    \\ldots & & & & &\\ldots\\\\\n",
    "    &\\vdots & b_m\\mathbf{q_{2_1}} & b_m\\mathbf{q_{2_1}}&\\vdots& \n",
    "\\end{bmatrix}\n",
    "\\begin{bmatrix} \n",
    "    Q_1 & 0 \\\\ \n",
    "    0 & Q_2 \n",
    "\\end{bmatrix}\n",
    "=\\\\\n",
    "\\begin{bmatrix} \n",
    "    Q^*_1T_1Q_1 & 0 \\\\ \n",
    "    0 & Q^*_2T_2Q_2\n",
    "\\end{bmatrix} \n",
    "+\n",
    "\\begin{bmatrix} \n",
    "    b_m\\mathbf{q_{1_m}q_{1_m}^*}&b_m\\mathbf{q_{1_m}q_{2_1}^*} \\\\\n",
    "    b_m\\mathbf{q_{2_1}q_{1_m}^*} & b_m\\mathbf{q_{2_1}q_{2_1}^*} \n",
    "\\end{bmatrix}\n",
    "=\\\\\n",
    "\\begin{bmatrix} \n",
    "    \\Lambda_1 & \\\\ \n",
    "     & \\Lambda_2\n",
    "\\end{bmatrix} \n",
    "+\n",
    "\\underbrace{b_m}_{\\rho}\\underbrace{\\begin{bmatrix} \n",
    "    \\mathbf{q_{1_m}}\\\\ \n",
    "    \\mathbf{q_{2_1}}\\end{bmatrix} [\\mathbf{q_{1_m}^*}\\mathbf{q_{2_1}^*}]}_{uu^*}\n",
    "$$\n",
    "\n",
    "*A change of basis (one can think of simialar matrices as the same transformation in different bases) doesn't change the rank of a matrix, so $uu^*$ has the same rank as $vv^*$, i.e. $1$*\n",
    "\n",
    "I.e. we have reduced the problem to the problem of the computation of the eigenvalues of \n",
    "\n",
    "\n",
    "<font color='red'> diagonal plus low-rank matrix </font>\n",
    "\n"
   ]
  },
  {
   "cell_type": "code",
   "execution_count": 46,
   "metadata": {},
   "outputs": [
    {
     "name": "stdout",
     "output_type": "stream",
     "text": [
      "Resulting matrix\n",
      " [[ 0.00788296 -0.03168453 -0.08256459  0.06190706 -0.04526998  0.04473374]\n",
      " [-0.03168453  0.1273518   0.33185751 -0.24882728  0.18195673 -0.17980138]\n",
      " [-0.08256459  0.33185751  0.86476524 -0.64840231  0.47414883 -0.46853235]\n",
      " [ 0.06190706 -0.24882728 -0.64840231  0.48617306 -0.35551753  0.35130628]\n",
      " [-0.04526998  0.18195673  0.47414883 -0.35551753  0.25997474 -0.25689523]\n",
      " [ 0.04473374 -0.17980138 -0.46853235  0.35130628 -0.25689523  0.2538522 ]]\n",
      "Rank of the resulting matrix is: 1\n"
     ]
    }
   ],
   "source": [
    "# my cell\n",
    "#------ numerical test ------\n",
    "import numpy as np\n",
    "\n",
    "A1,A2 = np.split(np.random.rand(3 * 6).reshape(3,6),2,axis=1)\n",
    "O = np.zeros_like(A1)\n",
    "Q1,_ = np.linalg.qr(A1)\n",
    "Q2,_ = np.linalg.qr(A2)\n",
    "bvvh = np.zeros((6,6))\n",
    "bvvh[2:4,2:4] = np.ones(4).reshape(2,2)\n",
    "Qblo = np.block([[Q1,O],[O,Q2]])\n",
    "rouuh = Qblo.T @ B @ Qblo\n",
    "print(\"Resulting matrix\\n\",rouuh)\n",
    "print(\"Rank of the resulting matrix is:\",np.linalg.matrix_rank(rouuh))"
   ]
  },
  {
   "cell_type": "markdown",
   "metadata": {
    "slideshow": {
     "slide_type": "slide"
    }
   },
   "source": [
    "## Diagonal-plus-low-rank matrix\n",
    "\n",
    "It is tricky to compute the eigenvalues of the matrix\n",
    "\n",
    "$$D + \\rho u u^* $$\n",
    "\n",
    "The characteristic polynomial has the form\n",
    "\n",
    "$$\\det(D + \\rho uu^* - \\lambda I) = \\det(D - \\lambda I)\\det(I + \\rho (D - \\lambda I)^{-1} uu^*) = 0.$$\n",
    "\n",
    "Then (prove!!) \n",
    "\n",
    "$$\\det(I + \\rho (D - \\lambda I)^{-1} uu^*) = 1 + \\rho \\sum_{i=1}^n \\frac{|u_i|^2}{d_i - \\lambda} = 0$$\n",
    "\n",
    "Hint: find $\\det(I + w u^*)$ using the fact that $\\text{det}(C) = \\prod_{i=1}^n\\lambda_i(C)$ and $\\text{trace}(C) = \\sum_{i=1}^n \\lambda_i$.  \n",
    "*I proved it on the midterm test. Also, you may find sketch of proof in my Vk library*"
   ]
  },
  {
   "cell_type": "markdown",
   "metadata": {
    "slideshow": {
     "slide_type": "slide"
    }
   },
   "source": [
    "## Characteristic equation\n",
    "\n",
    "$$1 + \\rho \\sum_{i=1}^n \\frac{|u_i|^2}{d_i - \\lambda} = 0$$\n",
    "\n",
    "How to find the roots?"
   ]
  },
  {
   "cell_type": "code",
   "execution_count": 49,
   "metadata": {
    "slideshow": {
     "slide_type": "slide"
    }
   },
   "outputs": [
    {
     "data": {
      "text/plain": [
       "Text(0.5,1,'Plot of the function')"
      ]
     },
     "execution_count": 49,
     "metadata": {},
     "output_type": "execute_result"
    },
    {
     "data": {
      "image/png": "[encoded data removed]",
      "text/plain": [
       "<Figure size 432x288 with 1 Axes>"
      ]
     },
     "metadata": {},
     "output_type": "display_data"
    }
   ],
   "source": [
    "import numpy as np\n",
    "\n",
    "lm = [1, 2, 3, 4]\n",
    "M = len(lm)\n",
    "D = np.array(lm)\n",
    "a = np.min(lm)\n",
    "b = np.max(lm)\n",
    "t = np.linspace(-1, 6, 1000)\n",
    "u = 0.5 * np.ones(M)\n",
    "rho = 1\n",
    "def fun(lam):\n",
    "    return 1 + rho * np.sum(u**2/(D - lam))\n",
    "res = [fun(lam) for lam in t]\n",
    "plt.plot(res, 'k')\n",
    "plt.ylim([-6, 6])\n",
    "plt.tight_layout()\n",
    "plt.title('Plot of the function')"
   ]
  },
  {
   "cell_type": "markdown",
   "metadata": {
    "slideshow": {
     "slide_type": "slide"
    }
   },
   "source": [
    "The function has only one root at $[d_i, d_{i+1}]$\n",
    "\n",
    "We have proved, by the way, the **Cauchy interlacing theorem** (what happens to the eigenvalues under rank-$1$ perturbation)"
   ]
  },
  {
   "cell_type": "markdown",
   "metadata": {
    "slideshow": {
     "slide_type": "slide"
    }
   },
   "source": [
    "## How to find the root\n",
    "\n",
    "A Newton method will fail (draw a picture with a tangent line).\n",
    "\n",
    "Note that Newton method is just approximation of a function $f(\\lambda)$ by a linear function.\n",
    "\n",
    "Much better approximation is the **hyperbola**:\n",
    "\n",
    "$$f(\\lambda) \\approx c_0 + \\frac{c_1}{d_i - \\lambda} + \\frac{c_2}{d_{i+1} - \\lambda}.$$\n",
    "\n",
    "To fit the coefficients, we have to evaluate $f(\\lambda)$ and $f'(\\lambda)$ in the particular point.\n",
    "\n",
    "After that, the approximation can be recovered from solving **quadratic equation**\n",
    "\n",
    "\n"
   ]
  },
  {
   "cell_type": "markdown",
   "metadata": {
    "slideshow": {
     "slide_type": "slide"
    }
   },
   "source": [
    "## Important issues\n",
    "\n",
    "First, stability: This method was abandoned for a long time due to instability of the computation of the eigenvectors.\n",
    "\n",
    "In the recursion, we need to compute the eigenvectors of the $D + \\rho uu^*$ matrix.\n",
    "\n",
    "The exact expression for the eigenvectors is  just (let us check!)\n",
    "\n",
    "$$(D - \\alpha_i I)^{-1}u,$$ where $\\alpha_i$ is the computed root."
   ]
  },
  {
   "cell_type": "markdown",
   "metadata": {
    "slideshow": {
     "slide_type": "slide"
    }
   },
   "source": [
    "## Lowner theorem\n",
    "\n",
    "The solution is to use a strange **Lowner theorem:**\n",
    "\n",
    "If $\\alpha_i$ and $d_i$ satisfy the **interlacing theorem** \n",
    "\n",
    "\n",
    "$$d_n < \\alpha_n < \\ldots < d_{i+1} < \\alpha_{i+1} \\ldots$$\n",
    "\n",
    "Then there exists a vector $\\widehat{u}$ such that $\\alpha_i$ are exact eigenvalues of the matrix\n",
    "\n",
    "$$\\widehat{D} = D + \\widehat{u} \\widehat{u}^*.$$\n",
    "\n",
    "So, you first compute the eigenvalues, then compute $\\widehat{u}$ and only then the eigenvectors."
   ]
  },
  {
   "cell_type": "markdown",
   "metadata": {
    "slideshow": {
     "slide_type": "slide"
    }
   },
   "source": [
    "## Divide and conquer and the Fast Multipole Method\n",
    "\n",
    "In the computations of divide and conquer we have to evaluate the sums of the form\n",
    "\n",
    "$$f(\\lambda) = 1 + \\rho \\sum_{i=1}^n \\frac{|u_i|^2}{(d_i - \\lambda)},$$\n",
    "\n",
    "and have to do it at least for $n$ points. \n",
    "\n",
    "- The complexity is then $\\mathcal{O}(n^2)$, as for the QR algorithm.\n",
    "\n",
    "- Can we make it $\\mathcal{O}(n \\log n)$? \n",
    "\n",
    "- The answer is yes, but we have to replace the computations by the approximate ones\n",
    "by the help of **Fast Multipole Method**.\n",
    "\n",
    "I will do a short explanation on the whiteboard."
   ]
  },
  {
   "cell_type": "markdown",
   "metadata": {
    "slideshow": {
     "slide_type": "slide"
    }
   },
   "source": [
    "## Few more algorithms\n",
    "\n",
    "Absolutely different approach is based on the **bisection**.  \n",
    "(See how it works in detail [here](#auxiliary))\n",
    "\n",
    "Given a matrix $A$ its inertia is defined as a triple $(\\nu, \\zeta, \\pi)$,  \n",
    "where $\\nu$ is the number of negative, $\\zeta$ - zero and $\\pi$ - positive eigenvalues. \n",
    "\n",
    "If $X$ is non-singular, then \n",
    "\n",
    "$$\\mathrm{Inertia}(A) = \\mathrm{Inertia}(X^* A X)$$"
   ]
  },
  {
   "cell_type": "markdown",
   "metadata": {
    "slideshow": {
     "slide_type": "slide"
    }
   },
   "source": [
    "## Bisection via Gaussian elimination\n",
    "\n",
    "Given $z$ we can do the Gaussian elimination:\n",
    "\n",
    "$$A - zI = L D L^*,$$\n",
    "\n",
    "and inertia of the diagonal matrix is trivial to compute.\n",
    "\n",
    "Thus, if we want to find all the eigenvalues in the interval $a$, $b$\n",
    "\n",
    "Using inertia, we can easily count the number of eigenvalues in an interval. <br>\n",
    "Illustration: if $\\mathrm{Inertia}(A)=(5,0,2)$ and after shift $\\mathrm{Inertia}(A-zI)=(4,0,3)$, $z\\in[a,b]$ then we know that $\\lambda(A)\\in[a,z]$."
   ]
  },
  {
   "cell_type": "markdown",
   "metadata": {
    "slideshow": {
     "slide_type": "slide"
    }
   },
   "source": [
    "## Jacobi method\n",
    "\n",
    "Recall what a Jacobi (Givens rotations) are:\n",
    "\n",
    "In a plane they correspond to a $2 \\times 2$ orthogonal matrix of the form\n",
    "\n",
    "$$\\begin{pmatrix} \\cos \\phi & \\sin \\phi \\\\ -\\sin \\phi & \\cos \\phi \\end{pmatrix},$$\n",
    "\n",
    "and in the $n$-dimensional case we select two variables $i$ and $j$ and rotate."
   ]
  },
  {
   "cell_type": "markdown",
   "metadata": {
    "slideshow": {
     "slide_type": "slide"
    }
   },
   "source": [
    "## Jacobi method (cont.)\n",
    "\n",
    "The idea of the Jacobi method is to minimize sum of squares of off-diagonal elements:\n",
    "\n",
    "$$\\Gamma(A) = \\mathrm{off}( U^* A U), \\quad \\mathrm{off}^2(X) = \\sum_{i \\ne j} \\left|X_{ij}\\right|^2 = \\|X \\|^2_F - \\sum\\limits_{i=1}^n x^2_{ii}.$$\n",
    "\n",
    "by applying succesive Jacobi rotations $U$ to zero off-diagonal elements. \n",
    "\n",
    "When the \"pivot\" is chosen, it is easy to eliminate it. \n",
    "\n",
    "The main question is then what is the order of **sweeps** we have to make (i.e. in which order to eliminate).\n",
    "\n",
    "If we always eliminate the largest off-diagonal elements the method has quadratic convergence.\n",
    "\n",
    "In practice, a cyclic order (i.e., $(1, 2), (1, 3), \\ldots, (2, 3), \\ldots$) is used."
   ]
  },
  {
   "cell_type": "markdown",
   "metadata": {
    "slideshow": {
     "slide_type": "slide"
    }
   },
   "source": [
    "## Jacobi method: convergence\n",
    "\n",
    "To show convergence, we firstly show that \n",
    "$$\n",
    "\\text{off}(B) < \\text{off}(A),\n",
    "$$\n",
    "where $B = U^*AU$.\n",
    "\n",
    "In this case we use the unitary invariance of Frobenius norm and denote by $p$ and $q$ the indices that is changed after rotation:\n",
    "\n",
    "$ \\Gamma^2(A) = \\text{off}^2(B) =  \\|B\\|^2_F - \\sum\\limits_{i=1}^n b^2_{ii} = \\| A \\|^2_F - \\sum\\limits_{i \\neq p, q} b^2_{ii} - (b^2_{pp} + b^2_{qq}) = \\| A \\|^2_F - \\sum\\limits_{i \\neq p, q} a^2_{ii} - (a^2_{pp} + 2a^2_{pq} + a^2_{qq}) = \\| A \\|^2_F - \\sum\\limits_{i =1}^n a^2_{ii} - 2a^2_{pq} = \\text{off}^2(A) - 2a^2_{pq} < \\text{off}^2(A)$\n",
    "\n",
    "We show that the ''size'' of off-diagonal elements decreases after Jacobi rotation.\n",
    "\n",
    "If we always select the largest off-diagonal element $a_{pq} = \\gamma$ to eliminate (pivot), then we have\n",
    "\n",
    "$$\n",
    "|a_{ij}| \\leq \\gamma,\n",
    "$$\n",
    "\n",
    "thus  \n",
    "\n",
    "$$\n",
    "\\text{off}(A)^2 \\leq 2 N \\gamma^2,\n",
    "$$\n",
    "\n",
    "where $2N = n(n-1)$ is the number of off-diagonal elements.\n",
    "Or rewrite this inequality in the form\n",
    "\n",
    "$$2\n",
    "\\gamma^2 \\geq \\frac{\\text{off}^2(A)}{N}.\n",
    "$$\n",
    "Now we use relations $\\Gamma^2(A) = \\text{off}^2(A) - 2\\gamma^2 \\leq \\text{off}^2(A) - \\dfrac{\\text{off}^2(A)}{N}$ and get\n",
    "$$\n",
    "\\Gamma(A) \\leq \\sqrt{\\left(1 - \\frac{1}{N}\\right)} \\text{off}(A).\n",
    "$$\n",
    "\n",
    "Aften $K$ steps we have the factor\n",
    "\n",
    "$$\\left(1 - \\frac{1}{N}\\right)^{\\frac{K}{2}} \\approx e^{-\\frac{1}{2}},$$\n",
    "\n",
    "i.e. linear convergence. However, the convergence is locally quadratic (given without proof here)."
   ]
  },
  {
   "cell_type": "markdown",
   "metadata": {
    "slideshow": {
     "slide_type": "slide"
    }
   },
   "source": [
    "## Jacobi: summary\n",
    "\n",
    "Jacobi method was the first numerical method for the eigenvalues, proposed in 1846.\n",
    "\n",
    "- Large constant\n",
    "- Very accurate (high relative error for small eigenvalues)\n",
    "- Good parallel capabilities"
   ]
  },
  {
   "cell_type": "markdown",
   "metadata": {
    "slideshow": {
     "slide_type": "slide"
    }
   },
   "source": [
    "## Summary for this part\n",
    "- Many algorithms for the computation of the SEV solution (QR, Divide-and-conquer, bisection, Jacobi)"
   ]
  },
  {
   "cell_type": "markdown",
   "metadata": {
    "slideshow": {
     "slide_type": "slide"
    }
   },
   "source": [
    "## Summary of todays lecture\n",
    "\n",
    "- Algorithms for symmetric eigenvalue problems"
   ]
  },
  {
   "cell_type": "markdown",
   "metadata": {
    "slideshow": {
     "slide_type": "slide"
    }
   },
   "source": [
    "## Next lecture\n",
    "- We start **sparse and/or structured** NLA."
   ]
  },
  {
   "cell_type": "markdown",
   "metadata": {
    "slideshow": {
     "slide_type": "slide"
    }
   },
   "source": [
    "# Questions?"
   ]
  }
 ],
 "metadata": {
  "anaconda-cloud": {},
  "celltoolbar": "Slideshow",
  "kernelspec": {
   "display_name": "Python 3",
   "language": "python",
   "name": "python3"
  },
  "language_info": {
   "codemirror_mode": {
    "name": "ipython",
    "version": 3
   },
   "file_extension": ".py",
   "mimetype": "text/x-python",
   "name": "python",
   "nbconvert_exporter": "python",
   "pygments_lexer": "ipython3",
   "version": "3.7.7"
  },
  "latex_envs": {
   "LaTeX_envs_menu_present": true,
   "bibliofile": "biblio.bib",
   "cite_by": "apalike",
   "current_citInitial": 1,
   "eqLabelWithNumbers": true,
   "eqNumInitial": 1,
   "labels_anchors": false,
   "latex_user_defs": false,
   "report_style_numbering": false,
   "user_envs_cfg": false
  },
  "nav_menu": {},
  "toc": {
   "base_numbering": 1,
   "nav_menu": {},
   "number_sections": false,
   "sideBar": true,
   "skip_h1_title": false,
   "title_cell": "Table of Contents",
   "title_sidebar": "Contents",
   "toc_cell": false,
   "toc_position": {},
   "toc_section_display": "block",
   "toc_window_display": false
  }
 },
 "nbformat": 4,
 "nbformat_minor": 1
}
